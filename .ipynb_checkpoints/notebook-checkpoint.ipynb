{
 "cells": [
  {
   "cell_type": "markdown",
   "id": "6edb1dbe-20ad-49d3-aabf-27a0438da7e0",
   "metadata": {},
   "source": [
    "# Imports"
   ]
  },
  {
   "cell_type": "code",
   "execution_count": 78,
   "id": "da1f9faa-0b09-464c-8c8c-b603e2ba0db0",
   "metadata": {
    "collapsed": true,
    "jupyter": {
     "outputs_hidden": true
    }
   },
   "outputs": [
    {
     "name": "stdout",
     "output_type": "stream",
     "text": [
      "Requirement already satisfied: gymnasium[other] in /home/timohavdk/miniconda3/envs/gym/lib/python3.11/site-packages (1.1.1)\n",
      "Requirement already satisfied: numpy>=1.21.0 in /home/timohavdk/miniconda3/envs/gym/lib/python3.11/site-packages (from gymnasium[other]) (2.1.3)\n",
      "Requirement already satisfied: cloudpickle>=1.2.0 in /home/timohavdk/miniconda3/envs/gym/lib/python3.11/site-packages (from gymnasium[other]) (3.1.1)\n",
      "Requirement already satisfied: typing-extensions>=4.3.0 in /home/timohavdk/miniconda3/envs/gym/lib/python3.11/site-packages (from gymnasium[other]) (4.13.0)\n",
      "Requirement already satisfied: farama-notifications>=0.0.1 in /home/timohavdk/miniconda3/envs/gym/lib/python3.11/site-packages (from gymnasium[other]) (0.0.4)\n",
      "Collecting moviepy>=1.0.0 (from gymnasium[other])\n",
      "  Using cached moviepy-2.1.2-py3-none-any.whl.metadata (6.9 kB)\n",
      "Requirement already satisfied: matplotlib>=3.0 in /home/timohavdk/miniconda3/envs/gym/lib/python3.11/site-packages (from gymnasium[other]) (3.10.1)\n",
      "Collecting opencv-python>=3.0 (from gymnasium[other])\n",
      "  Using cached opencv_python-4.11.0.86-cp37-abi3-manylinux_2_17_x86_64.manylinux2014_x86_64.whl.metadata (20 kB)\n",
      "Collecting seaborn>=0.13 (from gymnasium[other])\n",
      "  Using cached seaborn-0.13.2-py3-none-any.whl.metadata (5.4 kB)\n",
      "Requirement already satisfied: contourpy>=1.0.1 in /home/timohavdk/miniconda3/envs/gym/lib/python3.11/site-packages (from matplotlib>=3.0->gymnasium[other]) (1.3.1)\n",
      "Requirement already satisfied: cycler>=0.10 in /home/timohavdk/miniconda3/envs/gym/lib/python3.11/site-packages (from matplotlib>=3.0->gymnasium[other]) (0.12.1)\n",
      "Requirement already satisfied: fonttools>=4.22.0 in /home/timohavdk/miniconda3/envs/gym/lib/python3.11/site-packages (from matplotlib>=3.0->gymnasium[other]) (4.56.0)\n",
      "Requirement already satisfied: kiwisolver>=1.3.1 in /home/timohavdk/miniconda3/envs/gym/lib/python3.11/site-packages (from matplotlib>=3.0->gymnasium[other]) (1.4.8)\n",
      "Requirement already satisfied: packaging>=20.0 in /home/timohavdk/miniconda3/envs/gym/lib/python3.11/site-packages (from matplotlib>=3.0->gymnasium[other]) (24.2)\n",
      "Requirement already satisfied: pillow>=8 in /home/timohavdk/miniconda3/envs/gym/lib/python3.11/site-packages (from matplotlib>=3.0->gymnasium[other]) (11.1.0)\n",
      "Requirement already satisfied: pyparsing>=2.3.1 in /home/timohavdk/miniconda3/envs/gym/lib/python3.11/site-packages (from matplotlib>=3.0->gymnasium[other]) (3.2.3)\n",
      "Requirement already satisfied: python-dateutil>=2.7 in /home/timohavdk/miniconda3/envs/gym/lib/python3.11/site-packages (from matplotlib>=3.0->gymnasium[other]) (2.9.0.post0)\n",
      "Requirement already satisfied: decorator<6.0,>=4.0.2 in /home/timohavdk/miniconda3/envs/gym/lib/python3.11/site-packages (from moviepy>=1.0.0->gymnasium[other]) (5.2.1)\n",
      "Collecting imageio<3.0,>=2.5 (from moviepy>=1.0.0->gymnasium[other])\n",
      "  Using cached imageio-2.37.0-py3-none-any.whl.metadata (5.2 kB)\n",
      "Collecting imageio_ffmpeg>=0.2.0 (from moviepy>=1.0.0->gymnasium[other])\n",
      "  Using cached imageio_ffmpeg-0.6.0-py3-none-manylinux2014_x86_64.whl.metadata (1.5 kB)\n",
      "Collecting proglog<=1.0.0 (from moviepy>=1.0.0->gymnasium[other])\n",
      "  Downloading proglog-0.1.11-py3-none-any.whl.metadata (794 bytes)\n",
      "Collecting python-dotenv>=0.10 (from moviepy>=1.0.0->gymnasium[other])\n",
      "  Downloading python_dotenv-1.1.0-py3-none-any.whl.metadata (24 kB)\n",
      "Collecting pillow>=8 (from matplotlib>=3.0->gymnasium[other])\n",
      "  Using cached pillow-10.4.0-cp311-cp311-manylinux_2_28_x86_64.whl.metadata (9.2 kB)\n",
      "Collecting pandas>=1.2 (from seaborn>=0.13->gymnasium[other])\n",
      "  Using cached pandas-2.2.3-cp311-cp311-manylinux_2_17_x86_64.manylinux2014_x86_64.whl.metadata (89 kB)\n",
      "Collecting pytz>=2020.1 (from pandas>=1.2->seaborn>=0.13->gymnasium[other])\n",
      "  Downloading pytz-2025.2-py2.py3-none-any.whl.metadata (22 kB)\n",
      "Collecting tzdata>=2022.7 (from pandas>=1.2->seaborn>=0.13->gymnasium[other])\n",
      "  Downloading tzdata-2025.2-py2.py3-none-any.whl.metadata (1.4 kB)\n",
      "Requirement already satisfied: tqdm in /home/timohavdk/miniconda3/envs/gym/lib/python3.11/site-packages (from proglog<=1.0.0->moviepy>=1.0.0->gymnasium[other]) (4.67.1)\n",
      "Requirement already satisfied: six>=1.5 in /home/timohavdk/miniconda3/envs/gym/lib/python3.11/site-packages (from python-dateutil>=2.7->matplotlib>=3.0->gymnasium[other]) (1.17.0)\n",
      "Using cached moviepy-2.1.2-py3-none-any.whl (126 kB)\n",
      "Using cached opencv_python-4.11.0.86-cp37-abi3-manylinux_2_17_x86_64.manylinux2014_x86_64.whl (63.0 MB)\n",
      "Using cached seaborn-0.13.2-py3-none-any.whl (294 kB)\n",
      "Using cached imageio-2.37.0-py3-none-any.whl (315 kB)\n",
      "Using cached imageio_ffmpeg-0.6.0-py3-none-manylinux2014_x86_64.whl (29.5 MB)\n",
      "Using cached pandas-2.2.3-cp311-cp311-manylinux_2_17_x86_64.manylinux2014_x86_64.whl (13.1 MB)\n",
      "Using cached pillow-10.4.0-cp311-cp311-manylinux_2_28_x86_64.whl (4.5 MB)\n",
      "Downloading proglog-0.1.11-py3-none-any.whl (7.8 kB)\n",
      "Downloading python_dotenv-1.1.0-py3-none-any.whl (20 kB)\n",
      "Downloading pytz-2025.2-py2.py3-none-any.whl (509 kB)\n",
      "Downloading tzdata-2025.2-py2.py3-none-any.whl (347 kB)\n",
      "Installing collected packages: pytz, tzdata, python-dotenv, proglog, pillow, opencv-python, imageio_ffmpeg, pandas, imageio, seaborn, moviepy\n",
      "  Attempting uninstall: pillow\n",
      "    Found existing installation: pillow 11.1.0\n",
      "    Uninstalling pillow-11.1.0:\n",
      "      Successfully uninstalled pillow-11.1.0\n",
      "Successfully installed imageio-2.37.0 imageio_ffmpeg-0.6.0 moviepy-2.1.2 opencv-python-4.11.0.86 pandas-2.2.3 pillow-10.4.0 proglog-0.1.11 python-dotenv-1.1.0 pytz-2025.2 seaborn-0.13.2 tzdata-2025.2\n"
     ]
    }
   ],
   "source": [
    "!pip install \"gymnasium[other]\""
   ]
  },
  {
   "cell_type": "code",
   "execution_count": 79,
   "id": "3b1d6d12-e770-47ce-a9eb-fb93b7a2b755",
   "metadata": {},
   "outputs": [],
   "source": [
    "import keras\n",
    "import numpy as np\n",
    "import gymnasium as gym\n",
    "import tensorflow as tf\n",
    "import tqdm.notebook as tqdm\n",
    "import matplotlib.pyplot as plt\n",
    "import gymnasium.utils.save_video"
   ]
  },
  {
   "cell_type": "code",
   "execution_count": 2,
   "id": "011e03a4-a0ea-4ce2-9f00-e09b9b4c2e04",
   "metadata": {},
   "outputs": [],
   "source": [
    "gpus = tf.config.experimental.list_physical_devices('GPU')\n",
    "if gpus:\n",
    "    try:\n",
    "        for gpu in gpus:\n",
    "              tf.config.experimental.set_memory_growth(gpu, True)\n",
    "    except RuntimeError as e:\n",
    "        print(e)"
   ]
  },
  {
   "cell_type": "code",
   "execution_count": 3,
   "id": "2c6b413b-242c-4b06-bb4f-7c22bcc3fd8d",
   "metadata": {},
   "outputs": [],
   "source": [
    "rng = np.random.default_rng()"
   ]
  },
  {
   "cell_type": "code",
   "execution_count": 4,
   "id": "a5fd997c-c544-4744-8ad1-96634f9d6163",
   "metadata": {},
   "outputs": [],
   "source": [
    "def get_name(prefix: str | None, suffix: str | None, separator: str = '_') -> str | None:\n",
    "    return prefix and prefix + separator + suffix or suffix or None"
   ]
  },
  {
   "cell_type": "markdown",
   "id": "4e580a6f-a987-40ec-9864-2e296bdd9ba6",
   "metadata": {},
   "source": [
    "# Environment"
   ]
  },
  {
   "cell_type": "markdown",
   "id": "120abf50-431d-4c8c-bc71-e760aa7c08b4",
   "metadata": {},
   "source": [
    "Create the [environment](https://gymnasium.farama.org/environments/box2d/bipedal_walker/)."
   ]
  },
  {
   "cell_type": "code",
   "execution_count": 5,
   "id": "e87a00db-a118-43c2-bbc7-a9e2a8f504e0",
   "metadata": {},
   "outputs": [],
   "source": [
    "batch_size = 64"
   ]
  },
  {
   "cell_type": "code",
   "execution_count": 6,
   "id": "494d88e1-dad6-4cbe-ab9b-9e34805ac00d",
   "metadata": {},
   "outputs": [],
   "source": [
    "train_env = gym.make_vec(\"BipedalWalker-v3\", hardcore=False, render_mode=\"rgb_array\", num_envs=batch_size)\n",
    "valid_env = gym.make_vec(\"BipedalWalker-v3\", hardcore=False, render_mode=\"rgb_array\", num_envs=1)"
   ]
  },
  {
   "cell_type": "code",
   "execution_count": 7,
   "id": "cc5f40d1-35c9-417e-8701-667eab25adb2",
   "metadata": {},
   "outputs": [
    {
     "name": "stdout",
     "output_type": "stream",
     "text": [
      "Size of State Space ->  24\n",
      "Size of Action Space ->  4\n",
      "Max Value of Action ->  1.0\n",
      "Min Value of Action ->  -1.0\n"
     ]
    }
   ],
   "source": [
    "num_states = train_env.single_observation_space.shape[0]\n",
    "print(\"Size of State Space ->  {}\".format(num_states))\n",
    "num_actions = train_env.single_action_space.shape[0]\n",
    "print(\"Size of Action Space ->  {}\".format(num_actions))\n",
    "\n",
    "upper_bound = train_env.single_action_space.high[0]\n",
    "lower_bound = train_env.single_action_space.low[0]\n",
    "\n",
    "print(\"Max Value of Action ->  {}\".format(upper_bound))\n",
    "print(\"Min Value of Action ->  {}\".format(lower_bound))"
   ]
  },
  {
   "cell_type": "markdown",
   "id": "6828a718-db96-42f6-890f-265163fdedb9",
   "metadata": {},
   "source": [
    "# Replay Buffer"
   ]
  },
  {
   "cell_type": "markdown",
   "id": "037a88e3-0524-4d4f-9bd5-eb035d80fece",
   "metadata": {},
   "source": [
    "Create a replay buffer to hold game history"
   ]
  },
  {
   "cell_type": "code",
   "execution_count": 8,
   "id": "4a761715-1ef6-4ffd-b710-1758f292888c",
   "metadata": {},
   "outputs": [],
   "source": [
    "class ReplayBuffer:\n",
    "\n",
    "    def __init__(self, max_size: int, observation_space: gym.spaces.Space, action_space: gym.spaces.Space, seed: int | None = 42):\n",
    "        \"\"\"Stores the replay history with a maximum of `max_size` entries, removing old entries as needed.\n",
    "\n",
    "        Parameters:\n",
    "            max_size: maximal number of entries to keep\n",
    "            observation_space: specification of the observation space\n",
    "            action_space: specification of the action space\n",
    "            seed: seed to initialize the internal random number generator for reproducibility\"\"\"\n",
    "\n",
    "        self.current_observations = np.zeros((max_size, *observation_space.shape), dtype=observation_space.dtype)\n",
    "        self.next_observations = np.zeros((max_size, *observation_space.shape), dtype=observation_space.dtype)\n",
    "        self.actions = np.zeros((max_size, *action_space.shape), dtype=action_space.dtype)\n",
    "        self.rewards = np.zeros((max_size,), dtype=np.float32)\n",
    "        self.dones = np.zeros((max_size,), dtype=np.float32)\n",
    "        \n",
    "        self.max_size = max_size\n",
    "        self.rng = np.random.default_rng(seed=seed)\n",
    "        self.buffer_pointer = 0\n",
    "        self.current_size = 0\n",
    "        \n",
    "    def add(self, current_observations: np.ndarray, actions: np.ndarray, rewards: np.ndarray, next_observations: np.ndarray, dones: np.ndarray) -> None:\n",
    "        \"\"\"Add a new entry to the buffer.\n",
    "\n",
    "        Parameters:\n",
    "            current_observations: environment state observed at the current step\n",
    "            actions: action taken by the model\n",
    "            rewards: reward received after taking the action\n",
    "            next_observations: environment state obversed after taking the action\n",
    "            dones: whether the episode has ended or not\"\"\"\n",
    "\n",
    "        batch_size = current_observations.shape[0]\n",
    "        idxs = (np.arange(batch_size) + self.buffer_pointer) % self.max_size\n",
    "\n",
    "        self.current_observations[idxs] = current_observations\n",
    "        self.actions[idxs] = actions\n",
    "        self.rewards[idxs] = rewards\n",
    "        self.next_observations[idxs] = next_observations\n",
    "        self.dones[idxs] = dones\n",
    "\n",
    "        self.buffer_pointer = (idxs[-1] + 1) % self.max_size\n",
    "        self.current_size = min(self.max_size, self.current_size + batch_size)\n",
    "    \n",
    "    def sample(self, n_samples: int, replace: bool = True) -> tuple[np.ndarray, np.ndarray, np.ndarray, np.ndarray, np.ndarray]:\n",
    "        \"\"\"Randomly samples `n_samples` from the buffer.\n",
    "\n",
    "        Parameters:\n",
    "            n_samples: number of samples to select\n",
    "            replace: sample with or without replacement\n",
    "\n",
    "        Returns:\n",
    "            current observations, actions, rewards, next observations, dones\"\"\"\n",
    "\n",
    "        return self[self.rng.choice(self.current_size, size=n_samples, replace=replace)]\n",
    "\n",
    "    def clear(self) -> None:\n",
    "        \"\"\"Clears the buffer\"\"\"\n",
    "\n",
    "        self.buffer_pointer = 0\n",
    "        self.current_size = 0\n",
    "\n",
    "    def __getitem__(self, index: int | np.ndarray) -> tuple[np.ndarray, np.ndarray, np.ndarray, np.ndarray, np.ndarray]:\n",
    "        \"\"\"Gets a sample at `index`\n",
    "\n",
    "        Parameters:\n",
    "            index: index of the sample to get\n",
    "\n",
    "        Returns:\n",
    "            current observations, actions, rewards, next observations, dones\"\"\"\n",
    "\n",
    "        return (\n",
    "            self.current_observations[index],\n",
    "            self.actions[index],\n",
    "            self.rewards[index],\n",
    "            self.next_observations[index],\n",
    "            self.dones[index]\n",
    "        )\n",
    "        \n",
    "    def __len__(self) -> int:\n",
    "        \"\"\"Returns the number of entries in the buffer\"\"\"\n",
    "\n",
    "        return self.current_size"
   ]
  },
  {
   "cell_type": "markdown",
   "id": "669485c5-5787-4ffa-82f2-58f6f0acc151",
   "metadata": {},
   "source": [
    "# Model"
   ]
  },
  {
   "cell_type": "markdown",
   "id": "bc62c869-195b-4323-bdb4-dd53879455c9",
   "metadata": {},
   "source": [
    "Implement your model"
   ]
  },
  {
   "cell_type": "code",
   "execution_count": 9,
   "id": "a572a086-e9ce-4194-8809-54a8e05477d3",
   "metadata": {},
   "outputs": [],
   "source": [
    "def get_actor(\n",
    "    observation_space: int,\n",
    "    action_space: int,    \n",
    "    features: int,\n",
    "    blocks: int, \n",
    "    activation: str | keras.layers.Activation | None = 'relu',\n",
    "    name: str | None = None,\n",
    "):\n",
    "    inputs = x = keras.layers.Input((observation_space,), name=get_name(name, 'input'), dtype=tf.int32)\n",
    "\n",
    "    for i in range(blocks):\n",
    "        x = keras.layers.Dense(features, name=get_name(name, f'dense_{i}'))(x)\n",
    "        x = keras.layers.BatchNormalization(name=get_name(name, f'batch-norm_{i}'))(x)\n",
    "        x = keras.layers.Activation(activation=activation, name=get_name(name, f'activation_{i}'))(x)\n",
    "        \n",
    "        features = features // 2\n",
    "        \n",
    "    \n",
    "    outputs = keras.layers.Dense(action_space, activation=\"tanh\", name=get_name(name, f'output'))(x)\n",
    "\n",
    "    model = keras.Model(inputs, outputs)\n",
    "\n",
    "    return model"
   ]
  },
  {
   "cell_type": "code",
   "execution_count": 10,
   "id": "bbbeb03a-b520-4c4f-a86a-fe16f0b48f39",
   "metadata": {},
   "outputs": [],
   "source": [
    "def get_critic(\n",
    "    observation_space: int,\n",
    "    action_space: int,    \n",
    "    features: int,\n",
    "    blocks: int, \n",
    "    activation: str | keras.layers.Activation | None = 'relu',\n",
    "    name: str | None = None,\n",
    "):\n",
    "    state_input = keras.layers.Input(shape=(observation_space,), name=get_name(name, 'state_input'))\n",
    "    state_out = keras.layers.Dense(32, activation=activation, name=get_name(name, 'state_dense'))(state_input)\n",
    "\n",
    "    action_input = keras.layers.Input(shape=(action_space,), name=get_name(name, 'action_input'))\n",
    "    action_out = keras.layers.Dense(32, activation=activation, name=get_name(name, 'action_dense'))(action_input)\n",
    "\n",
    "    x = keras.layers.Concatenate(name=get_name(name, 'concat'))([state_out, action_out])\n",
    "\n",
    "    for i in range(blocks):\n",
    "        x = keras.layers.Dense(features, name=get_name(name, f'dense_{i}'))(x)\n",
    "        x = keras.layers.BatchNormalization(name=get_name(name, f'batch-norm_{i}'))(x)\n",
    "        x = keras.layers.Activation(activation=activation, name=get_name(name, f'activation_{i}'))(x)\n",
    "        \n",
    "        features = features // 2\n",
    "\n",
    "    outputs = keras.layers.Dense(1, name=get_name(name, 'output'))(x)\n",
    "\n",
    "    model = keras.Model([state_input, action_input], outputs)\n",
    "\n",
    "    return model"
   ]
  },
  {
   "cell_type": "markdown",
   "id": "40a81abd-d5b5-4967-88cf-e493b765d03d",
   "metadata": {},
   "source": [
    "# Policy"
   ]
  },
  {
   "cell_type": "code",
   "execution_count": 11,
   "id": "20877313-1d25-4903-a8bf-535930a653f4",
   "metadata": {},
   "outputs": [],
   "source": [
    "def policy(sampled_actions: np.ndarray):\n",
    "    sampled_actions = sampled_actions + rng.normal(loc=0, scale=0.1, size=num_actions)\n",
    "\n",
    "    legal_action = np.clip(sampled_actions, lower_bound, upper_bound)\n",
    "\n",
    "    return legal_action"
   ]
  },
  {
   "cell_type": "markdown",
   "id": "2d2cc1a3-3e45-4aac-8936-d5d45cc256f1",
   "metadata": {},
   "source": [
    "# Play the game"
   ]
  },
  {
   "cell_type": "markdown",
   "id": "02aa11b5-0ca1-4bfb-91a0-33a4f8922ae9",
   "metadata": {},
   "source": [
    "Implement interacting with the environment and storing entries to the replay buffer"
   ]
  },
  {
   "cell_type": "code",
   "execution_count": 252,
   "id": "01c8de2b-58fb-4632-a07f-634de2e1e923",
   "metadata": {},
   "outputs": [],
   "source": [
    "def play_game(\n",
    "    model: keras.Model,\n",
    "    buffer: ReplayBuffer,\n",
    "    env: gym.Env,\n",
    "    steps: int,\n",
    "    observations: np.ndarray | None = None,\n",
    "    one_episode: bool = False,\n",
    "    no_noise: bool = False\n",
    ") -> np.ndarray:\n",
    "    \"\"\"Plays the environment `env` using model `model` for a total of `steps` steps.\n",
    "\n",
    "    Arguments:\n",
    "        model: model to use\n",
    "        buffer: buffer to store results to\n",
    "        env: environment to use\n",
    "        steps: total number of steps to record\n",
    "        observations: observation to start from\n",
    "        one_episode: exist as soon as one of the environments finishes\n",
    "\n",
    "    Returns:\n",
    "        the last observations\n",
    "    \"\"\"\n",
    "\n",
    "    if observations is None:\n",
    "        observations, _ = env.reset()\n",
    "\n",
    "    for _ in range(steps // env.num_envs):\n",
    "        res = model(observations, training=False).numpy()\n",
    "        \n",
    "        actions = policy(res)\n",
    "\n",
    "        if no_noise:\n",
    "            actions = res\n",
    "        \n",
    "        new_observations, rewards, terminateds, truncated, _ = env.step(actions)\n",
    "\n",
    "        equal_observations = np.all(np.isclose(observations, new_observations), axis=1)\n",
    "\n",
    "        dones = terminateds | truncated | equal_observations\n",
    "\n",
    "        rewards = np.where(equal_observations, -100, rewards)\n",
    "\n",
    "        buffer.add(\n",
    "            current_observations=observations,\n",
    "            actions=actions,\n",
    "            rewards=rewards,\n",
    "            next_observations=new_observations,\n",
    "            dones=dones,\n",
    "        )\n",
    "\n",
    "        if one_episode and np.any(dones):\n",
    "            observations = None\n",
    "            break\n",
    "        \n",
    "        observations = new_observations\n",
    "    \n",
    "    return observations"
   ]
  },
  {
   "cell_type": "markdown",
   "id": "a59610fe-2753-4b77-9f1c-4a92771a7a26",
   "metadata": {},
   "source": [
    "# QDataset"
   ]
  },
  {
   "cell_type": "code",
   "execution_count": 253,
   "id": "7db6f6a1-7d20-4525-a81f-f2b43a547f8f",
   "metadata": {
    "jupyter": {
     "source_hidden": true
    }
   },
   "outputs": [],
   "source": [
    "class QDataset(keras.utils.PyDataset):\n",
    "    def __init__(\n",
    "        self,\n",
    "        steps_per_epoch: int,\n",
    "        batch_size: int,\n",
    "        buffer: ReplayBuffer,\n",
    "        action_space: gym.spaces.Space,\n",
    "    ):\n",
    "        super().__init__()\n",
    "        self.buffer = buffer\n",
    "        self.batch_size = batch_size\n",
    "        self.steps_per_epoch = steps_per_epoch\n",
    "\n",
    "        self._answer = np.zeros((batch_size, num_actions), dtype=np.float32)\n",
    "\n",
    "    def __len__(self):\n",
    "        return self.steps_per_epoch\n",
    "\n",
    "    def __getitem__(self, idx: int) -> np.ndarray:\n",
    "        return self.buffer.sample(self.batch_size), self._answer"
   ]
  },
  {
   "cell_type": "markdown",
   "id": "971ad3a7-0487-49d3-9ca4-6b6bbc3fa450",
   "metadata": {},
   "source": [
    "# Loss"
   ]
  },
  {
   "cell_type": "markdown",
   "id": "7fcbeef8-70fb-44ae-92e9-0baea77e8f0e",
   "metadata": {},
   "source": [
    "Implement ddpg loss"
   ]
  },
  {
   "cell_type": "code",
   "execution_count": 373,
   "id": "f9775cbc-77a8-4b02-ab0a-3fbb22b3e958",
   "metadata": {},
   "outputs": [],
   "source": [
    "@tf.function\n",
    "def ddpg_loss(\n",
    "    current_observation: keras.KerasTensor, \n",
    "    action: keras.KerasTensor, \n",
    "    reward: keras.KerasTensor, \n",
    "    next_observation: keras.KerasTensor, \n",
    "    done: keras.KerasTensor,\n",
    "    q_model: keras.Model,\n",
    "    policy_model: keras.Model,\n",
    "    target_q_model: keras.Model,\n",
    "    target_policy_model: keras.Model,\n",
    "    gamma: float\n",
    ") -> tuple[keras.KerasTensor, keras.KerasTensor]:\n",
    "    \"\"\"Computes Deep Deterministic Policy Gradient.\n",
    "\n",
    "    Parameters:\n",
    "        current_observation: observations at the current time step\n",
    "        action: actions taken at the current time step\n",
    "        reward: rewards at the current time step\n",
    "        next_observation: observations at the next time step\n",
    "        done: whether the episode has ended or not\n",
    "        q_model: q-function model\n",
    "        policy_model: action prediction model\n",
    "        target_q_model: target q-function model\n",
    "        target_policy_model: target action prediction model\n",
    "        gamma: discount\n",
    "\n",
    "    Returns:\n",
    "        Computed losses for q-function and policy models\"\"\"\n",
    "    \n",
    "    with tf.GradientTape() as tape:\n",
    "        target_actions = target_q_model(next_observation, training=True)\n",
    "\n",
    "        y = reward + gamma * (1 - done) * target_policy_model(\n",
    "            [next_observation, target_actions], training=True\n",
    "        )\n",
    "        \n",
    "        critic_value = policy_model([current_observation, action], training=True)\n",
    "        critic_loss = keras.ops.mean(keras.ops.square(y - critic_value))\n",
    "\n",
    "    critic_grad = tape.gradient(critic_loss, policy_model.trainable_variables)\n",
    "\n",
    "    critic_optimizer.apply_gradients(\n",
    "        zip(critic_grad, policy_model.trainable_variables)\n",
    "    )\n",
    "\n",
    "    with tf.GradientTape() as tape:\n",
    "        actions = q_model(current_observation, training=True)\n",
    "        critic_value = policy_model([current_observation, actions], training=True)\n",
    "\n",
    "        actor_loss = -keras.ops.mean(critic_value)\n",
    "\n",
    "    actor_grad = tape.gradient(actor_loss, q_model.trainable_variables)\n",
    "\n",
    "    actor_optimizer.apply_gradients(\n",
    "        zip(actor_grad, q_model.trainable_variables)\n",
    "    )\n",
    "\n",
    "    return (actor_loss, critic_loss)"
   ]
  },
  {
   "cell_type": "markdown",
   "id": "78458a1f-054a-463a-934f-ac3f669c0e27",
   "metadata": {},
   "source": [
    "# Training"
   ]
  },
  {
   "cell_type": "markdown",
   "id": "3fb0aaa7-6ae5-45dc-9c52-04c474ec3ecc",
   "metadata": {},
   "source": [
    "Create models, replay buffers, optimizer, epsilon decay etc. Implement training loop, show training progress and perform model evaluation once in a while"
   ]
  },
  {
   "cell_type": "code",
   "execution_count": 374,
   "id": "6afdfa43-d475-4ccf-be7a-5a55585d6656",
   "metadata": {},
   "outputs": [],
   "source": [
    "class SometimesPlayCallback():\n",
    "    def __init__(\n",
    "        self,\n",
    "        env: gym.Env,\n",
    "        buffer: ReplayBuffer,\n",
    "        frequency: int,\n",
    "        steps_per_play: int,\n",
    "        model: keras.Model\n",
    "    ):\n",
    "        self.env = env\n",
    "        self.buffer = buffer\n",
    "        self.frequency = frequency\n",
    "        self.steps_per_play = steps_per_play\n",
    "        self.model = model\n",
    "\n",
    "        self.observations = None\n",
    "\n",
    "    def on_epoch_begin(self, epoch: int):\n",
    "        if epoch == 0:\n",
    "            self.observations = play_game(\n",
    "                model=self.model,\n",
    "                buffer=self.buffer,\n",
    "                env=self.env,\n",
    "                steps=self.steps_per_play,\n",
    "                observations=self.observations\n",
    "            )\n",
    "\n",
    "    def on_train_batch_begin(self, batch_num: int):\n",
    "        if (batch_num + 1) % self.frequency:\n",
    "            return\n",
    "        \n",
    "        self.observations = play_game(\n",
    "            model=self.model,\n",
    "            buffer=self.buffer,\n",
    "            env=self.env,\n",
    "            steps=self.steps_per_play,\n",
    "            observations=self.observations\n",
    "        )"
   ]
  },
  {
   "cell_type": "code",
   "execution_count": 375,
   "id": "73ba83f0-efbf-470a-b2c3-282d4f6c107f",
   "metadata": {},
   "outputs": [],
   "source": [
    "class ModelEvalCallback():\n",
    "    def __init__(\n",
    "        self,\n",
    "        env: gym.Env,\n",
    "        max_steps: int,\n",
    "        model: keras.Model,\n",
    "    ):\n",
    "        self.env = env\n",
    "        self.max_steps = max_steps\n",
    "\n",
    "        self.buffer = ReplayBuffer(\n",
    "            max_size=max_steps,\n",
    "            observation_space=env.single_observation_space,\n",
    "            action_space=env.single_action_space,\n",
    "        )\n",
    "\n",
    "        self.model = model\n",
    "\n",
    "    def on_epoch_end(self):\n",
    "        self.buffer.clear()\n",
    "\n",
    "        play_game(\n",
    "            model=self.model,\n",
    "            buffer=self.buffer,\n",
    "            env=self.env,\n",
    "            steps=self.max_steps,\n",
    "            one_episode=True,\n",
    "        )\n",
    "\n",
    "        rewards = self.buffer.rewards[:len(self.buffer)].reshape((-1, self.env.num_envs))\n",
    "        score = np.mean(np.sum(rewards, axis=0))\n",
    "\n",
    "        print(score)"
   ]
  },
  {
   "cell_type": "code",
   "execution_count": 376,
   "id": "139138b8-f63c-4a2f-8793-4f96d25a353a",
   "metadata": {},
   "outputs": [],
   "source": [
    "# This update target parameters slowly\n",
    "# Based on rate `tau`, which is much less than one.\n",
    "def update_target(target, original, tau):\n",
    "    target_weights = target.get_weights()\n",
    "    original_weights = original.get_weights()\n",
    "\n",
    "    for i in range(len(target_weights)):\n",
    "        target_weights[i] = original_weights[i] * tau + target_weights[i] * (1 - tau)\n",
    "\n",
    "    target.set_weights(target_weights)"
   ]
  },
  {
   "cell_type": "code",
   "execution_count": 377,
   "id": "77406d6b-73c8-4097-8901-2e4b9585d282",
   "metadata": {},
   "outputs": [],
   "source": [
    "actor_model = get_actor(\n",
    "    observation_space=valid_env.single_observation_space.shape[0],\n",
    "    action_space=valid_env.single_action_space.shape[0],\n",
    "    features=1024,\n",
    "    blocks=5,\n",
    "    activation='leaky_relu',\n",
    "    name='actor',\n",
    ")\n",
    "\n",
    "critic_model = get_critic(\n",
    "    observation_space=valid_env.single_observation_space.shape[0],\n",
    "    action_space=valid_env.single_action_space.shape[0],\n",
    "    features=512,\n",
    "    blocks=5,\n",
    "    activation='leaky_relu',\n",
    "    name='critic',\n",
    ")\n",
    "\n",
    "target_actor = get_actor(\n",
    "    observation_space=valid_env.single_observation_space.shape[0],\n",
    "    action_space=valid_env.single_action_space.shape[0],\n",
    "    features=1024,\n",
    "    blocks=5,\n",
    "    activation='leaky_relu',\n",
    "    name='actor',\n",
    ")\n",
    "\n",
    "target_critic = get_critic(\n",
    "    observation_space=valid_env.single_observation_space.shape[0],\n",
    "    action_space=valid_env.single_action_space.shape[0],\n",
    "    features=512,\n",
    "    blocks=5,\n",
    "    activation='leaky_relu',\n",
    "    name='critic',\n",
    ")\n",
    "\n",
    "# Making the weights equal initially\n",
    "target_actor.set_weights(actor_model.get_weights())\n",
    "target_critic.set_weights(critic_model.get_weights())"
   ]
  },
  {
   "cell_type": "code",
   "execution_count": 378,
   "id": "32db510e-75f5-4843-9811-dd5440685c79",
   "metadata": {},
   "outputs": [],
   "source": [
    "# Learning rate for actor-critic models\n",
    "critic_lr = 0.0001\n",
    "actor_lr = 0.00001\n",
    "\n",
    "critic_optimizer = keras.optimizers.Adam(critic_lr)\n",
    "actor_optimizer = keras.optimizers.Adam(actor_lr)\n",
    "\n",
    "# Discount factor for future rewards\n",
    "gamma = 0.99\n",
    "# Used to update target networks\n",
    "tau = 0.005"
   ]
  },
  {
   "cell_type": "code",
   "execution_count": 379,
   "id": "41cd9f10-828c-4a93-be0e-3c2bbf40536c",
   "metadata": {},
   "outputs": [],
   "source": [
    "buffer_size = 2 ** 17     # 32_768\n",
    "steps_per_play = 2 ** 11  # 2048\n",
    "steps_per_epoch = 2 ** 10 # 1024\n",
    "\n",
    "epochs = 128\n",
    "play_frequency = 256"
   ]
  },
  {
   "cell_type": "code",
   "execution_count": 380,
   "id": "f3888e43-947b-4b75-9eaa-963f2a262a79",
   "metadata": {},
   "outputs": [],
   "source": [
    "train_buffer = ReplayBuffer(\n",
    "    max_size=buffer_size,\n",
    "    observation_space=train_env.single_observation_space,\n",
    "    action_space=train_env.single_action_space\n",
    ")"
   ]
  },
  {
   "cell_type": "code",
   "execution_count": 381,
   "id": "4fe8d94b-d804-482b-a348-a699a0fa7a6c",
   "metadata": {},
   "outputs": [],
   "source": [
    "dataset = QDataset(\n",
    "    steps_per_epoch=steps_per_epoch,\n",
    "    batch_size=train_env.num_envs,\n",
    "    buffer=train_buffer,\n",
    "    action_space=train_env.single_action_space\n",
    ")"
   ]
  },
  {
   "cell_type": "code",
   "execution_count": 382,
   "id": "ca8338f1-1be7-4c19-bd00-161f26a204cc",
   "metadata": {},
   "outputs": [],
   "source": [
    "_ = play_game(\n",
    "    model=actor_model,\n",
    "    buffer=train_buffer,\n",
    "    env=train_env,\n",
    "    steps=steps_per_play,\n",
    ")"
   ]
  },
  {
   "cell_type": "code",
   "execution_count": 383,
   "id": "b4421b46-5bb4-42c8-bf7c-4f50d7984f97",
   "metadata": {},
   "outputs": [],
   "source": [
    "sometimes_play = SometimesPlayCallback(\n",
    "    env=train_env,\n",
    "    buffer=train_buffer,\n",
    "    frequency=play_frequency,\n",
    "    steps_per_play=steps_per_play,\n",
    "    model=actor_model,\n",
    ")"
   ]
  },
  {
   "cell_type": "code",
   "execution_count": 384,
   "id": "07e9bc02-4d84-4df3-a285-04491a50228b",
   "metadata": {},
   "outputs": [],
   "source": [
    "eval_model = ModelEvalCallback(\n",
    "    env=valid_env,\n",
    "    max_steps=1000,\n",
    "    model=actor_model,\n",
    ")"
   ]
  },
  {
   "cell_type": "code",
   "execution_count": 386,
   "id": "def743e3-7c06-4130-8995-671833fe41d2",
   "metadata": {},
   "outputs": [],
   "source": [
    "def train_cycle():\n",
    "    losses = []\n",
    "    \n",
    "    # Takes about 4 min to train\n",
    "    for epoch in range(epochs):\n",
    "        for step in range(steps_per_epoch):\n",
    "            if epoch != 0 or step == steps_per_epoch - 1:\n",
    "                checkpoint_filepath = f'./history/actor-model-{epoch}.keras'\n",
    "\n",
    "                actor_model.save(checkpoint_filepath)\n",
    "            \n",
    "            if step == 0:\n",
    "                eval_model.on_epoch_end()\n",
    "            \n",
    "            if epoch == 0 and step == 0:\n",
    "                sometimes_play.on_epoch_begin(epoch)\n",
    "            \n",
    "            sometimes_play.on_train_batch_begin(step)\n",
    "            \n",
    "            current_observations, actions, rewards, next_observations, dones = dataset[step][0]\n",
    "\n",
    "            current_observation_tensor = keras.ops.convert_to_tensor(current_observations)\n",
    "            action_tensor = keras.ops.convert_to_tensor(actions)\n",
    "            reward_tensor = keras.ops.convert_to_tensor(rewards)\n",
    "            reward_tensor = keras.ops.cast(reward_tensor, dtype=\"float32\")\n",
    "            next_observations_tensor = keras.ops.convert_to_tensor(next_observations)\n",
    "            dones_tensor = keras.ops.convert_to_tensor(dones)\n",
    "            \n",
    "            loss = ddpg_loss(\n",
    "                current_observation_tensor, \n",
    "                action_tensor, \n",
    "                reward_tensor, \n",
    "                next_observations_tensor, \n",
    "                dones_tensor,\n",
    "                actor_model,\n",
    "                critic_model,\n",
    "                target_actor,\n",
    "                target_critic,\n",
    "                gamma\n",
    "            )\n",
    "\n",
    "            losses.append(loss)\n",
    "\n",
    "            if 0 == step % 100:\n",
    "                print(f'Epoch: {epoch}, Step {step}, Actor loss {loss[0]}, Critic loss {loss[1]}')\n",
    "        \n",
    "            update_target(target_actor, actor_model, tau)\n",
    "            update_target(target_critic, critic_model, tau)\n",
    "\n",
    "    return losses"
   ]
  },
  {
   "cell_type": "code",
   "execution_count": 387,
   "id": "15de5c17-530d-4ac1-8fae-69f1daf58dbb",
   "metadata": {
    "scrolled": true
   },
   "outputs": [
    {
     "name": "stdout",
     "output_type": "stream",
     "text": [
      "-92.68242\n",
      "Epoch: 0, Step 0, Actor loss 0.04003828763961792, Critic loss 1.6890150308609009\n",
      "Epoch: 0, Step 10, Actor loss 0.07018493115901947, Critic loss 0.7562379837036133\n",
      "Epoch: 0, Step 20, Actor loss 0.006588838994503021, Critic loss 0.673823893070221\n",
      "Epoch: 0, Step 30, Actor loss 0.007923450320959091, Critic loss 0.5237303376197815\n",
      "Epoch: 0, Step 40, Actor loss -0.024833567440509796, Critic loss 0.3628029525279999\n",
      "Epoch: 0, Step 50, Actor loss -0.006785586476325989, Critic loss 0.3935836851596832\n",
      "Epoch: 0, Step 60, Actor loss -0.02241436392068863, Critic loss 0.2775445580482483\n",
      "Epoch: 0, Step 70, Actor loss -0.026546157896518707, Critic loss 0.43869632482528687\n",
      "Epoch: 0, Step 80, Actor loss -0.041030704975128174, Critic loss 0.3722464442253113\n",
      "Epoch: 0, Step 90, Actor loss 0.031094230711460114, Critic loss 0.27531978487968445\n",
      "Epoch: 0, Step 100, Actor loss -0.03330594673752785, Critic loss 0.3294311761856079\n",
      "Epoch: 0, Step 110, Actor loss -0.0230731051415205, Critic loss 0.38474562764167786\n",
      "Epoch: 0, Step 120, Actor loss -0.028717175126075745, Critic loss 0.18914128839969635\n",
      "Epoch: 0, Step 130, Actor loss -0.03003889136016369, Critic loss 0.33015960454940796\n",
      "Epoch: 0, Step 140, Actor loss -0.027382392436265945, Critic loss 0.3905772268772125\n",
      "Epoch: 0, Step 150, Actor loss -0.04765145853161812, Critic loss 0.31962159276008606\n",
      "Epoch: 0, Step 160, Actor loss -0.04827377200126648, Critic loss 0.11703158169984818\n",
      "Epoch: 0, Step 170, Actor loss -0.05203584209084511, Critic loss 0.24305208027362823\n",
      "Epoch: 0, Step 180, Actor loss -0.03470319136977196, Critic loss 0.3786511719226837\n",
      "Epoch: 0, Step 190, Actor loss -0.03720683604478836, Critic loss 0.24881872534751892\n",
      "Epoch: 0, Step 200, Actor loss -0.0468837171792984, Critic loss 0.3311341404914856\n",
      "Epoch: 0, Step 210, Actor loss -0.09490790963172913, Critic loss 0.22472135722637177\n",
      "Epoch: 0, Step 220, Actor loss -0.08989390730857849, Critic loss 0.13485628366470337\n",
      "Epoch: 0, Step 230, Actor loss -0.06577332317829132, Critic loss 0.14442139863967896\n",
      "Epoch: 0, Step 240, Actor loss -0.06221691146492958, Critic loss 0.17498373985290527\n",
      "Epoch: 0, Step 250, Actor loss -0.07455068081617355, Critic loss 0.20641140639781952\n",
      "Epoch: 0, Step 260, Actor loss -0.05138310790061951, Critic loss 0.19827601313591003\n",
      "Epoch: 0, Step 270, Actor loss -0.09168825298547745, Critic loss 0.09530498087406158\n",
      "Epoch: 0, Step 280, Actor loss -0.04953980818390846, Critic loss 0.31491971015930176\n",
      "Epoch: 0, Step 290, Actor loss -0.056310322135686874, Critic loss 0.16296224296092987\n",
      "Epoch: 0, Step 300, Actor loss -0.05309319868683815, Critic loss 0.1661468744277954\n",
      "Epoch: 0, Step 310, Actor loss -0.07988811284303665, Critic loss 0.12451016902923584\n",
      "Epoch: 0, Step 320, Actor loss -0.07362595200538635, Critic loss 0.21471451222896576\n",
      "Epoch: 0, Step 330, Actor loss -0.07500020414590836, Critic loss 0.12247931957244873\n",
      "Epoch: 0, Step 340, Actor loss -0.058364138007164, Critic loss 0.1622118502855301\n",
      "Epoch: 0, Step 350, Actor loss -0.07141667604446411, Critic loss 0.10048596560955048\n",
      "Epoch: 0, Step 360, Actor loss -0.06399151682853699, Critic loss 0.17680980265140533\n",
      "Epoch: 0, Step 370, Actor loss -0.0769253820180893, Critic loss 0.16741274297237396\n",
      "Epoch: 0, Step 380, Actor loss -0.07916966080665588, Critic loss 0.09851609915494919\n",
      "Epoch: 0, Step 390, Actor loss -0.10104142129421234, Critic loss 0.10106469690799713\n",
      "Epoch: 0, Step 400, Actor loss -0.06949597597122192, Critic loss 0.17681899666786194\n",
      "Epoch: 0, Step 410, Actor loss -0.10924369096755981, Critic loss 0.13267630338668823\n",
      "Epoch: 0, Step 420, Actor loss -0.11099988222122192, Critic loss 0.12198980897665024\n",
      "Epoch: 0, Step 430, Actor loss -0.11024253070354462, Critic loss 0.13861900568008423\n",
      "Epoch: 0, Step 440, Actor loss -0.1025707796216011, Critic loss 0.1105906143784523\n",
      "Epoch: 0, Step 450, Actor loss -0.08510565757751465, Critic loss 0.11401825398206711\n",
      "Epoch: 0, Step 460, Actor loss -0.10559293627738953, Critic loss 0.15326601266860962\n",
      "Epoch: 0, Step 470, Actor loss -0.10640683770179749, Critic loss 0.17398148775100708\n",
      "Epoch: 0, Step 480, Actor loss -0.13117001950740814, Critic loss 0.13036495447158813\n",
      "Epoch: 0, Step 490, Actor loss -0.11020728945732117, Critic loss 0.14156308770179749\n",
      "Epoch: 0, Step 500, Actor loss -0.10717125236988068, Critic loss 0.1592859923839569\n",
      "Epoch: 0, Step 510, Actor loss -0.12336480617523193, Critic loss 0.10474885255098343\n",
      "Epoch: 0, Step 520, Actor loss -0.06013558432459831, Critic loss 0.25850242376327515\n",
      "Epoch: 0, Step 530, Actor loss -0.07737764716148376, Critic loss 0.15666811168193817\n",
      "Epoch: 0, Step 540, Actor loss -0.06615713983774185, Critic loss 0.16945579648017883\n",
      "Epoch: 0, Step 550, Actor loss -0.08263470232486725, Critic loss 0.16523194313049316\n",
      "Epoch: 0, Step 560, Actor loss -0.06958755105733871, Critic loss 0.2233387529850006\n",
      "Epoch: 0, Step 570, Actor loss -0.10021401941776276, Critic loss 0.12358640879392624\n",
      "Epoch: 0, Step 580, Actor loss -0.0869278758764267, Critic loss 0.18410509824752808\n",
      "Epoch: 0, Step 590, Actor loss -0.10061319917440414, Critic loss 0.16513553261756897\n",
      "Epoch: 0, Step 600, Actor loss -0.09633971750736237, Critic loss 0.09264005720615387\n",
      "Epoch: 0, Step 610, Actor loss -0.0799609050154686, Critic loss 0.12359070777893066\n",
      "Epoch: 0, Step 620, Actor loss -0.10400079935789108, Critic loss 0.1532273143529892\n",
      "Epoch: 0, Step 630, Actor loss -0.08175353705883026, Critic loss 0.18999113142490387\n",
      "Epoch: 0, Step 640, Actor loss -0.12070369720458984, Critic loss 0.12255620956420898\n",
      "Epoch: 0, Step 650, Actor loss -0.11221572756767273, Critic loss 0.11465243995189667\n",
      "Epoch: 0, Step 660, Actor loss -0.09608828276395798, Critic loss 0.15631882846355438\n",
      "Epoch: 0, Step 670, Actor loss -0.12124605476856232, Critic loss 0.13212153315544128\n",
      "Epoch: 0, Step 680, Actor loss -0.07302829623222351, Critic loss 0.1631648689508438\n",
      "Epoch: 0, Step 690, Actor loss -0.11538524925708771, Critic loss 0.11739124357700348\n",
      "Epoch: 0, Step 700, Actor loss -0.12493444234132767, Critic loss 0.1402820646762848\n",
      "Epoch: 0, Step 710, Actor loss -0.08578327298164368, Critic loss 0.15928782522678375\n",
      "Epoch: 0, Step 720, Actor loss -0.11577143520116806, Critic loss 0.1583922654390335\n",
      "Epoch: 0, Step 730, Actor loss -0.11206460744142532, Critic loss 0.09778354316949844\n",
      "Epoch: 0, Step 740, Actor loss -0.09027858823537827, Critic loss 0.1787632256746292\n",
      "Epoch: 0, Step 750, Actor loss -0.10021563619375229, Critic loss 0.07200391590595245\n",
      "Epoch: 0, Step 760, Actor loss -0.11495031416416168, Critic loss 0.13292628526687622\n",
      "Epoch: 0, Step 770, Actor loss -0.08439372479915619, Critic loss 156.6149444580078\n",
      "Epoch: 0, Step 780, Actor loss -0.04496714472770691, Critic loss 0.2221284806728363\n",
      "Epoch: 0, Step 790, Actor loss -0.014855287969112396, Critic loss 0.12960496544837952\n",
      "Epoch: 0, Step 800, Actor loss 0.003776300698518753, Critic loss 0.19814786314964294\n",
      "Epoch: 0, Step 810, Actor loss -0.002422276884317398, Critic loss 156.2341766357422\n",
      "Epoch: 0, Step 820, Actor loss -0.001888444647192955, Critic loss 0.1117495745420456\n",
      "Epoch: 0, Step 830, Actor loss 0.02011042647063732, Critic loss 0.11585833877325058\n",
      "Epoch: 0, Step 840, Actor loss 0.017829755321145058, Critic loss 0.17170751094818115\n",
      "Epoch: 0, Step 850, Actor loss 0.03542868793010712, Critic loss 0.15695679187774658\n",
      "Epoch: 0, Step 860, Actor loss 0.06513819098472595, Critic loss 0.14216437935829163\n",
      "Epoch: 0, Step 870, Actor loss 0.0671183168888092, Critic loss 0.18219336867332458\n",
      "Epoch: 0, Step 880, Actor loss 0.03844926878809929, Critic loss 0.15003833174705505\n",
      "Epoch: 0, Step 890, Actor loss 0.04505614563822746, Critic loss 0.13768912851810455\n"
     ]
    },
    {
     "ename": "KeyboardInterrupt",
     "evalue": "",
     "output_type": "error",
     "traceback": [
      "\u001b[31m---------------------------------------------------------------------------\u001b[39m",
      "\u001b[31mKeyboardInterrupt\u001b[39m                         Traceback (most recent call last)",
      "\u001b[36mCell\u001b[39m\u001b[36m \u001b[39m\u001b[32mIn[387]\u001b[39m\u001b[32m, line 1\u001b[39m\n\u001b[32m----> \u001b[39m\u001b[32m1\u001b[39m loss = \u001b[43mtrain_cycle\u001b[49m\u001b[43m(\u001b[49m\u001b[43m)\u001b[49m\n",
      "\u001b[36mCell\u001b[39m\u001b[36m \u001b[39m\u001b[32mIn[386]\u001b[39m\u001b[32m, line 46\u001b[39m, in \u001b[36mtrain_cycle\u001b[39m\u001b[34m()\u001b[39m\n\u001b[32m     43\u001b[39m         \u001b[38;5;28;01mif\u001b[39;00m \u001b[32m0\u001b[39m == step % \u001b[32m10\u001b[39m:\n\u001b[32m     44\u001b[39m             \u001b[38;5;28mprint\u001b[39m(\u001b[33mf\u001b[39m\u001b[33m'\u001b[39m\u001b[33mEpoch: \u001b[39m\u001b[38;5;132;01m{\u001b[39;00mepoch\u001b[38;5;132;01m}\u001b[39;00m\u001b[33m, Step \u001b[39m\u001b[38;5;132;01m{\u001b[39;00mstep\u001b[38;5;132;01m}\u001b[39;00m\u001b[33m, Actor loss \u001b[39m\u001b[38;5;132;01m{\u001b[39;00mloss[\u001b[32m0\u001b[39m]\u001b[38;5;132;01m}\u001b[39;00m\u001b[33m, Critic loss \u001b[39m\u001b[38;5;132;01m{\u001b[39;00mloss[\u001b[32m1\u001b[39m]\u001b[38;5;132;01m}\u001b[39;00m\u001b[33m'\u001b[39m)\n\u001b[32m---> \u001b[39m\u001b[32m46\u001b[39m         \u001b[43mupdate_target\u001b[49m\u001b[43m(\u001b[49m\u001b[43mtarget_actor\u001b[49m\u001b[43m,\u001b[49m\u001b[43m \u001b[49m\u001b[43mactor_model\u001b[49m\u001b[43m,\u001b[49m\u001b[43m \u001b[49m\u001b[43mtau\u001b[49m\u001b[43m)\u001b[49m\n\u001b[32m     47\u001b[39m         update_target(target_critic, critic_model, tau)\n\u001b[32m     49\u001b[39m \u001b[38;5;28;01mreturn\u001b[39;00m losses\n",
      "\u001b[36mCell\u001b[39m\u001b[36m \u001b[39m\u001b[32mIn[376]\u001b[39m\u001b[32m, line 10\u001b[39m, in \u001b[36mupdate_target\u001b[39m\u001b[34m(target, original, tau)\u001b[39m\n\u001b[32m      7\u001b[39m \u001b[38;5;28;01mfor\u001b[39;00m i \u001b[38;5;129;01min\u001b[39;00m \u001b[38;5;28mrange\u001b[39m(\u001b[38;5;28mlen\u001b[39m(target_weights)):\n\u001b[32m      8\u001b[39m     target_weights[i] = original_weights[i] * tau + target_weights[i] * (\u001b[32m1\u001b[39m - tau)\n\u001b[32m---> \u001b[39m\u001b[32m10\u001b[39m \u001b[43mtarget\u001b[49m\u001b[43m.\u001b[49m\u001b[43mset_weights\u001b[49m\u001b[43m(\u001b[49m\u001b[43mtarget_weights\u001b[49m\u001b[43m)\u001b[49m\n",
      "\u001b[36mFile \u001b[39m\u001b[32m~/miniconda3/envs/gym/lib/python3.11/site-packages/keras/src/layers/layer.py:707\u001b[39m, in \u001b[36mLayer.set_weights\u001b[39m\u001b[34m(self, weights)\u001b[39m\n\u001b[32m    701\u001b[39m     \u001b[38;5;28;01mraise\u001b[39;00m \u001b[38;5;167;01mValueError\u001b[39;00m(\n\u001b[32m    702\u001b[39m         \u001b[33mf\u001b[39m\u001b[33m\"\u001b[39m\u001b[33mYou called `set_weights(weights)` on layer \u001b[39m\u001b[33m'\u001b[39m\u001b[38;5;132;01m{\u001b[39;00m\u001b[38;5;28mself\u001b[39m.name\u001b[38;5;132;01m}\u001b[39;00m\u001b[33m'\u001b[39m\u001b[33m \u001b[39m\u001b[33m\"\u001b[39m\n\u001b[32m    703\u001b[39m         \u001b[33mf\u001b[39m\u001b[33m\"\u001b[39m\u001b[33mwith a weight list of length \u001b[39m\u001b[38;5;132;01m{\u001b[39;00m\u001b[38;5;28mlen\u001b[39m(weights)\u001b[38;5;132;01m}\u001b[39;00m\u001b[33m, but the layer \u001b[39m\u001b[33m\"\u001b[39m\n\u001b[32m    704\u001b[39m         \u001b[33mf\u001b[39m\u001b[33m\"\u001b[39m\u001b[33mwas expecting \u001b[39m\u001b[38;5;132;01m{\u001b[39;00m\u001b[38;5;28mlen\u001b[39m(layer_weights)\u001b[38;5;132;01m}\u001b[39;00m\u001b[33m weights.\u001b[39m\u001b[33m\"\u001b[39m\n\u001b[32m    705\u001b[39m     )\n\u001b[32m    706\u001b[39m \u001b[38;5;28;01mfor\u001b[39;00m variable, value \u001b[38;5;129;01min\u001b[39;00m \u001b[38;5;28mzip\u001b[39m(layer_weights, weights):\n\u001b[32m--> \u001b[39m\u001b[32m707\u001b[39m     \u001b[38;5;28;01mif\u001b[39;00m \u001b[43mvariable\u001b[49m\u001b[43m.\u001b[49m\u001b[43mshape\u001b[49m\u001b[43m \u001b[49m\u001b[43m!=\u001b[49m\u001b[43m \u001b[49m\u001b[43mvalue\u001b[49m\u001b[43m.\u001b[49m\u001b[43mshape\u001b[49m:\n\u001b[32m    708\u001b[39m         \u001b[38;5;28;01mraise\u001b[39;00m \u001b[38;5;167;01mValueError\u001b[39;00m(\n\u001b[32m    709\u001b[39m             \u001b[33mf\u001b[39m\u001b[33m\"\u001b[39m\u001b[33mLayer \u001b[39m\u001b[38;5;132;01m{\u001b[39;00m\u001b[38;5;28mself\u001b[39m.name\u001b[38;5;132;01m}\u001b[39;00m\u001b[33m weight shape \u001b[39m\u001b[38;5;132;01m{\u001b[39;00mvariable.shape\u001b[38;5;132;01m}\u001b[39;00m\u001b[33m \u001b[39m\u001b[33m\"\u001b[39m\n\u001b[32m    710\u001b[39m             \u001b[33m\"\u001b[39m\u001b[33mis not compatible with provided weight \u001b[39m\u001b[33m\"\u001b[39m\n\u001b[32m    711\u001b[39m             \u001b[33mf\u001b[39m\u001b[33m\"\u001b[39m\u001b[33mshape \u001b[39m\u001b[38;5;132;01m{\u001b[39;00mvalue.shape\u001b[38;5;132;01m}\u001b[39;00m\u001b[33m.\u001b[39m\u001b[33m\"\u001b[39m\n\u001b[32m    712\u001b[39m         )\n\u001b[32m    713\u001b[39m     variable.assign(value)\n",
      "\u001b[36mFile \u001b[39m\u001b[32m~/miniconda3/envs/gym/lib/python3.11/site-packages/tensorflow/python/framework/tensor_shape.py:1503\u001b[39m, in \u001b[36mTensorShape.__eq__\u001b[39m\u001b[34m(self, other)\u001b[39m\n\u001b[32m   1455\u001b[39m \u001b[38;5;250m\u001b[39m\u001b[33;03m\"\"\"Returns True if `self` is equivalent to `other`.\u001b[39;00m\n\u001b[32m   1456\u001b[39m \n\u001b[32m   1457\u001b[39m \u001b[33;03mIt first tries to convert `other` to `TensorShape`. `TypeError` is thrown\u001b[39;00m\n\u001b[32m   (...)\u001b[39m\u001b[32m   1499\u001b[39m \u001b[33;03m  TypeError if `other` can not be converted to `TensorShape`.\u001b[39;00m\n\u001b[32m   1500\u001b[39m \u001b[33;03m\"\"\"\u001b[39;00m\n\u001b[32m   1502\u001b[39m \u001b[38;5;28;01mtry\u001b[39;00m:\n\u001b[32m-> \u001b[39m\u001b[32m1503\u001b[39m   other = \u001b[43mas_shape\u001b[49m\u001b[43m(\u001b[49m\u001b[43mother\u001b[49m\u001b[43m)\u001b[49m\n\u001b[32m   1504\u001b[39m \u001b[38;5;28;01mexcept\u001b[39;00m \u001b[38;5;167;01mTypeError\u001b[39;00m:\n\u001b[32m   1505\u001b[39m   \u001b[38;5;28;01mreturn\u001b[39;00m \u001b[38;5;28mNotImplemented\u001b[39m\n",
      "\u001b[36mFile \u001b[39m\u001b[32m~/miniconda3/envs/gym/lib/python3.11/site-packages/tensorflow/python/framework/tensor_shape.py:1550\u001b[39m, in \u001b[36mas_shape\u001b[39m\u001b[34m(shape)\u001b[39m\n\u001b[32m   1548\u001b[39m   \u001b[38;5;28;01mreturn\u001b[39;00m shape\n\u001b[32m   1549\u001b[39m \u001b[38;5;28;01melse\u001b[39;00m:\n\u001b[32m-> \u001b[39m\u001b[32m1550\u001b[39m   \u001b[38;5;28;01mreturn\u001b[39;00m \u001b[43mTensorShape\u001b[49m\u001b[43m(\u001b[49m\u001b[43mshape\u001b[49m\u001b[43m)\u001b[49m\n",
      "\u001b[36mFile \u001b[39m\u001b[32m~/miniconda3/envs/gym/lib/python3.11/site-packages/tensorflow/python/framework/tensor_shape.py:830\u001b[39m, in \u001b[36mTensorShape.__init__\u001b[39m\u001b[34m(self, dims)\u001b[39m\n\u001b[32m    821\u001b[39m \u001b[38;5;250m\u001b[39m\u001b[33;03m\"\"\"Creates a new TensorShape with the given dimensions.\u001b[39;00m\n\u001b[32m    822\u001b[39m \n\u001b[32m    823\u001b[39m \u001b[33;03mArgs:\u001b[39;00m\n\u001b[32m   (...)\u001b[39m\u001b[32m    827\u001b[39m \u001b[33;03m  TypeError: If dims cannot be converted to a list of dimensions.\u001b[39;00m\n\u001b[32m    828\u001b[39m \u001b[33;03m\"\"\"\u001b[39;00m\n\u001b[32m    829\u001b[39m \u001b[38;5;28;01mif\u001b[39;00m \u001b[38;5;28misinstance\u001b[39m(dims, (\u001b[38;5;28mtuple\u001b[39m, \u001b[38;5;28mlist\u001b[39m)):  \u001b[38;5;66;03m# Most common case.\u001b[39;00m\n\u001b[32m--> \u001b[39m\u001b[32m830\u001b[39m   \u001b[38;5;28mself\u001b[39m._dims = \u001b[38;5;28mtuple\u001b[39m(as_dimension(d).value \u001b[38;5;28;01mfor\u001b[39;00m d \u001b[38;5;129;01min\u001b[39;00m dims)\n\u001b[32m    831\u001b[39m \u001b[38;5;28;01melif\u001b[39;00m dims \u001b[38;5;129;01mis\u001b[39;00m \u001b[38;5;28;01mNone\u001b[39;00m:\n\u001b[32m    832\u001b[39m   \u001b[38;5;28mself\u001b[39m._dims = \u001b[38;5;28;01mNone\u001b[39;00m\n",
      "\u001b[31mKeyboardInterrupt\u001b[39m: "
     ]
    }
   ],
   "source": [
    "loss = train_cycle()"
   ]
  },
  {
   "cell_type": "code",
   "execution_count": 393,
   "id": "bce502df-55ff-4032-85b5-aa599b394215",
   "metadata": {},
   "outputs": [
    {
     "data": {
      "text/plain": [
       "(<tf.Tensor: shape=(), dtype=float32, numpy=-0.002422276884317398>,\n",
       " <tf.Tensor: shape=(), dtype=float32, numpy=156.2341766357422>)"
      ]
     },
     "execution_count": 393,
     "metadata": {},
     "output_type": "execute_result"
    }
   ],
   "source": [
    "losses[810]"
   ]
  },
  {
   "cell_type": "code",
   "execution_count": 394,
   "id": "8cb3bd32-259b-44c0-b18a-15176b5b1ef2",
   "metadata": {},
   "outputs": [
    {
     "data": {
      "text/plain": [
       "array([-1.08732574e-01,  9.09467563e-02, -1.00000000e+02,  8.32423102e-03,\n",
       "       -1.55252926e-02, -2.59464651e-01, -1.75703824e-01,  7.01481700e-02,\n",
       "       -9.23812687e-02, -8.39846209e-02, -8.23491812e-02, -8.25091079e-02,\n",
       "        6.10027835e-02,  6.57562539e-02, -3.92877370e-01, -2.05684006e-02,\n",
       "       -3.83431353e-02, -1.08691186e-01, -5.74313365e-02, -1.20049082e-01,\n",
       "        5.93394190e-02, -1.08909704e-01, -1.13385022e-01, -1.98000818e-02,\n",
       "       -5.44603541e-02, -3.98812369e-02,  8.00039172e-02,  2.42204405e-02,\n",
       "       -4.93335910e-02, -4.74535704e-01, -4.64263000e-03, -5.10592312e-02,\n",
       "        2.57173441e-02, -5.11154942e-02,  3.10635827e-02,  1.60244070e-02,\n",
       "       -1.97497923e-02, -2.41451934e-02, -7.07925335e-02, -7.56080002e-02,\n",
       "       -2.71981861e-02,  1.00391218e-02,  4.00391184e-02,  4.42679748e-02,\n",
       "       -2.43640974e-01,  1.41862240e-02, -8.39877352e-02, -1.08293422e-01,\n",
       "        2.05090065e-02, -2.38641612e-02,  1.43042892e-01, -7.18789995e-02,\n",
       "        6.11928180e-02,  3.58496457e-02, -1.09874770e-01,  2.98980740e-03,\n",
       "       -1.08293422e-01, -1.29647078e-02, -1.06704809e-01, -2.46802159e-02,\n",
       "       -2.68177278e-02,  1.10873058e-02,  1.77291110e-02, -2.67687351e-01],\n",
       "      dtype=float32)"
      ]
     },
     "execution_count": 394,
     "metadata": {},
     "output_type": "execute_result"
    }
   ],
   "source": [
    "all_rewards[810]"
   ]
  },
  {
   "cell_type": "code",
   "execution_count": 395,
   "id": "0fbbdc78-556a-4f0e-a97f-5da88865e60c",
   "metadata": {},
   "outputs": [
    {
     "data": {
      "text/plain": [
       "(<tf.Tensor: shape=(), dtype=float32, numpy=0.008132115006446838>,\n",
       " <tf.Tensor: shape=(), dtype=float32, numpy=0.12906527519226074>)"
      ]
     },
     "execution_count": 395,
     "metadata": {},
     "output_type": "execute_result"
    }
   ],
   "source": [
    "losses[811]"
   ]
  },
  {
   "cell_type": "code",
   "execution_count": 396,
   "id": "9cfd937f-f4e8-4ef7-aa28-92b747979e80",
   "metadata": {},
   "outputs": [
    {
     "data": {
      "text/plain": [
       "array([-0.17008387, -0.09942268,  0.0225085 ,  0.05444833,  0.03942832,\n",
       "        0.01346911,  0.0221659 ,  0.06213895, -0.11395452,  0.05140812,\n",
       "        0.00341076,  0.07241074, -0.06160733, -0.08833466, -0.05889516,\n",
       "       -0.10896895,  0.04562485,  0.03406398,  0.05491498,  0.07601438,\n",
       "       -0.0968378 , -0.11395452, -0.1377181 , -0.01401201,  0.00426183,\n",
       "        0.29211256, -0.05721461, -0.27484214, -0.0038107 ,  0.1336236 ,\n",
       "       -0.01379138,  0.02994999, -0.07526845, -0.05773079,  0.0527719 ,\n",
       "       -0.58817333, -0.05219508, -0.05099531, -0.06399444, -0.06123208,\n",
       "       -0.13173068, -0.09704918, -0.06065551, -0.09447797, -0.28365824,\n",
       "       -0.09104467,  0.08041902, -0.01280962, -0.41066995, -0.16974396,\n",
       "       -0.17540976,  0.02513043, -0.07618917, -0.16597335, -0.10133123,\n",
       "       -0.21802555, -0.07229909, -0.01517854, -0.07369348,  0.15401237,\n",
       "       -0.01880266, -0.3243682 , -0.01502361,  0.06341687], dtype=float32)"
      ]
     },
     "execution_count": 396,
     "metadata": {},
     "output_type": "execute_result"
    }
   ],
   "source": [
    "all_rewards[811]"
   ]
  },
  {
   "cell_type": "code",
   "execution_count": 296,
   "id": "87a60c13-d1a4-4de6-bea3-e2c57eddee29",
   "metadata": {},
   "outputs": [],
   "source": [
    "def plot_split_tuples(data, title=\"Графики\", ylabel1=\"Y1\", ylabel2=\"Y2\", version: int = 1):\n",
    "    y1_values = [point[0] for point in data]\n",
    "    y2_values = [point[1] for point in data]\n",
    "    x_values = list(range(len(data)))\n",
    "\n",
    "    fig, (ax1, ax2) = plt.subplots(1, 2, figsize=(12, 5))\n",
    "\n",
    "    ax1.plot(x_values, y1_values, marker='o', color='blue', label=ylabel1)\n",
    "    ax1.set_title(ylabel1)\n",
    "    ax1.set_xlabel(\"batches\")\n",
    "    ax1.set_ylabel(ylabel1)\n",
    "    ax1.legend()\n",
    "    ax1.grid(True)\n",
    "\n",
    "    ax2.plot(x_values, y2_values, marker='o', color='red', label=ylabel2)\n",
    "    ax2.set_title(ylabel2)\n",
    "    ax2.set_xlabel(\"batches\")\n",
    "    ax2.set_ylabel(ylabel2)\n",
    "    ax2.legend()\n",
    "    ax2.grid(True)\n",
    "\n",
    "    fig.suptitle(title)\n",
    "    plt.tight_layout()\n",
    "    plt.show()\n",
    "\n",
    "    plt.savefig(f'loss-{version}.png')"
   ]
  },
  {
   "cell_type": "code",
   "execution_count": 297,
   "id": "9692082d-b5c3-49bd-adee-3a9fb2e9e25a",
   "metadata": {},
   "outputs": [
    {
     "data": {
      "image/png": "[encoded data removed]",
      "text/plain": [
       "<Figure size 1200x500 with 2 Axes>"
      ]
     },
     "metadata": {},
     "output_type": "display_data"
    },
    {
     "data": {
      "text/plain": [
       "<Figure size 640x480 with 0 Axes>"
      ]
     },
     "metadata": {},
     "output_type": "display_data"
    }
   ],
   "source": [
    "plot_split_tuples(\n",
    "    loss,\n",
    "    title=\"Loss\",\n",
    "    ylabel1=\"Actor loss\",\n",
    "    ylabel2=\"Critic loss\",\n",
    "    version=2\n",
    ")"
   ]
  },
  {
   "cell_type": "markdown",
   "id": "3bd5b44e-55cd-43bb-89dd-87c28cc10a9c",
   "metadata": {},
   "source": [
    "# Testing"
   ]
  },
  {
   "cell_type": "markdown",
   "id": "965e5731-8d24-4482-82ed-7226fb18fa5c",
   "metadata": {},
   "source": [
    "Test the model on the environment and get a cool video"
   ]
  },
  {
   "cell_type": "code",
   "execution_count": 305,
   "id": "72ec281c-d005-499a-b416-4d0e43437a0a",
   "metadata": {},
   "outputs": [],
   "source": [
    "saving_steps = 1000"
   ]
  },
  {
   "cell_type": "code",
   "execution_count": 306,
   "id": "4df86c64-5527-43fd-aaba-9fe9c3b875ef",
   "metadata": {},
   "outputs": [],
   "source": [
    "saving_env = gym.make_vec(\"BipedalWalker-v3\", hardcore=False, render_mode=\"rgb_array_list\", num_envs=1)"
   ]
  },
  {
   "cell_type": "code",
   "execution_count": 307,
   "id": "5a5d8584-9529-4144-bc52-1fe4fce40b08",
   "metadata": {},
   "outputs": [],
   "source": [
    "def save_gameplay(\n",
    "    model: tf.keras.Model,\n",
    "    max_steps: int = 1000,\n",
    "    env: gym.Env | None = None,\n",
    "):\n",
    "    save_buffer = ReplayBuffer(\n",
    "        max_size=buffer_size,\n",
    "        observation_space=train_env.single_observation_space,\n",
    "        action_space=train_env.single_action_space\n",
    "    )\n",
    "    \n",
    "    _ = play_game(\n",
    "        model=model,\n",
    "        env=env,\n",
    "        steps=max_steps,\n",
    "        buffer=save_buffer\n",
    "    )\n",
    "\n",
    "    render = env.render()\n",
    "\n",
    "    gym.utils.save_video.save_video(\n",
    "        frames=render[0],\n",
    "        video_folder=\"videos\",\n",
    "        fps=env.metadata[\"render_fps\"],\n",
    "    )\n",
    "\n",
    "    return render"
   ]
  },
  {
   "cell_type": "code",
   "execution_count": 308,
   "id": "2a3b6d14-c8b4-4caa-a904-5447f3d9aab5",
   "metadata": {},
   "outputs": [],
   "source": [
    "res = save_gameplay(actor_model, max_steps=saving_steps, env=saving_env)"
   ]
  },
  {
   "cell_type": "code",
   "execution_count": null,
   "id": "427ee286-5e1c-4b66-a1a7-a6bc4c62ebf4",
   "metadata": {},
   "outputs": [],
   "source": []
  }
 ],
 "metadata": {
  "kernelspec": {
   "display_name": "Python 3 (ipykernel)",
   "language": "python",
   "name": "python3"
  },
  "language_info": {
   "codemirror_mode": {
    "name": "ipython",
    "version": 3
   },
   "file_extension": ".py",
   "mimetype": "text/x-python",
   "name": "python",
   "nbconvert_exporter": "python",
   "pygments_lexer": "ipython3",
   "version": "3.11.11"
  }
 },
 "nbformat": 4,
 "nbformat_minor": 5
}
