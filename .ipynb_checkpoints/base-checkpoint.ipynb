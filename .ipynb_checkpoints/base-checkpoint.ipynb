{
 "cells": [
  {
   "cell_type": "code",
   "execution_count": 1,
   "id": "d1e57015-9523-4642-b471-060caa33ab09",
   "metadata": {
    "collapsed": true,
    "jupyter": {
     "outputs_hidden": true
    },
    "scrolled": true
   },
   "outputs": [
    {
     "name": "stderr",
     "output_type": "stream",
     "text": [
      "2025-04-05 11:55:07.639455: I tensorflow/core/util/port.cc:153] oneDNN custom operations are on. You may see slightly different numerical results due to floating-point round-off errors from different computation orders. To turn them off, set the environment variable `TF_ENABLE_ONEDNN_OPTS=0`.\n",
      "2025-04-05 11:55:07.701058: E external/local_xla/xla/stream_executor/cuda/cuda_fft.cc:467] Unable to register cuFFT factory: Attempting to register factory for plugin cuFFT when one has already been registered\n",
      "WARNING: All log messages before absl::InitializeLog() is called are written to STDERR\n",
      "E0000 00:00:1743818107.738972  282285 cuda_dnn.cc:8579] Unable to register cuDNN factory: Attempting to register factory for plugin cuDNN when one has already been registered\n",
      "E0000 00:00:1743818107.748187  282285 cuda_blas.cc:1407] Unable to register cuBLAS factory: Attempting to register factory for plugin cuBLAS when one has already been registered\n",
      "W0000 00:00:1743818107.804091  282285 computation_placer.cc:177] computation placer already registered. Please check linkage and avoid linking the same target more than once.\n",
      "W0000 00:00:1743818107.804105  282285 computation_placer.cc:177] computation placer already registered. Please check linkage and avoid linking the same target more than once.\n",
      "W0000 00:00:1743818107.804106  282285 computation_placer.cc:177] computation placer already registered. Please check linkage and avoid linking the same target more than once.\n",
      "W0000 00:00:1743818107.804106  282285 computation_placer.cc:177] computation placer already registered. Please check linkage and avoid linking the same target more than once.\n",
      "2025-04-05 11:55:07.809544: I tensorflow/core/platform/cpu_feature_guard.cc:210] This TensorFlow binary is optimized to use available CPU instructions in performance-critical operations.\n",
      "To enable the following instructions: AVX_VNNI, in other operations, rebuild TensorFlow with the appropriate compiler flags.\n"
     ]
    },
    {
     "ename": "AttributeError",
     "evalue": "'MessageFactory' object has no attribute 'GetPrototype'",
     "output_type": "error",
     "traceback": [
      "\u001b[31m---------------------------------------------------------------------------\u001b[39m",
      "\u001b[31mAttributeError\u001b[39m                            Traceback (most recent call last)",
      "\u001b[31mAttributeError\u001b[39m: 'MessageFactory' object has no attribute 'GetPrototype'"
     ]
    },
    {
     "ename": "AttributeError",
     "evalue": "'MessageFactory' object has no attribute 'GetPrototype'",
     "output_type": "error",
     "traceback": [
      "\u001b[31m---------------------------------------------------------------------------\u001b[39m",
      "\u001b[31mAttributeError\u001b[39m                            Traceback (most recent call last)",
      "\u001b[31mAttributeError\u001b[39m: 'MessageFactory' object has no attribute 'GetPrototype'"
     ]
    },
    {
     "ename": "AttributeError",
     "evalue": "'MessageFactory' object has no attribute 'GetPrototype'",
     "output_type": "error",
     "traceback": [
      "\u001b[31m---------------------------------------------------------------------------\u001b[39m",
      "\u001b[31mAttributeError\u001b[39m                            Traceback (most recent call last)",
      "\u001b[31mAttributeError\u001b[39m: 'MessageFactory' object has no attribute 'GetPrototype'"
     ]
    },
    {
     "ename": "AttributeError",
     "evalue": "'MessageFactory' object has no attribute 'GetPrototype'",
     "output_type": "error",
     "traceback": [
      "\u001b[31m---------------------------------------------------------------------------\u001b[39m",
      "\u001b[31mAttributeError\u001b[39m                            Traceback (most recent call last)",
      "\u001b[31mAttributeError\u001b[39m: 'MessageFactory' object has no attribute 'GetPrototype'"
     ]
    },
    {
     "ename": "AttributeError",
     "evalue": "'MessageFactory' object has no attribute 'GetPrototype'",
     "output_type": "error",
     "traceback": [
      "\u001b[31m---------------------------------------------------------------------------\u001b[39m",
      "\u001b[31mAttributeError\u001b[39m                            Traceback (most recent call last)",
      "\u001b[31mAttributeError\u001b[39m: 'MessageFactory' object has no attribute 'GetPrototype'"
     ]
    }
   ],
   "source": [
    "import keras\n",
    "import numpy as np\n",
    "import tensorflow as tf\n",
    "import tqdm.notebook as tqdm\n",
    "import matplotlib.pyplot as plt"
   ]
  },
  {
   "cell_type": "code",
   "execution_count": 2,
   "id": "528a1402-a137-4afa-b373-4ad6bc623692",
   "metadata": {},
   "outputs": [],
   "source": [
    "gpus = tf.config.experimental.list_physical_devices('GPU')\n",
    "if gpus:\n",
    "    try:\n",
    "        for gpu in gpus:\n",
    "              tf.config.experimental.set_memory_growth(gpu, True)\n",
    "    except RuntimeError as e:\n",
    "        print(e)"
   ]
  },
  {
   "cell_type": "code",
   "execution_count": 3,
   "id": "d7dd1e2b-7a40-4311-85c3-4d4679b96b64",
   "metadata": {},
   "outputs": [],
   "source": [
    "class Environment:\n",
    "\n",
    "    STATES = {\n",
    "        \"start\":0,\n",
    "        \"playing\":1,\n",
    "        \"dead\": 2\n",
    "    }\n",
    "\n",
    "    DEFENITIONS = {\n",
    "        'empty':0,\n",
    "        'apple':1,\n",
    "        'hole':2,\n",
    "        'memory':3,\n",
    "        'player':4\n",
    "    }\n",
    "    \n",
    "    def __init__(self, map_size: int, n_apples: int, num_envs: int, num_bombs:int, max_iter: int, rewards: tuple[float, ...], ):\n",
    "\n",
    "        self.map_size = map_size\n",
    "        self.n_apples = n_apples\n",
    "        self.num_envs = num_envs\n",
    "        self.num_bombs = num_bombs\n",
    "        self.max_iter = max_iter\n",
    "        self.rewards = np.array(rewards, dtype=np.float32)\n",
    "\n",
    "        # self.coords = np.concatenate(\n",
    "        #     list(\n",
    "        #         map(\n",
    "        #             lambda x: x[None], np.meshgrid(np.arange(map_size), np.arange(map_size)))), axis=0)\n",
    "\n",
    "        # self.coords = np.moveaxis(self.coords.reshape(2, -1), 1, 0)[:, ::-1]\n",
    "        self.setup_map()\n",
    "\n",
    "        self.rng = np.random.default_rng()\n",
    "        \n",
    "\n",
    "    def setup_map(self):\n",
    "\n",
    "        self.maps = np.empty((self.num_envs, self.map_size, self.map_size), dtype=np.int32)\n",
    "        \n",
    "        apple_mask = np.zeros_like(self.maps)\n",
    "        flat_apple_mask = apple_mask.reshape(self.num_envs, -1)\n",
    "        flat_apple_mask[:,:self.n_apples] = 1\n",
    "        flat_apple_mask[:, -1] = 2\n",
    "        self.apple_mask = flat_apple_mask.reshape(self.num_envs, self.map_size, self.map_size)\n",
    "        \n",
    "        self.player = np.empty((self.num_envs, 3), dtype=np.int32)\n",
    "        self.player[:, 0] = np.arange(self.num_envs, dtype=np.int32)\n",
    "        self.prev_player = self.player.copy()\n",
    "        \n",
    "        self.rewards_buffer = np.empty(self.num_envs, dtype=np.float32)\n",
    "        self.moves = np.array([[-1, 0], [0, 1], [1, 0], [0, -1]], dtype=np.int32)\n",
    "        self.iterations = np.empty(self.num_envs, dtype=np.int32)\n",
    "        self.states = np.empty(self.num_envs, dtype=np.int32)\n",
    "        self.actions = np.empty(self.num_envs, dtype=np.int32)\n",
    "\n",
    "        self.eaten_apples = np.zeros(self.num_envs, dtype=np.int32)\n",
    "\n",
    "        self.states[...] =  Environment.STATES[\"dead\"]\n",
    "\n",
    "    def reset_maps(self):\n",
    "        refresh_mask = self.states == Environment.STATES[\"dead\"]\n",
    "        self.iterations[refresh_mask] = 0\n",
    "        self.states[refresh_mask] = Environment.STATES[\"start\"]\n",
    "        self.eaten_apples[refresh_mask] = 0\n",
    "\n",
    "        self.maps[refresh_mask] = Environment.DEFENITIONS['empty']\n",
    "\n",
    "        self.apple_mask = env.rng.permuted(self.apple_mask.reshape(self.num_envs, -1), axis=-1).reshape(self.num_envs, self.map_size, self.map_size)\n",
    "        self.maps = np.where(refresh_mask[:, None, None], self.apple_mask == 1, self.maps)\n",
    "\n",
    "        player_index = np.argmax((self.apple_mask == 2).reshape(self.num_envs, -1), axis=-1)\n",
    "        y_c = player_index // self.map_size\n",
    "        x_c = player_index % self.map_size\n",
    "        \n",
    "        self.player[:, 1:] = np.where(refresh_mask[:, None], np.concatenate([y_c[:,None], x_c[:, None]], axis=-1), self.player[:, 1:])\n",
    "        self.prev_player = np.where(refresh_mask[:, None], self.player, self.prev_player) \n",
    "        self.maps[self.player[:, 0], self.player[:, 1], self.player[:, 2]] = Environment.DEFENITIONS['player']\n",
    "\n",
    "    def step(self, actions):\n",
    "        self.update()\n",
    "        self.states[self.iterations > 0] = Environment.STATES['playing']\n",
    "        self.maps[self.prev_player[:, 0], self.prev_player[:, 1], self.prev_player[:, 2]] = Environment.DEFENITIONS['hole']\n",
    "        self.maps[self.player[:, 0], self.player[:, 1], self.player[:, 2]] = Environment.DEFENITIONS['memory']\n",
    "        self.prev_player[...] = self.player\n",
    "\n",
    "        start_mask = self.states != Environment.STATES['start']\n",
    "        \n",
    "        current_moves = self.moves[actions]\n",
    "        self.player[:, 1:] += current_moves * start_mask[:, None]\n",
    "        self.player[:, 1:] %= self.map_size\n",
    "\n",
    "        new_place = self.maps[self.player[:, 0], self.player[:, 1], self.player[:, 2]]\n",
    "        \n",
    "        self.eaten_apples += (new_place == Environment.DEFENITIONS[\"apple\"])\n",
    "        hole_mask = ((new_place == Environment.DEFENITIONS['hole']) | (new_place == Environment.DEFENITIONS['memory']))\n",
    "        \n",
    "        self.states[hole_mask & start_mask] = Environment.STATES['dead']\n",
    "        \n",
    "        self.player[:, 1:] -= current_moves * hole_mask[:, None] * start_mask[:, None]\n",
    "        self.player[:, 1:] %= self.map_size \n",
    "                 \n",
    "        self.rewards_buffer = self.rewards[new_place] * start_mask + self.rewards[-1] * (self.eaten_apples >= self.n_apples)\n",
    "\n",
    "                \n",
    "        self.maps[self.player[:, 0], self.player[:, 1], self.player[:, 2]] = Environment.DEFENITIONS['player']\n",
    "        self.iterations += 1\n",
    "        \n",
    "        self.states[(self.iterations >= self.max_iter) | (self.eaten_apples >= self.n_apples)] = Environment.STATES['dead']\n",
    "\n",
    "        return self.maps, self.rewards_buffer, self.states == Environment.STATES['dead']\n",
    "\n",
    "    def reset(self):\n",
    "        self.states[...] = Environment.STATES['dead']\n",
    "        self.reset_maps()\n",
    "        self.states[...] = Environment.STATES['playing']\n",
    "        return self.maps\n",
    "        \n",
    "    def update(self):\n",
    "        self.reset_maps()"
   ]
  },
  {
   "cell_type": "code",
   "execution_count": 4,
   "id": "35c805c2-fed5-47c6-bb91-141084bd4dcd",
   "metadata": {},
   "outputs": [],
   "source": [
    "env = Environment(16, 5, 16, 3, 100, (1, 10, -5, -6, 50))"
   ]
  },
  {
   "cell_type": "code",
   "execution_count": 5,
   "id": "c43e13c3-f7cd-4ae8-a1c2-916b2e40a1c4",
   "metadata": {},
   "outputs": [],
   "source": [
    "valid_env = Environment(16, 5, 1, 3, 100, (1, 10, -5, -6, 50))"
   ]
  },
  {
   "cell_type": "code",
   "execution_count": 6,
   "id": "59264df4-e173-40b2-8a03-a900ac13bad2",
   "metadata": {},
   "outputs": [],
   "source": [
    "class ReplayBuffer:\n",
    "\n",
    "    def __init__(self, max_size: int, observation_shape: tuple[int, ...], action_shape: tuple[int, ...], seed: int | None = None):\n",
    "        \"\"\"Stores the replay history with a maximum of `max_size` entries, removing old entries as needed.\n",
    "\n",
    "        Parameters:\n",
    "            max_size: maximal number of entries to keep\n",
    "            observation_space: specification of the observation space\n",
    "            action_space: specification of the action space\n",
    "            seed: seed to initialize the internal random number generator for reproducibility\"\"\"\n",
    "\n",
    "        self.current_observations = np.zeros((max_size, *observation_shape), dtype=np.int32)\n",
    "        self.next_observations = np.zeros((max_size, *observation_shape), dtype=np.int32)\n",
    "        self.actions = np.zeros((max_size,), dtype=np.int32)\n",
    "        self.rewards = np.zeros((max_size,), dtype=np.float32)\n",
    "        self.dones = np.zeros((max_size,), dtype=np.float32)\n",
    "        \n",
    "        self.max_size = max_size\n",
    "        self.rng = np.random.default_rng(seed=seed)\n",
    "        self.buffer_pointer = 0\n",
    "        self.current_size = 0\n",
    "        \n",
    "        \n",
    "    def add(self, current_observations: np.ndarray, actions: np.ndarray, rewards: np.ndarray, next_observations: np.ndarray, dones: np.ndarray) -> None:\n",
    "        \"\"\"Add a new entry to the buffer.\n",
    "\n",
    "        Parameters:\n",
    "            current_observations: environment state observed at the current step\n",
    "            actions: action taken by the model\n",
    "            rewards: reward received after taking the action\n",
    "            next_observations: environment state obversed after taking the action\n",
    "            dones: whether the episode has ended or not\"\"\"\n",
    "        batch_size = current_observations.shape[0]\n",
    "        idxs = (np.arange(batch_size) + self.buffer_pointer) % self.max_size\n",
    "        \n",
    "        self.current_observations[idxs] = current_observations\n",
    "        self.actions[idxs] = actions\n",
    "        self.rewards[idxs] = rewards\n",
    "        self.next_observations[idxs] = next_observations\n",
    "        self.dones[idxs] = dones\n",
    "\n",
    "        self.buffer_pointer = (idxs[-1] + 1) % self.max_size\n",
    "        self.current_size = min(self.max_size, self.current_size + batch_size)\n",
    "        \n",
    "    def sample(self, n_samples: int, replace: bool = True) -> tuple[np.ndarray, np.ndarray, np.ndarray, np.ndarray, np.ndarray]:\n",
    "        \"\"\"Randomly samples `n_samples` from the buffer.\n",
    "\n",
    "        Parameters:\n",
    "            n_samples: number of samples to select\n",
    "            replace: sample with or without replacement\n",
    "\n",
    "        Returns:\n",
    "            current observations, actions, rewards, next observations, done\"\"\"\n",
    "        return self[self.rng.choice(self.current_size, size=n_samples, replace=replace)]\n",
    "\n",
    "    def clear(self) -> None:\n",
    "        \"\"\"Clears the buffer\"\"\"\n",
    "        self.buffer_pointer = 0\n",
    "        self.current_size = 0\n",
    "\n",
    "    def __getitem__(self, index: int | np.ndarray) -> tuple[np.ndarray, np.ndarray, np.ndarray, np.ndarray, np.ndarray]:\n",
    "        \"\"\"Gets a sample at `index`\n",
    "\n",
    "        Parameters:\n",
    "            index: index of the sample to get\n",
    "\n",
    "        Returns:\n",
    "            current observation, action, reward, next observation, done\"\"\"\n",
    "        return (\n",
    "            self.current_observations[index],\n",
    "            self.actions[index],\n",
    "            self.rewards[index],\n",
    "            self.next_observations[index],\n",
    "            self.dones[index]\n",
    "        )\n",
    "        \n",
    "    def __len__(self) -> int:\n",
    "        \"\"\"Returns the number of entries in the buffer\"\"\"\n",
    "        return self.current_size"
   ]
  },
  {
   "cell_type": "code",
   "execution_count": 7,
   "id": "a0fe8e9f-e4da-4b93-822f-ec9de249ba8e",
   "metadata": {},
   "outputs": [],
   "source": [
    "def get_name(prefix: str | None, suffix: str | None, separator: str = '_'):\n",
    "    return prefix and prefix + separator + suffix"
   ]
  },
  {
   "cell_type": "code",
   "execution_count": 8,
   "id": "6106ac8c-1482-42a9-bfcb-87d3ca2a084b",
   "metadata": {},
   "outputs": [],
   "source": [
    "def get_model(\n",
    "    observation_shape: tuple[int, ...],\n",
    "    n_states: int,\n",
    "    n_actions: int,\n",
    "    features: int,\n",
    "    blocks: int, \n",
    "    activation: str | keras.layers.Activation | None = 'silu',\n",
    "    dropout_rate: float = 0.,\n",
    "    multiply_freq: int = 1,\n",
    "    name: str | None = None\n",
    ") -> keras.Model:\n",
    "\n",
    "    inputs = keras.layers.Input(observation_shape, name=get_name(name, 'input'))\n",
    "    embedding = x =  keras.layers.Embedding(n_states, features, name=get_name(name, 'embedding'))(inputs)\n",
    "    \n",
    "    for i in range(blocks):\n",
    "        name_block = f'{name}_{i}_block'\n",
    "        x = keras.layers.Conv2D(features, kernel_size=3, padding='same', activation=activation, name=get_name(name_block, 'conv1'))(x)\n",
    "        x = keras.layers.BatchNormalization(name=get_name(name_block, 'norm1'))(x)\n",
    "        x = keras.layers.Conv2D(features, kernel_size=3, padding='same', activation=activation, name=get_name(name_block, 'conv2'))(x)\n",
    "        x = keras.layers.BatchNormalization(name=get_name(name_block, 'norm2'))(x)\n",
    "        x = keras.layers.MaxPool2D(name=get_name(name_block, 'pool'))(x)\n",
    "\n",
    "        features *= 2\n",
    "\n",
    "    y = keras.layers.GlobalAveragePooling2D(name=get_name(name, 'aver_pool'))(x)\n",
    "    # z = keras.layers.GlobalMaxPooling2D(name=get_name(name, 'max_pool'))(x)\n",
    "    # x = keras.layers.Concatenate(axis=-1, name=get_name(name, 'concat'))([y, z])\n",
    "    x = y\n",
    "    x = keras.layers.Dense(x.shape[1] * 4, activation=activation, name=get_name(name, 'dense1'))(x)\n",
    "    x = keras.layers.Dense(n_actions, name=get_name(name, 'dense2'))(x)\n",
    "\n",
    "    return keras.models.Model(inputs=inputs, outputs=x, name=name)     "
   ]
  },
  {
   "cell_type": "code",
   "execution_count": 9,
   "id": "87f35e32-99bc-4547-b5e5-34ea73311c88",
   "metadata": {},
   "outputs": [],
   "source": [
    "class QLoss(keras.layers.Layer):\n",
    "\n",
    "    def __init__(self, gamma: float, **kwargs):\n",
    "        super().__init__(**kwargs)\n",
    "        \n",
    "        self.gamma = gamma\n",
    "\n",
    "    def call(self, q_current: keras.KerasTensor, q_next: keras.KerasTensor, rewards: keras.KerasTensor, actions: keras.KerasTensor, dones: keras.KerasTensor) -> keras.KerasTensor:\n",
    "        q_ref = rewards + self.gamma * (1 - dones) * keras.ops.max(q_next, axis=-1)\n",
    "\n",
    "        # return keras.ops.mean(\n",
    "        #     keras.ops.square(keras.ops.sum(q_current * actions, axis=-1) - q_ref)\n",
    "        # )\n",
    "        return keras.ops.square(keras.ops.sum(q_current * actions, axis=-1) - q_ref)\n",
    "\n",
    "    def get_config(self) -> dict:\n",
    "        config = super().get_config()\n",
    "        config['gamma'] = self.gamma\n",
    "        return config"
   ]
  },
  {
   "cell_type": "code",
   "execution_count": 10,
   "id": "a66ae93b-6cf9-4bcf-8b81-dc4f47b51fae",
   "metadata": {},
   "outputs": [],
   "source": [
    "def get_combined_model(\n",
    "    observation_shape: tuple[int, ...],\n",
    "    n_actions: int,\n",
    "    n_states: int,\n",
    "    features: int,\n",
    "    blocks: int, \n",
    "    activation: str | keras.layers.Activation | None = 'silu',\n",
    "    dropout_rate: float = 0.,\n",
    "    multiply_freq: int = 1,\n",
    "    name: str | None = None,\n",
    "    gamma: float = 0.99\n",
    ") -> keras.Model:\n",
    "    \"\"\"Creates a combined model for Q-learning training\n",
    "\n",
    "    Arguments:\n",
    "        input_features: model input vector size\n",
    "        features: initial model embedding size\n",
    "        out_features: model output vector size\n",
    "        block: number of perceptron layers\n",
    "        activation: intermediate model activation\n",
    "        dropout_rate: nuff said\n",
    "        multifly_freq: doubles embedding size every `multiply_freq` blocks\n",
    "        name: model name,\n",
    "        gamma: rewards discount\n",
    "    Returns:\n",
    "        A q-model, a target q-model, a combined model\n",
    "    \"\"\"\n",
    "    model = get_model(\n",
    "        observation_shape=observation_shape,\n",
    "        n_actions=n_actions,\n",
    "        n_states=n_states,\n",
    "        features=features,\n",
    "        blocks=blocks,\n",
    "        activation=activation,\n",
    "        dropout_rate=dropout_rate,\n",
    "        multiply_freq=multiply_freq,\n",
    "        name=get_name(name, \"model\"),\n",
    "    )\n",
    "    \n",
    "    target_model = get_model(\n",
    "        observation_shape=observation_shape,\n",
    "        n_actions=n_actions,\n",
    "        n_states=n_states,\n",
    "        features=features,\n",
    "        blocks=blocks,\n",
    "        activation=activation,\n",
    "        multiply_freq=multiply_freq,\n",
    "        name=get_name(name, \"target_model\"),\n",
    "    )\n",
    "\n",
    "    target_model.trainable = False\n",
    "    target_model.set_weights(model.get_weights())\n",
    "\n",
    "    current_observation = keras.layers.Input(observation_shape, dtype='int32', name=get_name(name, \"curr_observ\"))\n",
    "    next_observation = keras.layers.Input(observation_shape, dtype='int32', name=get_name(name, \"next_observ\"))\n",
    "    current_action = keras.layers.Input((n_actions,), dtype=\"float32\", name=get_name(name, \"curr_action\"))\n",
    "    rewards = keras.layers.Input((), dtype=\"float32\", name=get_name(name, \"rewards\"))\n",
    "    dones = keras.layers.Input((), dtype=\"float32\", name=get_name(name, \"dones\"))\n",
    "\n",
    "    model_res = model(current_observation)\n",
    "    target_model_res = target_model(next_observation)\n",
    "\n",
    "    loss = QLoss(gamma=gamma, name=get_name(name, \"Q_loss\"))(model_res, target_model_res, rewards, current_action, dones)\n",
    "\n",
    "    return (\n",
    "        model, \n",
    "        target_model, \n",
    "        keras.Model(\n",
    "            inputs=[\n",
    "                current_observation,\n",
    "                current_action,\n",
    "                rewards,\n",
    "                next_observation,\n",
    "                dones,\n",
    "            ],\n",
    "            outputs=loss,\n",
    "            name=name\n",
    "        ),\n",
    "    )"
   ]
  },
  {
   "cell_type": "code",
   "execution_count": 11,
   "id": "5b8a4f6b-cb5c-40f3-a322-868b27145d85",
   "metadata": {},
   "outputs": [],
   "source": [
    "class Sampler:\n",
    "    \n",
    "    def __init__(self, epsilon: float, seed: int | None = None, greedy: bool = False):\n",
    "        \"\"\"Selects a random action with probability `epsilon` otherwise selects the most probably action given by the model.\n",
    "\n",
    "        Parameters:\n",
    "            epsilon: the probability to select a random action\n",
    "            seed: seed to initialize the internal random number generator for reproducibility\"\"\"\n",
    "        self.epsilon = epsilon\n",
    "        self.greedy = greedy\n",
    "        self.rng = np.random.default_rng(seed=seed)\n",
    "\n",
    "    \n",
    "    def _sample(self, probabilities: np.ndarray) -> np.ndarray:\n",
    "        exps = np.exp(probabilities)\n",
    "        probabilities = exps / exps.sum(axis=-1, keepdims=True)\n",
    "        \n",
    "        cumsum = np.cumsum(probabilities, axis=-1)\n",
    "        probs = self.rng.uniform(size=(cumsum.shape[0], 1))\n",
    "        msk = cumsum > probs\n",
    "        return np.argmax(msk, axis=-1)\n",
    "\n",
    "        \n",
    "    def __call__(self, probabilities: np.ndarray) -> np.ndarray:\n",
    "        \"\"\"Select an action given the `probabilities\n",
    "\n",
    "        Parameters:\n",
    "            probabilities: probabilities for each action\n",
    "\n",
    "        Returns:\n",
    "            index of the selected action\"\"\"\n",
    "        batch, *_ = probabilities.shape\n",
    "        probs = self.rng.uniform(size=batch)\n",
    "\n",
    "        return np.where(\n",
    "            probs < self.epsilon,\n",
    "            self.rng.choice(probabilities.shape[1], size=batch),\n",
    "            np.argmax(probabilities, axis=-1) if self.greedy else self._sample(probabilities),\n",
    "        )"
   ]
  },
  {
   "cell_type": "code",
   "execution_count": 12,
   "id": "927b391e-1976-414a-9022-e55348bc4435",
   "metadata": {},
   "outputs": [],
   "source": [
    "def play_game(\n",
    "    model: keras.Model,\n",
    "    buffer: ReplayBuffer,\n",
    "    env: Environment,\n",
    "    steps: int,\n",
    "    sampler: Sampler,\n",
    "    observations: np.ndarray | None = None,\n",
    "    one_episode: bool = False\n",
    ") -> np.ndarray:\n",
    "    \"\"\"Plays the environment `env` using model `model` for a total of `steps` steps.\n",
    "\n",
    "    Arguments:\n",
    "        model: model to use\n",
    "        buffer: buffer to store results to\n",
    "        env: environment to use\n",
    "        steps: total number of steps to record\n",
    "        sampler: sampler to use\n",
    "        observations: observation to start from\n",
    "        one_episode: exist as soon as one of the environments finishes\n",
    "\n",
    "    Returns:\n",
    "        the last observations\n",
    "    \"\"\"\n",
    "    if observations is None:\n",
    "        observations = env.reset()\n",
    "\n",
    "    for _ in range(steps // env.num_envs):\n",
    "        res = model(observations, training=False).numpy()\n",
    "        actions = sampler(res)\n",
    "        new_observations, rewards, terminateds = env.step(actions) # new_observations, rewards, terminateds, truncated, info\n",
    "\n",
    "        dones = terminateds\n",
    "\n",
    "        buffer.add(\n",
    "            current_observations=observations,\n",
    "            actions=actions,\n",
    "            rewards=rewards,\n",
    "            next_observations=new_observations,\n",
    "            dones=dones,\n",
    "        )\n",
    "        \n",
    "        if one_episode and np.any(dones):\n",
    "            observations = None\n",
    "            break\n",
    "        \n",
    "        observations = new_observations\n",
    "    \n",
    "    return observations"
   ]
  },
  {
   "cell_type": "code",
   "execution_count": 13,
   "id": "01514b6b-9ba3-4ec0-950f-8ccf4fa37131",
   "metadata": {},
   "outputs": [],
   "source": [
    "class QDataset(keras.utils.PyDataset):\n",
    "\n",
    "    def __init__(\n",
    "        self,\n",
    "        steps_per_epoch: int,\n",
    "        batch_size: int,\n",
    "        buffer: ReplayBuffer,\n",
    "        n_actions: int\n",
    "    ):\n",
    "        super().__init__()\n",
    "        self.buffer = buffer\n",
    "        self.batch_size = batch_size\n",
    "        self.steps_per_epoch = steps_per_epoch\n",
    "\n",
    "        self._eye = np.eye(n_actions)\n",
    "        self._answer = np.zeros(batch_size, dtype=np.float32)\n",
    "\n",
    "    def __len__(self):\n",
    "        return self.steps_per_epoch\n",
    "\n",
    "    def __getitem__(self, idx: int) -> np.ndarray:\n",
    "        a, b, c, d, e = self.buffer.sample(self.batch_size)\n",
    "        b = self._eye[b]\n",
    "\n",
    "        return (a, b, c, d, e), self._answer"
   ]
  },
  {
   "cell_type": "code",
   "execution_count": 14,
   "id": "c46f31be-dea7-457f-8462-ee99c01558bb",
   "metadata": {},
   "outputs": [],
   "source": [
    "class SometimesPlayCallback(keras.callbacks.Callback):\n",
    "    def __init__(\n",
    "        self,\n",
    "        env: Environment,\n",
    "        buffer: ReplayBuffer,\n",
    "        sampler: Sampler,\n",
    "        frequency: int,\n",
    "        steps_per_play: int,\n",
    "        epsilon_decay: keras.optimizers.schedules.PolynomialDecay | None = None,\n",
    "        **kwargs\n",
    "    ):\n",
    "        super().__init__(**kwargs)\n",
    "        self.env = env\n",
    "        self.buffer = buffer\n",
    "        self.sampler = sampler\n",
    "        self.frequency = frequency\n",
    "        self.steps_per_play = steps_per_play\n",
    "        self.epsilon_decay = epsilon_decay\n",
    "\n",
    "        self.observations = None\n",
    "\n",
    "    def on_epoch_begin(self, epoch: int, logs=None):\n",
    "        if self.epsilon_decay is not None:\n",
    "            self.sampler.epsilon = self.epsilon_decay(epoch)\n",
    "        if epoch == 0:\n",
    "            model = self.model.get_layer(\n",
    "                f'{self.model.name}_model'\n",
    "            )\n",
    "\n",
    "            self.buffer.clear()\n",
    "            \n",
    "            self.observations = play_game(\n",
    "                model=model,\n",
    "                buffer=self.buffer,\n",
    "                env=self.env,\n",
    "                steps=self.steps_per_play,\n",
    "                sampler=self.sampler,\n",
    "                observations=self.observations\n",
    "            )\n",
    "\n",
    "    def on_train_batch_begin(self, batch_num: int, logs=None):\n",
    "        if (batch_num + 1) % self.frequency:\n",
    "            return\n",
    "        \n",
    "        model = self.model.get_layer(\n",
    "            f'{self.model.name}_model'\n",
    "        )\n",
    "\n",
    "        self.observations = play_game(\n",
    "            model=model,\n",
    "            buffer=self.buffer,\n",
    "            env=self.env,\n",
    "            steps=self.steps_per_play,\n",
    "            sampler=self.sampler,\n",
    "            observations=self.observations\n",
    "        )"
   ]
  },
  {
   "cell_type": "code",
   "execution_count": 15,
   "id": "c9961468-84a3-4280-b81c-d6a95bfc8589",
   "metadata": {},
   "outputs": [],
   "source": [
    "class ModelUpdateCallback(keras.callbacks.Callback):\n",
    "\n",
    "    def __init__(self, frequency: int, **kwargs):\n",
    "        super().__init__(**kwargs)\n",
    "        self.frequency = frequency\n",
    "        \n",
    "    def on_train_batch_end(self, batch: int, logs=None):\n",
    "        if (batch + 1) % self.frequency == 0:\n",
    "            self.model.get_layer(\n",
    "                f'{self.model.name}_target_model'\n",
    "            ).set_weights(\n",
    "                self.model.get_layer(\n",
    "                    f'{self.model.name}_model'\n",
    "                ).get_weights()\n",
    "            )"
   ]
  },
  {
   "cell_type": "code",
   "execution_count": 16,
   "id": "2b909947-9625-454b-a193-85f3c92a88a8",
   "metadata": {},
   "outputs": [],
   "source": [
    "class ModelEvalCallback(keras.callbacks.Callback):\n",
    "\n",
    "    def __init__(self, env: Environment, max_steps: int, **kwargs):\n",
    "        super().__init__(**kwargs)\n",
    "        self.env = env\n",
    "        self.max_steps = max_steps\n",
    "\n",
    "        self.buffer = ReplayBuffer(\n",
    "            max_size=max_steps,\n",
    "            observation_shape=(env.map_size, env.map_size),\n",
    "            action_shape=()\n",
    "        )\n",
    "\n",
    "        self.sampler = Sampler(epsilon=0., greedy=True)\n",
    "\n",
    "    def on_epoch_end(self, epoch: int, logs=None):\n",
    "        if logs is None:\n",
    "            return\n",
    "\n",
    "        model = self.model.get_layer(\n",
    "            f'{self.model.name}_model'\n",
    "        )\n",
    "\n",
    "        self.buffer.clear()\n",
    "\n",
    "        play_game(\n",
    "            model=model,\n",
    "            buffer=self.buffer,\n",
    "            env=self.env,\n",
    "            steps=self.max_steps,\n",
    "            sampler=self.sampler,\n",
    "            one_episode=True,\n",
    "        )\n",
    "\n",
    "        rewards = self.buffer.rewards[:len(self.buffer)].reshape((-1, self.env.num_envs))\n",
    "        logs['score'] = np.mean(np.sum(rewards, axis=0))"
   ]
  },
  {
   "cell_type": "code",
   "execution_count": 17,
   "id": "f93f19cc-08e3-418a-a274-2c4c0c996329",
   "metadata": {},
   "outputs": [
    {
     "name": "stderr",
     "output_type": "stream",
     "text": [
      "I0000 00:00:1743818119.967725  282285 gpu_device.cc:2019] Created device /job:localhost/replica:0/task:0/device:GPU:0 with 21480 MB memory:  -> device: 0, name: NVIDIA GeForce RTX 3090 Ti, pci bus id: 0000:01:00.0, compute capability: 8.6\n"
     ]
    }
   ],
   "source": [
    "model, target_model, combined_model = get_combined_model(\n",
    "    observation_shape=(env.map_size, env.map_size),\n",
    "    n_actions=4,\n",
    "    n_states=5,\n",
    "    features=64,\n",
    "    blocks=4,\n",
    "    activation='silu',\n",
    "    dropout_rate=0.2,\n",
    "    multiply_freq=1,\n",
    "    name='lander',\n",
    "    gamma=0.99\n",
    ")"
   ]
  },
  {
   "cell_type": "code",
   "execution_count": 18,
   "id": "4f01b410-787f-44d1-9062-db17b2722ef0",
   "metadata": {},
   "outputs": [],
   "source": [
    "buffer_size = 2 ** 15     # 32_768\n",
    "steps_per_play = 2 ** 11  # 2048\n",
    "steps_per_epoch = 2 ** 10 # 1024\n",
    "\n",
    "end_epsilon = 0.1\n",
    "epochs = 128\n",
    "decay_epochs = epochs // 2\n",
    "update_frequency = 512\n",
    "play_frequency = 128"
   ]
  },
  {
   "cell_type": "code",
   "execution_count": 19,
   "id": "c7a4baa1-27ef-49e2-a5e2-a20926c0dea0",
   "metadata": {},
   "outputs": [],
   "source": [
    "sampler = Sampler(1, greedy=False)"
   ]
  },
  {
   "cell_type": "code",
   "execution_count": 20,
   "id": "2a6f75c8-d596-4118-924d-f8924513463d",
   "metadata": {},
   "outputs": [],
   "source": [
    "epsilon_decay = keras.optimizers.schedules.PolynomialDecay(0.5, decay_epochs, end_learning_rate=end_epsilon)"
   ]
  },
  {
   "cell_type": "code",
   "execution_count": 21,
   "id": "30065ff9-d7a0-44b9-a331-c24921010ee9",
   "metadata": {},
   "outputs": [],
   "source": [
    "train_buffer = ReplayBuffer(\n",
    "    max_size=buffer_size,\n",
    "    observation_shape=(env.map_size, env.map_size),\n",
    "    action_shape=()\n",
    ")"
   ]
  },
  {
   "cell_type": "code",
   "execution_count": 22,
   "id": "aa9fcd57-3b6f-4a3c-bbbc-d05e7fe2523a",
   "metadata": {},
   "outputs": [],
   "source": [
    "dataset = QDataset(\n",
    "    steps_per_epoch=steps_per_epoch,\n",
    "    batch_size=env.num_envs,\n",
    "    buffer=train_buffer,\n",
    "    n_actions=4,\n",
    ")"
   ]
  },
  {
   "cell_type": "code",
   "execution_count": 23,
   "id": "9921378b-3298-4615-a6d4-6333fdd7a401",
   "metadata": {},
   "outputs": [],
   "source": [
    "combined_model.compile(\n",
    "    loss=(lambda y_true, y_pred: keras.ops.mean(y_pred)),\n",
    "    optimizer=keras.optimizers.Adam(1e-4, clipnorm=5, weight_decay=2e-5),\n",
    ")"
   ]
  },
  {
   "cell_type": "code",
   "execution_count": 24,
   "id": "0a0cc453-3e57-4538-941c-06bbea4286d1",
   "metadata": {},
   "outputs": [],
   "source": [
    "callbacks = [\n",
    "    ModelUpdateCallback(update_frequency),\n",
    "    ModelEvalCallback(valid_env, 1000),\n",
    "    SometimesPlayCallback(\n",
    "        env=env,\n",
    "        buffer=train_buffer,\n",
    "        sampler=sampler,\n",
    "        frequency=play_frequency,\n",
    "        steps_per_play=steps_per_play,\n",
    "        epsilon_decay=epsilon_decay,\n",
    "    )\n",
    "]"
   ]
  },
  {
   "cell_type": "code",
   "execution_count": 25,
   "id": "69647920-de7d-4bb3-8cf4-0cd1a7cf8b40",
   "metadata": {},
   "outputs": [
    {
     "name": "stderr",
     "output_type": "stream",
     "text": [
      "I0000 00:00:1743818126.259829  282285 cuda_dnn.cc:529] Loaded cuDNN version 90700\n"
     ]
    }
   ],
   "source": [
    "_ = play_game(\n",
    "    model=model,\n",
    "    buffer=train_buffer,\n",
    "    env=env,\n",
    "    steps=steps_per_play * 2,\n",
    "    sampler=sampler,\n",
    ")"
   ]
  },
  {
   "cell_type": "code",
   "execution_count": 26,
   "id": "c112171f-40ee-437d-a02e-16ed8a16b3d7",
   "metadata": {},
   "outputs": [
    {
     "name": "stdout",
     "output_type": "stream",
     "text": [
      "Epoch 1/128\n"
     ]
    },
    {
     "name": "stderr",
     "output_type": "stream",
     "text": [
      "WARNING: All log messages before absl::InitializeLog() is called are written to STDERR\n",
      "I0000 00:00:1743818137.871414  284745 service.cc:152] XLA service 0x6157ccd2eb40 initialized for platform CUDA (this does not guarantee that XLA will be used). Devices:\n",
      "I0000 00:00:1743818137.871545  284745 service.cc:160]   StreamExecutor device (0): NVIDIA GeForce RTX 3090 Ti, Compute Capability 8.6\n",
      "2025-04-05 11:55:37.965255: I tensorflow/compiler/mlir/tensorflow/utils/dump_mlir_util.cc:269] disabling MLIR crash reproducer, set env var `MLIR_CRASH_REPRODUCER_DIRECTORY` to enable.\n"
     ]
    },
    {
     "name": "stdout",
     "output_type": "stream",
     "text": [
      "\u001b[1m  44/1024\u001b[0m \u001b[37m━━━━━━━━━━━━━━━━━━━━\u001b[0m \u001b[1m3s\u001b[0m 4ms/step - loss: 7.0587"
     ]
    },
    {
     "name": "stderr",
     "output_type": "stream",
     "text": [
      "I0000 00:00:1743818141.588703  284745 device_compiler.h:188] Compiled cluster using XLA!  This line is logged at most once for the lifetime of the process.\n"
     ]
    },
    {
     "name": "stdout",
     "output_type": "stream",
     "text": [
      "\u001b[1m1024/1024\u001b[0m \u001b[32m━━━━━━━━━━━━━━━━━━━━\u001b[0m\u001b[37m\u001b[0m \u001b[1m21s\u001b[0m 14ms/step - loss: 5.4413 - score: 14.0000\n",
      "Epoch 2/128\n",
      "\u001b[1m1024/1024\u001b[0m \u001b[32m━━━━━━━━━━━━━━━━━━━━\u001b[0m\u001b[37m\u001b[0m \u001b[1m15s\u001b[0m 14ms/step - loss: 3.3225 - score: 16.0000\n",
      "Epoch 3/128\n",
      "\u001b[1m1024/1024\u001b[0m \u001b[32m━━━━━━━━━━━━━━━━━━━━\u001b[0m\u001b[37m\u001b[0m \u001b[1m15s\u001b[0m 14ms/step - loss: 3.9160 - score: 11.0000\n",
      "Epoch 4/128\n",
      "\u001b[1m1024/1024\u001b[0m \u001b[32m━━━━━━━━━━━━━━━━━━━━\u001b[0m\u001b[37m\u001b[0m \u001b[1m15s\u001b[0m 14ms/step - loss: 4.1783 - score: 12.0000\n",
      "Epoch 5/128\n",
      "\u001b[1m1024/1024\u001b[0m \u001b[32m━━━━━━━━━━━━━━━━━━━━\u001b[0m\u001b[37m\u001b[0m \u001b[1m14s\u001b[0m 14ms/step - loss: 4.7966 - score: 10.0000\n",
      "Epoch 6/128\n",
      "\u001b[1m1024/1024\u001b[0m \u001b[32m━━━━━━━━━━━━━━━━━━━━\u001b[0m\u001b[37m\u001b[0m \u001b[1m15s\u001b[0m 15ms/step - loss: 4.6941 - score: 74.0000\n",
      "Epoch 7/128\n",
      "\u001b[1m1024/1024\u001b[0m \u001b[32m━━━━━━━━━━━━━━━━━━━━\u001b[0m\u001b[37m\u001b[0m \u001b[1m15s\u001b[0m 14ms/step - loss: 6.3507 - score: 35.0000\n",
      "Epoch 8/128\n",
      "\u001b[1m1024/1024\u001b[0m \u001b[32m━━━━━━━━━━━━━━━━━━━━\u001b[0m\u001b[37m\u001b[0m \u001b[1m14s\u001b[0m 14ms/step - loss: 8.1657 - score: 41.0000\n",
      "Epoch 9/128\n",
      "\u001b[1m1024/1024\u001b[0m \u001b[32m━━━━━━━━━━━━━━━━━━━━\u001b[0m\u001b[37m\u001b[0m \u001b[1m15s\u001b[0m 15ms/step - loss: 10.0438 - score: 118.0000\n",
      "Epoch 10/128\n",
      "\u001b[1m1024/1024\u001b[0m \u001b[32m━━━━━━━━━━━━━━━━━━━━\u001b[0m\u001b[37m\u001b[0m \u001b[1m15s\u001b[0m 15ms/step - loss: 14.4237 - score: 86.0000\n",
      "Epoch 11/128\n",
      "\u001b[1m 499/1024\u001b[0m \u001b[32m━━━━━━━━━\u001b[0m\u001b[37m━━━━━━━━━━━\u001b[0m \u001b[1m5s\u001b[0m 11ms/step - loss: 23.5652"
     ]
    },
    {
     "name": "stderr",
     "output_type": "stream",
     "text": [
      "/tmp/ipykernel_282285/2633289188.py:15: RuntimeWarning: overflow encountered in exp\n",
      "  exps = np.exp(probabilities)\n",
      "/tmp/ipykernel_282285/2633289188.py:16: RuntimeWarning: invalid value encountered in divide\n",
      "  probabilities = exps / exps.sum(axis=-1, keepdims=True)\n"
     ]
    },
    {
     "name": "stdout",
     "output_type": "stream",
     "text": [
      "\u001b[1m1024/1024\u001b[0m \u001b[32m━━━━━━━━━━━━━━━━━━━━\u001b[0m\u001b[37m\u001b[0m \u001b[1m15s\u001b[0m 15ms/step - loss: 25.8283 - score: 118.0000\n",
      "Epoch 12/128\n",
      "\u001b[1m 256/1024\u001b[0m \u001b[32m━━━━━\u001b[0m\u001b[37m━━━━━━━━━━━━━━━\u001b[0m \u001b[1m10s\u001b[0m 14ms/step - loss: 60.3813"
     ]
    },
    {
     "name": "stderr",
     "output_type": "stream",
     "text": [
      "/usr/lib/python3.13/site-packages/numpy/core/_methods.py:49: RuntimeWarning: overflow encountered in reduce\n",
      "  return umr_sum(a, axis, dtype, out, keepdims, initial, where)\n"
     ]
    },
    {
     "name": "stdout",
     "output_type": "stream",
     "text": [
      "\u001b[1m1024/1024\u001b[0m \u001b[32m━━━━━━━━━━━━━━━━━━━━\u001b[0m\u001b[37m\u001b[0m \u001b[1m15s\u001b[0m 15ms/step - loss: 55.4462 - score: 96.0000\n",
      "Epoch 13/128\n",
      "\u001b[1m1024/1024\u001b[0m \u001b[32m━━━━━━━━━━━━━━━━━━━━\u001b[0m\u001b[37m\u001b[0m \u001b[1m15s\u001b[0m 15ms/step - loss: 56.5240 - score: 82.0000\n",
      "Epoch 14/128\n",
      "\u001b[1m1024/1024\u001b[0m \u001b[32m━━━━━━━━━━━━━━━━━━━━\u001b[0m\u001b[37m\u001b[0m \u001b[1m15s\u001b[0m 15ms/step - loss: 62.2116 - score: 118.0000\n",
      "Epoch 15/128\n",
      "\u001b[1m1024/1024\u001b[0m \u001b[32m━━━━━━━━━━━━━━━━━━━━\u001b[0m\u001b[37m\u001b[0m \u001b[1m15s\u001b[0m 14ms/step - loss: 71.2200 - score: 65.0000\n",
      "Epoch 16/128\n",
      "\u001b[1m1024/1024\u001b[0m \u001b[32m━━━━━━━━━━━━━━━━━━━━\u001b[0m\u001b[37m\u001b[0m \u001b[1m15s\u001b[0m 15ms/step - loss: 114.3346 - score: 87.0000\n",
      "Epoch 17/128\n",
      "\u001b[1m1024/1024\u001b[0m \u001b[32m━━━━━━━━━━━━━━━━━━━━\u001b[0m\u001b[37m\u001b[0m \u001b[1m15s\u001b[0m 15ms/step - loss: 53.7488 - score: 100.0000\n",
      "Epoch 18/128\n",
      "\u001b[1m1024/1024\u001b[0m \u001b[32m━━━━━━━━━━━━━━━━━━━━\u001b[0m\u001b[37m\u001b[0m \u001b[1m15s\u001b[0m 15ms/step - loss: 57.5897 - score: 118.0000\n",
      "Epoch 19/128\n",
      "\u001b[1m1024/1024\u001b[0m \u001b[32m━━━━━━━━━━━━━━━━━━━━\u001b[0m\u001b[37m\u001b[0m \u001b[1m15s\u001b[0m 14ms/step - loss: 34.3552 - score: 99.0000\n",
      "Epoch 20/128\n",
      "\u001b[1m1024/1024\u001b[0m \u001b[32m━━━━━━━━━━━━━━━━━━━━\u001b[0m\u001b[37m\u001b[0m \u001b[1m15s\u001b[0m 15ms/step - loss: 48.8812 - score: 127.0000\n",
      "Epoch 21/128\n",
      "\u001b[1m1024/1024\u001b[0m \u001b[32m━━━━━━━━━━━━━━━━━━━━\u001b[0m\u001b[37m\u001b[0m \u001b[1m15s\u001b[0m 15ms/step - loss: 38.7169 - score: 63.0000\n",
      "Epoch 22/128\n",
      "\u001b[1m1024/1024\u001b[0m \u001b[32m━━━━━━━━━━━━━━━━━━━━\u001b[0m\u001b[37m\u001b[0m \u001b[1m15s\u001b[0m 15ms/step - loss: 30.9933 - score: 136.0000\n",
      "Epoch 23/128\n",
      "\u001b[1m1024/1024\u001b[0m \u001b[32m━━━━━━━━━━━━━━━━━━━━\u001b[0m\u001b[37m\u001b[0m \u001b[1m14s\u001b[0m 14ms/step - loss: 34.8875 - score: 19.0000\n",
      "Epoch 24/128\n",
      "\u001b[1m1024/1024\u001b[0m \u001b[32m━━━━━━━━━━━━━━━━━━━━\u001b[0m\u001b[37m\u001b[0m \u001b[1m15s\u001b[0m 14ms/step - loss: 40.4037 - score: 73.0000\n",
      "Epoch 25/128\n",
      "\u001b[1m1024/1024\u001b[0m \u001b[32m━━━━━━━━━━━━━━━━━━━━\u001b[0m\u001b[37m\u001b[0m \u001b[1m15s\u001b[0m 15ms/step - loss: 40.7941 - score: 94.0000\n",
      "Epoch 26/128\n",
      "\u001b[1m1024/1024\u001b[0m \u001b[32m━━━━━━━━━━━━━━━━━━━━\u001b[0m\u001b[37m\u001b[0m \u001b[1m15s\u001b[0m 14ms/step - loss: 40.3979 - score: 45.0000\n",
      "Epoch 27/128\n",
      "\u001b[1m1024/1024\u001b[0m \u001b[32m━━━━━━━━━━━━━━━━━━━━\u001b[0m\u001b[37m\u001b[0m \u001b[1m15s\u001b[0m 15ms/step - loss: 32.1559 - score: 119.0000\n",
      "Epoch 28/128\n",
      "\u001b[1m1024/1024\u001b[0m \u001b[32m━━━━━━━━━━━━━━━━━━━━\u001b[0m\u001b[37m\u001b[0m \u001b[1m14s\u001b[0m 14ms/step - loss: 42.1833 - score: 10.0000\n",
      "Epoch 29/128\n",
      "\u001b[1m1024/1024\u001b[0m \u001b[32m━━━━━━━━━━━━━━━━━━━━\u001b[0m\u001b[37m\u001b[0m \u001b[1m15s\u001b[0m 14ms/step - loss: 34.8650 - score: 67.0000\n",
      "Epoch 30/128\n",
      "\u001b[1m1024/1024\u001b[0m \u001b[32m━━━━━━━━━━━━━━━━━━━━\u001b[0m\u001b[37m\u001b[0m \u001b[1m15s\u001b[0m 15ms/step - loss: 50.0950 - score: 127.0000\n",
      "Epoch 31/128\n",
      "\u001b[1m1024/1024\u001b[0m \u001b[32m━━━━━━━━━━━━━━━━━━━━\u001b[0m\u001b[37m\u001b[0m \u001b[1m15s\u001b[0m 14ms/step - loss: 44.6921 - score: 104.0000\n",
      "Epoch 32/128\n",
      "\u001b[1m1024/1024\u001b[0m \u001b[32m━━━━━━━━━━━━━━━━━━━━\u001b[0m\u001b[37m\u001b[0m \u001b[1m15s\u001b[0m 14ms/step - loss: 67.9540 - score: 35.0000\n",
      "Epoch 33/128\n",
      "\u001b[1m1024/1024\u001b[0m \u001b[32m━━━━━━━━━━━━━━━━━━━━\u001b[0m\u001b[37m\u001b[0m \u001b[1m15s\u001b[0m 15ms/step - loss: 67.6751 - score: 120.0000\n",
      "Epoch 34/128\n",
      "\u001b[1m1024/1024\u001b[0m \u001b[32m━━━━━━━━━━━━━━━━━━━━\u001b[0m\u001b[37m\u001b[0m \u001b[1m15s\u001b[0m 15ms/step - loss: 47.8069 - score: 80.0000\n",
      "Epoch 35/128\n",
      "\u001b[1m1024/1024\u001b[0m \u001b[32m━━━━━━━━━━━━━━━━━━━━\u001b[0m\u001b[37m\u001b[0m \u001b[1m15s\u001b[0m 15ms/step - loss: 86.7044 - score: 127.0000\n",
      "Epoch 36/128\n",
      "\u001b[1m1024/1024\u001b[0m \u001b[32m━━━━━━━━━━━━━━━━━━━━\u001b[0m\u001b[37m\u001b[0m \u001b[1m15s\u001b[0m 15ms/step - loss: 64.3512 - score: 85.0000\n",
      "Epoch 37/128\n",
      "\u001b[1m1024/1024\u001b[0m \u001b[32m━━━━━━━━━━━━━━━━━━━━\u001b[0m\u001b[37m\u001b[0m \u001b[1m15s\u001b[0m 15ms/step - loss: 125.9063 - score: 90.0000\n",
      "Epoch 38/128\n",
      "\u001b[1m1024/1024\u001b[0m \u001b[32m━━━━━━━━━━━━━━━━━━━━\u001b[0m\u001b[37m\u001b[0m \u001b[1m15s\u001b[0m 15ms/step - loss: 128.1262 - score: 118.0000\n",
      "Epoch 39/128\n",
      "\u001b[1m1024/1024\u001b[0m \u001b[32m━━━━━━━━━━━━━━━━━━━━\u001b[0m\u001b[37m\u001b[0m \u001b[1m14s\u001b[0m 14ms/step - loss: 120.6101 - score: 35.0000\n",
      "Epoch 40/128\n",
      "\u001b[1m1024/1024\u001b[0m \u001b[32m━━━━━━━━━━━━━━━━━━━━\u001b[0m\u001b[37m\u001b[0m \u001b[1m15s\u001b[0m 14ms/step - loss: 136.0276 - score: 59.0000\n",
      "Epoch 41/128\n",
      "\u001b[1m1024/1024\u001b[0m \u001b[32m━━━━━━━━━━━━━━━━━━━━\u001b[0m\u001b[37m\u001b[0m \u001b[1m15s\u001b[0m 14ms/step - loss: 114.6697 - score: 50.0000\n",
      "Epoch 42/128\n",
      "\u001b[1m1024/1024\u001b[0m \u001b[32m━━━━━━━━━━━━━━━━━━━━\u001b[0m\u001b[37m\u001b[0m \u001b[1m15s\u001b[0m 15ms/step - loss: 134.7223 - score: 75.0000\n",
      "Epoch 43/128\n",
      "\u001b[1m1024/1024\u001b[0m \u001b[32m━━━━━━━━━━━━━━━━━━━━\u001b[0m\u001b[37m\u001b[0m \u001b[1m15s\u001b[0m 14ms/step - loss: 170.2088 - score: 35.0000\n",
      "Epoch 44/128\n",
      "\u001b[1m1024/1024\u001b[0m \u001b[32m━━━━━━━━━━━━━━━━━━━━\u001b[0m\u001b[37m\u001b[0m \u001b[1m15s\u001b[0m 14ms/step - loss: 273.7970 - score: 51.0000\n",
      "Epoch 45/128\n",
      "\u001b[1m1024/1024\u001b[0m \u001b[32m━━━━━━━━━━━━━━━━━━━━\u001b[0m\u001b[37m\u001b[0m \u001b[1m15s\u001b[0m 15ms/step - loss: 210.4887 - score: 100.0000\n",
      "Epoch 46/128\n",
      "\u001b[1m1024/1024\u001b[0m \u001b[32m━━━━━━━━━━━━━━━━━━━━\u001b[0m\u001b[37m\u001b[0m \u001b[1m15s\u001b[0m 15ms/step - loss: 190.9711 - score: 136.0000\n",
      "Epoch 47/128\n",
      "\u001b[1m1024/1024\u001b[0m \u001b[32m━━━━━━━━━━━━━━━━━━━━\u001b[0m\u001b[37m\u001b[0m \u001b[1m15s\u001b[0m 15ms/step - loss: 245.1532 - score: 107.0000\n",
      "Epoch 48/128\n",
      "\u001b[1m1024/1024\u001b[0m \u001b[32m━━━━━━━━━━━━━━━━━━━━\u001b[0m\u001b[37m\u001b[0m \u001b[1m15s\u001b[0m 14ms/step - loss: 292.5165 - score: 37.0000\n",
      "Epoch 49/128\n",
      "\u001b[1m1024/1024\u001b[0m \u001b[32m━━━━━━━━━━━━━━━━━━━━\u001b[0m\u001b[37m\u001b[0m \u001b[1m15s\u001b[0m 14ms/step - loss: 188.3436 - score: 39.0000\n",
      "Epoch 50/128\n",
      "\u001b[1m1024/1024\u001b[0m \u001b[32m━━━━━━━━━━━━━━━━━━━━\u001b[0m\u001b[37m\u001b[0m \u001b[1m15s\u001b[0m 14ms/step - loss: 213.8823 - score: 54.0000\n",
      "Epoch 51/128\n",
      "\u001b[1m1024/1024\u001b[0m \u001b[32m━━━━━━━━━━━━━━━━━━━━\u001b[0m\u001b[37m\u001b[0m \u001b[1m15s\u001b[0m 15ms/step - loss: 274.1096 - score: 88.0000\n",
      "Epoch 52/128\n",
      "\u001b[1m1024/1024\u001b[0m \u001b[32m━━━━━━━━━━━━━━━━━━━━\u001b[0m\u001b[37m\u001b[0m \u001b[1m15s\u001b[0m 15ms/step - loss: 256.8165 - score: 125.0000\n",
      "Epoch 53/128\n",
      "\u001b[1m1024/1024\u001b[0m \u001b[32m━━━━━━━━━━━━━━━━━━━━\u001b[0m\u001b[37m\u001b[0m \u001b[1m15s\u001b[0m 14ms/step - loss: 254.6699 - score: 42.0000\n",
      "Epoch 54/128\n",
      "\u001b[1m 639/1024\u001b[0m \u001b[32m━━━━━━━━━━━━\u001b[0m\u001b[37m━━━━━━━━\u001b[0m \u001b[1m4s\u001b[0m 12ms/step - loss: 242.5282"
     ]
    },
    {
     "ename": "KeyboardInterrupt",
     "evalue": "",
     "output_type": "error",
     "traceback": [
      "\u001b[31m---------------------------------------------------------------------------\u001b[39m",
      "\u001b[31mKeyboardInterrupt\u001b[39m                         Traceback (most recent call last)",
      "\u001b[32m/tmp/ipykernel_282285/984696971.py\u001b[39m in \u001b[36m?\u001b[39m\u001b[34m()\u001b[39m\n\u001b[32m----> \u001b[39m\u001b[32m1\u001b[39m combined_model.fit(dataset, callbacks=callbacks, epochs=epochs)\n",
      "\u001b[32m/usr/lib/python3.13/site-packages/keras/src/utils/traceback_utils.py\u001b[39m in \u001b[36m?\u001b[39m\u001b[34m(*args, **kwargs)\u001b[39m\n\u001b[32m    120\u001b[39m             \u001b[38;5;66;03m# To get the full stack trace, call:\u001b[39;00m\n\u001b[32m    121\u001b[39m             \u001b[38;5;66;03m# `keras.config.disable_traceback_filtering()`\u001b[39;00m\n\u001b[32m    122\u001b[39m             \u001b[38;5;28;01mraise\u001b[39;00m e.with_traceback(filtered_tb) \u001b[38;5;28;01mfrom\u001b[39;00m \u001b[38;5;28;01mNone\u001b[39;00m\n\u001b[32m    123\u001b[39m         \u001b[38;5;28;01mfinally\u001b[39;00m:\n\u001b[32m--> \u001b[39m\u001b[32m124\u001b[39m             \u001b[38;5;28;01mdel\u001b[39;00m filtered_tb\n",
      "\u001b[32m/usr/lib/python3.13/site-packages/keras/src/backend/tensorflow/trainer.py\u001b[39m in \u001b[36m?\u001b[39m\u001b[34m(self, x, y, batch_size, epochs, verbose, callbacks, validation_split, validation_data, shuffle, class_weight, sample_weight, initial_epoch, steps_per_epoch, validation_steps, validation_batch_size, validation_freq)\u001b[39m\n\u001b[32m    313\u001b[39m             self.reset_metrics()\n\u001b[32m    314\u001b[39m             callbacks.on_epoch_begin(epoch)\n\u001b[32m    315\u001b[39m             \u001b[38;5;28;01mwith\u001b[39;00m epoch_iterator.catch_stop_iteration():\n\u001b[32m    316\u001b[39m                 \u001b[38;5;28;01mfor\u001b[39;00m step, iterator \u001b[38;5;28;01min\u001b[39;00m epoch_iterator.enumerate_epoch():\n\u001b[32m--> \u001b[39m\u001b[32m317\u001b[39m                     callbacks.on_train_batch_begin(step)\n\u001b[32m    318\u001b[39m                     logs = self.train_function(iterator)\n\u001b[32m    319\u001b[39m                     logs = self._pythonify_logs(logs)\n\u001b[32m    320\u001b[39m                     callbacks.on_train_batch_end(step, logs)\n",
      "\u001b[32m/usr/lib/python3.13/site-packages/keras/src/callbacks/callback_list.py\u001b[39m in \u001b[36m?\u001b[39m\u001b[34m(self, batch, logs)\u001b[39m\n\u001b[32m     98\u001b[39m     \u001b[38;5;28;01mdef\u001b[39;00m on_train_batch_begin(self, batch, logs=\u001b[38;5;28;01mNone\u001b[39;00m):\n\u001b[32m     99\u001b[39m         logs = logs \u001b[38;5;28;01mor\u001b[39;00m {}\n\u001b[32m    100\u001b[39m         \u001b[38;5;28;01mfor\u001b[39;00m callback \u001b[38;5;28;01min\u001b[39;00m self.callbacks:\n\u001b[32m--> \u001b[39m\u001b[32m101\u001b[39m             callback.on_train_batch_begin(batch, logs=logs)\n",
      "\u001b[32m/tmp/ipykernel_282285/3593266726.py\u001b[39m in \u001b[36m?\u001b[39m\u001b[34m(self, batch_num, logs)\u001b[39m\n\u001b[32m     45\u001b[39m         model = self.model.get_layer(\n\u001b[32m     46\u001b[39m             f'{self.model.name}_model'\n\u001b[32m     47\u001b[39m         )\n\u001b[32m     48\u001b[39m \n\u001b[32m---> \u001b[39m\u001b[32m49\u001b[39m         self.observations = play_game(\n\u001b[32m     50\u001b[39m             model=model,\n\u001b[32m     51\u001b[39m             buffer=self.buffer,\n\u001b[32m     52\u001b[39m             env=self.env,\n",
      "\u001b[32m/tmp/ipykernel_282285/219242432.py\u001b[39m in \u001b[36m?\u001b[39m\u001b[34m(model, buffer, env, steps, sampler, observations, one_episode)\u001b[39m\n\u001b[32m     25\u001b[39m         observations = env.reset()\n\u001b[32m     26\u001b[39m \n\u001b[32m     27\u001b[39m     \u001b[38;5;28;01mfor\u001b[39;00m _ \u001b[38;5;28;01min\u001b[39;00m range(steps // env.num_envs):\n\u001b[32m     28\u001b[39m         res = model(observations, training=\u001b[38;5;28;01mFalse\u001b[39;00m).numpy()\n\u001b[32m---> \u001b[39m\u001b[32m29\u001b[39m         actions = sampler(res)\n\u001b[32m     30\u001b[39m         new_observations, rewards, terminateds = env.step(actions) \u001b[38;5;66;03m# new_observations, rewards, terminateds, truncated, info\u001b[39;00m\n\u001b[32m     31\u001b[39m \n\u001b[32m     32\u001b[39m         dones = terminateds\n",
      "\u001b[32m/tmp/ipykernel_282285/2633289188.py\u001b[39m in \u001b[36m?\u001b[39m\u001b[34m(self, probabilities)\u001b[39m\n\u001b[32m     32\u001b[39m         batch, *_ = probabilities.shape\n\u001b[32m     33\u001b[39m         probs = self.rng.uniform(size=batch)\n\u001b[32m     34\u001b[39m \n\u001b[32m     35\u001b[39m         return np.where(\n\u001b[32m---> \u001b[39m\u001b[32m36\u001b[39m             probs < self.epsilon,\n\u001b[32m     37\u001b[39m             self.rng.choice(probabilities.shape[\u001b[32m1\u001b[39m], size=batch),\n\u001b[32m     38\u001b[39m             np.argmax(probabilities, axis=-\u001b[32m1\u001b[39m) \u001b[38;5;28;01mif\u001b[39;00m self.greedy \u001b[38;5;28;01melse\u001b[39;00m self._sample(probabilities),\n\u001b[32m     39\u001b[39m         )\n",
      "\u001b[32m/usr/lib/python3.13/site-packages/tensorflow/python/ops/tensor_math_operator_overrides.py\u001b[39m in \u001b[36m?\u001b[39m\u001b[34m(x, y, *args, **kwargs)\u001b[39m\n\u001b[32m    160\u001b[39m   \u001b[38;5;28;01mdef\u001b[39;00m wrapper(x, y, *args, **kwargs):\n\u001b[32m    161\u001b[39m     x, y = override_binary_operator.maybe_promote_tensors(x, y)\n\u001b[32m--> \u001b[39m\u001b[32m162\u001b[39m     \u001b[38;5;28;01mreturn\u001b[39;00m fn(x, y, *args, **kwargs)\n",
      "\u001b[32m/usr/lib/python3.13/site-packages/tensorflow/python/ops/gen_math_ops.py\u001b[39m in \u001b[36m?\u001b[39m\u001b[34m(x, y, name)\u001b[39m\n\u001b[32m   4275\u001b[39m         _ctx, \u001b[33m\"Greater\"\u001b[39m, name, x, y)\n\u001b[32m   4276\u001b[39m       \u001b[38;5;28;01mreturn\u001b[39;00m _result\n\u001b[32m   4277\u001b[39m     \u001b[38;5;28;01mexcept\u001b[39;00m _core._NotOkStatusException \u001b[38;5;28;01mas\u001b[39;00m e:\n\u001b[32m   4278\u001b[39m       _ops.raise_from_not_ok_status(e, name)\n\u001b[32m-> \u001b[39m\u001b[32m4279\u001b[39m     \u001b[38;5;28;01mexcept\u001b[39;00m _core._FallbackException:\n\u001b[32m   4280\u001b[39m       \u001b[38;5;28;01mpass\u001b[39;00m\n\u001b[32m   4281\u001b[39m     \u001b[38;5;28;01mtry\u001b[39;00m:\n\u001b[32m   4282\u001b[39m       _result = _dispatcher_for_greater(\n",
      "\u001b[31mKeyboardInterrupt\u001b[39m: "
     ]
    }
   ],
   "source": [
    "combined_model.fit(dataset, callbacks=callbacks, epochs=epochs)"
   ]
  },
  {
   "cell_type": "code",
   "execution_count": 57,
   "id": "e13efcd4-997e-42ad-bf2b-7df2583def39",
   "metadata": {},
   "outputs": [
    {
     "data": {
      "text/plain": [
       "<tf.Tensor: shape=(), dtype=float32, numpy=7.928634415677038e-10>"
      ]
     },
     "execution_count": 57,
     "metadata": {},
     "output_type": "execute_result"
    }
   ],
   "source": [
    "d0 = dataset[0][0]\n",
    "combined_model.compiled_loss(dataset[0][1], combined_model(d0))"
   ]
  },
  {
   "cell_type": "code",
   "execution_count": 58,
   "id": "29049c21-4e49-475f-8980-2fe950864e14",
   "metadata": {
    "collapsed": true,
    "jupyter": {
     "outputs_hidden": true
    },
    "scrolled": true
   },
   "outputs": [
    {
     "data": {
      "text/plain": [
       "<tf.Tensor: shape=(16, 4), dtype=float32, numpy=\n",
       "array([[-2.4707057e-05, -2.5478046e-05, -1.9309809e-06, -4.4419663e-05],\n",
       "       [-2.4707057e-05, -2.5478046e-05, -1.9309809e-06, -4.4419663e-05],\n",
       "       [-2.4707057e-05, -2.5478046e-05, -1.9309809e-06, -4.4419663e-05],\n",
       "       [-2.4707057e-05, -2.5478046e-05, -1.9309809e-06, -4.4419663e-05],\n",
       "       [-2.4707057e-05, -2.5478046e-05, -1.9309809e-06, -4.4419663e-05],\n",
       "       [-2.4707057e-05, -2.5478046e-05, -1.9309809e-06, -4.4419663e-05],\n",
       "       [-2.4707057e-05, -2.5478046e-05, -1.9309809e-06, -4.4419663e-05],\n",
       "       [-2.4707057e-05, -2.5478046e-05, -1.9309809e-06, -4.4419663e-05],\n",
       "       [-2.4707057e-05, -2.5478046e-05, -1.9309809e-06, -4.4419663e-05],\n",
       "       [-2.4707057e-05, -2.5478046e-05, -1.9309809e-06, -4.4419663e-05],\n",
       "       [-2.4707057e-05, -2.5478046e-05, -1.9309809e-06, -4.4419663e-05],\n",
       "       [-2.4707057e-05, -2.5478046e-05, -1.9309809e-06, -4.4419663e-05],\n",
       "       [-2.4707057e-05, -2.5478046e-05, -1.9309809e-06, -4.4419663e-05],\n",
       "       [-2.4707057e-05, -2.5478046e-05, -1.9309809e-06, -4.4419663e-05],\n",
       "       [-2.4707057e-05, -2.5478046e-05, -1.9309809e-06, -4.4419663e-05],\n",
       "       [-2.4707057e-05, -2.5478046e-05, -1.9309809e-06, -4.4419663e-05]],\n",
       "      dtype=float32)>"
      ]
     },
     "execution_count": 58,
     "metadata": {},
     "output_type": "execute_result"
    }
   ],
   "source": [
    "model(d0[0])"
   ]
  },
  {
   "cell_type": "code",
   "execution_count": 59,
   "id": "4892c8f9-e532-4f3d-9b61-aeac077fc352",
   "metadata": {
    "collapsed": true,
    "jupyter": {
     "outputs_hidden": true
    },
    "scrolled": true
   },
   "outputs": [
    {
     "data": {
      "text/plain": [
       "<tf.Tensor: shape=(16, 4), dtype=float32, numpy=\n",
       "array([[-2.4707057e-05, -2.5478046e-05, -1.9309809e-06, -4.4419663e-05],\n",
       "       [-2.4707057e-05, -2.5478046e-05, -1.9309809e-06, -4.4419663e-05],\n",
       "       [-2.4707057e-05, -2.5478046e-05, -1.9309809e-06, -4.4419663e-05],\n",
       "       [-2.4707057e-05, -2.5478046e-05, -1.9309809e-06, -4.4419663e-05],\n",
       "       [-2.4707057e-05, -2.5478046e-05, -1.9309809e-06, -4.4419663e-05],\n",
       "       [-2.4707057e-05, -2.5478046e-05, -1.9309809e-06, -4.4419663e-05],\n",
       "       [-2.4707057e-05, -2.5478046e-05, -1.9309809e-06, -4.4419663e-05],\n",
       "       [-2.4707057e-05, -2.5478046e-05, -1.9309809e-06, -4.4419663e-05],\n",
       "       [-2.4707057e-05, -2.5478046e-05, -1.9309809e-06, -4.4419663e-05],\n",
       "       [-2.4707057e-05, -2.5478046e-05, -1.9309809e-06, -4.4419663e-05],\n",
       "       [-2.4707057e-05, -2.5478046e-05, -1.9309809e-06, -4.4419663e-05],\n",
       "       [-2.4707057e-05, -2.5478046e-05, -1.9309809e-06, -4.4419663e-05],\n",
       "       [-2.4707057e-05, -2.5478046e-05, -1.9309809e-06, -4.4419663e-05],\n",
       "       [-2.4707057e-05, -2.5478046e-05, -1.9309809e-06, -4.4419663e-05],\n",
       "       [-2.4707057e-05, -2.5478046e-05, -1.9309809e-06, -4.4419663e-05],\n",
       "       [-2.4707057e-05, -2.5478046e-05, -1.9309809e-06, -4.4419663e-05]],\n",
       "      dtype=float32)>"
      ]
     },
     "execution_count": 59,
     "metadata": {},
     "output_type": "execute_result"
    }
   ],
   "source": [
    "target_model(d0[0])"
   ]
  },
  {
   "cell_type": "code",
   "execution_count": 58,
   "id": "a6f76a26-0cb3-4e7e-b231-90f053328370",
   "metadata": {},
   "outputs": [
    {
     "data": {
      "text/plain": [
       "array([ 1., -5., -5.,  1.,  1.,  1.,  1., -5.,  1., -5.,  1., -5.,  1.,\n",
       "        1.,  1.,  1.], dtype=float32)"
      ]
     },
     "execution_count": 58,
     "metadata": {},
     "output_type": "execute_result"
    }
   ],
   "source": [
    "d0[2]"
   ]
  },
  {
   "cell_type": "code",
   "execution_count": 77,
   "id": "ee21a20a-630a-44ef-af5b-857ecee34dcc",
   "metadata": {},
   "outputs": [],
   "source": [
    "d4 = d0[0][4].copy()"
   ]
  },
  {
   "cell_type": "code",
   "execution_count": 78,
   "id": "69007410-57df-4d5f-8137-245628396dbd",
   "metadata": {},
   "outputs": [],
   "source": [
    "d4[5][14] = 3\n",
    "d4[5][15] = 4"
   ]
  },
  {
   "cell_type": "code",
   "execution_count": 79,
   "id": "59113299-eeec-4aeb-a3d2-feb4106a1d6a",
   "metadata": {},
   "outputs": [
    {
     "data": {
      "text/plain": [
       "<tf.Tensor: shape=(1, 4), dtype=float32, numpy=array([[248.11949 ,  55.490475,  92.08881 ,  54.32505 ]], dtype=float32)>"
      ]
     },
     "execution_count": 79,
     "metadata": {},
     "output_type": "execute_result"
    }
   ],
   "source": [
    "model(d4[None])"
   ]
  },
  {
   "cell_type": "code",
   "execution_count": 80,
   "id": "8302986c-aebc-4c99-9377-ded63dced9f4",
   "metadata": {},
   "outputs": [
    {
     "data": {
      "text/plain": [
       "<tf.Tensor: shape=(1, 4), dtype=float32, numpy=array([[1261.2244 ,  280.15897,  467.06143,  276.4641 ]], dtype=float32)>"
      ]
     },
     "execution_count": 80,
     "metadata": {},
     "output_type": "execute_result"
    }
   ],
   "source": [
    "model(d0[0][4:5])"
   ]
  },
  {
   "cell_type": "code",
   "execution_count": 35,
   "id": "8b6fda62-a796-44bc-833d-0587e31d5a5b",
   "metadata": {},
   "outputs": [
    {
     "data": {
      "text/plain": [
       "<matplotlib.image.AxesImage at 0x7cd718102e40>"
      ]
     },
     "execution_count": 35,
     "metadata": {},
     "output_type": "execute_result"
    },
    {
     "data": {
      "image/png": "[encoded data removed]",
      "text/plain": [
       "<Figure size 640x480 with 1 Axes>"
      ]
     },
     "metadata": {},
     "output_type": "display_data"
    }
   ],
   "source": [
    "plt.imshow(d0[0][2])"
   ]
  },
  {
   "cell_type": "code",
   "execution_count": 30,
   "id": "e8f02d64-21f3-4378-9d21-8c865361a700",
   "metadata": {},
   "outputs": [],
   "source": [
    "d0 = dataset[0][0]"
   ]
  },
  {
   "cell_type": "code",
   "execution_count": 31,
   "id": "0b519a84-0eb7-4de1-9a11-0a3adbe6af4d",
   "metadata": {},
   "outputs": [
    {
     "data": {
      "text/plain": [
       "<tf.Tensor: shape=(16,), dtype=float32, numpy=\n",
       "array([2.1337217e+01, 3.5867645e+01, 7.6306534e-01, 1.1476806e+01,\n",
       "       5.5303066e+01, 1.4818002e-01, 5.0303176e-02, 4.5133657e-03,\n",
       "       1.5723503e+00, 1.3999057e+01, 8.0135152e-02, 4.4126175e+01,\n",
       "       4.0834846e+01, 3.4570404e+01, 4.4126175e+01, 1.1075565e+01],\n",
       "      dtype=float32)>"
      ]
     },
     "execution_count": 31,
     "metadata": {},
     "output_type": "execute_result"
    }
   ],
   "source": [
    "combined_model(d0)"
   ]
  },
  {
   "cell_type": "code",
   "execution_count": 33,
   "id": "066323ed-766b-49d1-9b09-07176fbd5366",
   "metadata": {},
   "outputs": [
    {
     "data": {
      "text/plain": [
       "<matplotlib.image.AxesImage at 0x7f52282a2850>"
      ]
     },
     "execution_count": 33,
     "metadata": {},
     "output_type": "execute_result"
    },
    {
     "data": {
      "image/png": "[encoded data removed]",
      "text/plain": [
       "<Figure size 640x480 with 1 Axes>"
      ]
     },
     "metadata": {},
     "output_type": "display_data"
    }
   ],
   "source": [
    "plt.imshow(d0[0][0])"
   ]
  },
  {
   "cell_type": "code",
   "execution_count": 38,
   "id": "957629ca-b775-49b4-9119-391f4673de67",
   "metadata": {
    "collapsed": true,
    "jupyter": {
     "outputs_hidden": true
    }
   },
   "outputs": [
    {
     "data": {
      "text/plain": [
       "<tf.Tensor: shape=(16, 4), dtype=float32, numpy=\n",
       "array([[4.9013267, 3.1303349, 5.925922 , 6.4926105],\n",
       "       [6.796817 , 4.2084785, 7.279381 , 7.893623 ],\n",
       "       [6.609465 , 4.4691954, 7.040022 , 8.009885 ],\n",
       "       [6.771021 , 4.630937 , 7.2502503, 8.202622 ],\n",
       "       [5.4554834, 3.5761695, 6.448545 , 7.0124264],\n",
       "       [6.5602574, 4.050861 , 7.0975633, 7.5321918],\n",
       "       [6.48366  , 4.3521934, 6.928618 , 7.7683234],\n",
       "       [6.582739 , 4.189736 , 7.14798  , 7.7509317],\n",
       "       [6.3057947, 4.2177887, 6.8707533, 7.6559005],\n",
       "       [6.4923887, 4.151916 , 7.2731   , 7.7594   ],\n",
       "       [6.627773 , 4.5310903, 6.96222  , 7.92504  ],\n",
       "       [6.3751087, 3.9507117, 6.9722433, 7.353495 ],\n",
       "       [4.9013267, 3.1303349, 5.925922 , 6.4926105],\n",
       "       [5.4554834, 3.5761695, 6.448545 , 7.0124264],\n",
       "       [6.3751087, 3.9507117, 6.9722433, 7.353495 ],\n",
       "       [6.668632 , 4.5662336, 7.128225 , 8.125318 ]], dtype=float32)>"
      ]
     },
     "execution_count": 38,
     "metadata": {},
     "output_type": "execute_result"
    }
   ],
   "source": [
    "model(d0[0])"
   ]
  },
  {
   "cell_type": "code",
   "execution_count": 39,
   "id": "5885b78a-a85d-4c23-b5a2-4eceee443ed8",
   "metadata": {
    "collapsed": true,
    "jupyter": {
     "outputs_hidden": true
    }
   },
   "outputs": [
    {
     "data": {
      "text/plain": [
       "<tf.Tensor: shape=(16, 4), dtype=float32, numpy=\n",
       "array([[ 1.5710216 , -0.03401175,  3.5465777 ,  1.6350958 ],\n",
       "       [ 4.6504393 ,  2.4681046 ,  6.4459953 ,  4.097695  ],\n",
       "       [ 4.7035546 ,  2.6932707 ,  6.2045    ,  4.103831  ],\n",
       "       [ 4.9061785 ,  2.7100606 ,  6.6250505 ,  4.452026  ],\n",
       "       [ 2.8778443 ,  1.3007573 ,  4.6220436 ,  2.7782083 ],\n",
       "       [ 4.267049  ,  1.2893629 ,  5.3866153 ,  4.0819025 ],\n",
       "       [ 4.454969  ,  2.3380947 ,  6.11526   ,  3.894315  ],\n",
       "       [ 4.4524703 ,  2.2105002 ,  6.2547073 ,  4.1341996 ],\n",
       "       [ 3.2430391 ,  1.4053309 ,  5.0343995 ,  3.2222595 ],\n",
       "       [ 3.7331223 ,  1.3052393 ,  5.465035  ,  3.948153  ],\n",
       "       [ 4.8039527 ,  2.7981508 ,  6.3612432 ,  4.2054086 ],\n",
       "       [ 3.4308832 ,  1.1155787 ,  4.7032847 ,  3.4672453 ],\n",
       "       [ 1.5710216 , -0.03401175,  3.5465777 ,  1.6350958 ],\n",
       "       [ 2.8778443 ,  1.3007573 ,  4.6220436 ,  2.7782083 ],\n",
       "       [ 3.4308832 ,  1.1155787 ,  4.7032847 ,  3.4672453 ],\n",
       "       [ 4.576298  ,  2.4317741 ,  6.301249  ,  4.2227163 ]],\n",
       "      dtype=float32)>"
      ]
     },
     "execution_count": 39,
     "metadata": {},
     "output_type": "execute_result"
    }
   ],
   "source": [
    "target_model(d0[0])"
   ]
  },
  {
   "cell_type": "code",
   "execution_count": 27,
   "id": "5323b6be-f435-4ec8-bd7d-d481434a4cee",
   "metadata": {},
   "outputs": [],
   "source": [
    "env_new = Environment(16, 5, 1, 3, 100, (1, 10, -5, -6, 50))"
   ]
  },
  {
   "cell_type": "code",
   "execution_count": 28,
   "id": "588450ca-f1fe-4a2f-bf68-c073f0f8b20e",
   "metadata": {},
   "outputs": [],
   "source": [
    "observation = env_new.reset()"
   ]
  },
  {
   "cell_type": "code",
   "execution_count": 114,
   "id": "28940a78-364f-4abc-ac72-0a63eb5c80ce",
   "metadata": {},
   "outputs": [],
   "source": [
    "observation, *_ = env_new.step(model(observation).numpy().argmax(axis=-1))"
   ]
  },
  {
   "cell_type": "code",
   "execution_count": 115,
   "id": "cc0bc7ae-008a-495f-98c4-022323cefcab",
   "metadata": {},
   "outputs": [
    {
     "data": {
      "image/png": "[encoded data removed]",
      "text/plain": [
       "<Figure size 640x480 with 1 Axes>"
      ]
     },
     "metadata": {},
     "output_type": "display_data"
    }
   ],
   "source": [
    "plt.imshow(observation[0])\n",
    "_ = plt.title(f'{_[0][0]}')"
   ]
  },
  {
   "cell_type": "code",
   "execution_count": 47,
   "id": "96d0461d-b3c1-43b1-a69b-2b73d379bc77",
   "metadata": {},
   "outputs": [],
   "source": [
    "a = model(observation)"
   ]
  },
  {
   "cell_type": "code",
   "execution_count": 92,
   "id": "19796bbe-77a4-4acd-bb8a-c6fa357c275b",
   "metadata": {},
   "outputs": [
    {
     "data": {
      "text/plain": [
       "<tf.Tensor: shape=(1, 4), dtype=float32, numpy=array([[5.849026 , 4.2090225, 6.7872314, 8.39207  ]], dtype=float32)>"
      ]
     },
     "execution_count": 92,
     "metadata": {},
     "output_type": "execute_result"
    }
   ],
   "source": [
    "a"
   ]
  },
  {
   "cell_type": "code",
   "execution_count": 93,
   "id": "28b44a4f-4578-426a-ab11-86131f952b18",
   "metadata": {},
   "outputs": [
    {
     "data": {
      "text/plain": [
       "10.0"
      ]
     },
     "execution_count": 93,
     "metadata": {},
     "output_type": "execute_result"
    }
   ],
   "source": [
    "train_buffer.rewards.max()"
   ]
  },
  {
   "cell_type": "code",
   "execution_count": 262,
   "id": "80c44219-05c2-462e-af38-e223173daa99",
   "metadata": {},
   "outputs": [],
   "source": [
    "observation, *_ = env_new.step(np.array([1]))"
   ]
  },
  {
   "cell_type": "code",
   "execution_count": 263,
   "id": "d48d18a4-fd37-40e6-bd28-11371f2f7857",
   "metadata": {},
   "outputs": [
    {
     "data": {
      "text/plain": [
       "<matplotlib.image.AxesImage at 0x7212006d91d0>"
      ]
     },
     "execution_count": 263,
     "metadata": {},
     "output_type": "execute_result"
    },
    {
     "data": {
      "image/png": "[encoded data removed]",
      "text/plain": [
       "<Figure size 640x480 with 1 Axes>"
      ]
     },
     "metadata": {},
     "output_type": "display_data"
    }
   ],
   "source": [
    "plt.imshow(observation[0])"
   ]
  },
  {
   "cell_type": "code",
   "execution_count": 264,
   "id": "f97d49ed-260d-4735-9d28-b8e7b34fb2e2",
   "metadata": {},
   "outputs": [],
   "source": [
    "a = target_model(observation)"
   ]
  },
  {
   "cell_type": "code",
   "execution_count": 266,
   "id": "1cdfb2a0-809a-44ee-988c-ef0ef9cd3c90",
   "metadata": {},
   "outputs": [
    {
     "data": {
      "text/plain": [
       "<tf.Tensor: shape=(1, 4), dtype=float32, numpy=array([[8.0542555, 9.684652 , 8.910901 , 4.559842 ]], dtype=float32)>"
      ]
     },
     "execution_count": 266,
     "metadata": {},
     "output_type": "execute_result"
    }
   ],
   "source": [
    "a"
   ]
  },
  {
   "cell_type": "code",
   "execution_count": 267,
   "id": "e8dd303b-794a-45e0-89f9-01a564331fd5",
   "metadata": {},
   "outputs": [
    {
     "data": {
      "text/plain": [
       "array([-5.], dtype=float32)"
      ]
     },
     "execution_count": 267,
     "metadata": {},
     "output_type": "execute_result"
    }
   ],
   "source": [
    "_[0]"
   ]
  }
 ],
 "metadata": {
  "kernelspec": {
   "display_name": "Python 3 (ipykernel)",
   "language": "python",
   "name": "python3"
  },
  "language_info": {
   "codemirror_mode": {
    "name": "ipython",
    "version": 3
   },
   "file_extension": ".py",
   "mimetype": "text/x-python",
   "name": "python",
   "nbconvert_exporter": "python",
   "pygments_lexer": "ipython3",
   "version": "3.13.2"
  }
 },
 "nbformat": 4,
 "nbformat_minor": 5
}
