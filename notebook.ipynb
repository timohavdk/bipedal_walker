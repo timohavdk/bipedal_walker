{
 "cells": [
  {
   "cell_type": "markdown",
   "id": "6edb1dbe-20ad-49d3-aabf-27a0438da7e0",
   "metadata": {},
   "source": [
    "# Imports"
   ]
  },
  {
   "cell_type": "code",
   "execution_count": 1,
   "id": "3b1d6d12-e770-47ce-a9eb-fb93b7a2b755",
   "metadata": {},
   "outputs": [
    {
     "name": "stderr",
     "output_type": "stream",
     "text": [
      "2025-04-13 12:09:08.236553: E external/local_xla/xla/stream_executor/cuda/cuda_fft.cc:467] Unable to register cuFFT factory: Attempting to register factory for plugin cuFFT when one has already been registered\n",
      "WARNING: All log messages before absl::InitializeLog() is called are written to STDERR\n",
      "E0000 00:00:1744510148.250556  141564 cuda_dnn.cc:8579] Unable to register cuDNN factory: Attempting to register factory for plugin cuDNN when one has already been registered\n",
      "E0000 00:00:1744510148.254909  141564 cuda_blas.cc:1407] Unable to register cuBLAS factory: Attempting to register factory for plugin cuBLAS when one has already been registered\n",
      "W0000 00:00:1744510148.266272  141564 computation_placer.cc:177] computation placer already registered. Please check linkage and avoid linking the same target more than once.\n",
      "W0000 00:00:1744510148.266289  141564 computation_placer.cc:177] computation placer already registered. Please check linkage and avoid linking the same target more than once.\n",
      "W0000 00:00:1744510148.266291  141564 computation_placer.cc:177] computation placer already registered. Please check linkage and avoid linking the same target more than once.\n",
      "W0000 00:00:1744510148.266292  141564 computation_placer.cc:177] computation placer already registered. Please check linkage and avoid linking the same target more than once.\n",
      "2025-04-13 12:09:08.269960: I tensorflow/core/platform/cpu_feature_guard.cc:210] This TensorFlow binary is optimized to use available CPU instructions in performance-critical operations.\n",
      "To enable the following instructions: AVX2 FMA, in other operations, rebuild TensorFlow with the appropriate compiler flags.\n"
     ]
    }
   ],
   "source": [
    "import keras\n",
    "import numpy as np\n",
    "import gymnasium as gym\n",
    "import tensorflow as tf\n",
    "import tqdm.notebook as tqdm\n",
    "import matplotlib.pyplot as plt\n",
    "import gymnasium.utils.save_video"
   ]
  },
  {
   "cell_type": "code",
   "execution_count": 2,
   "id": "011e03a4-a0ea-4ce2-9f00-e09b9b4c2e04",
   "metadata": {},
   "outputs": [],
   "source": [
    "gpus = tf.config.experimental.list_physical_devices('GPU')\n",
    "if gpus:\n",
    "    try:\n",
    "        for gpu in gpus:\n",
    "              tf.config.experimental.set_memory_growth(gpu, True)\n",
    "    except RuntimeError as e:\n",
    "        print(e)"
   ]
  },
  {
   "cell_type": "code",
   "execution_count": 3,
   "id": "2c6b413b-242c-4b06-bb4f-7c22bcc3fd8d",
   "metadata": {},
   "outputs": [],
   "source": [
    "rng = np.random.default_rng()"
   ]
  },
  {
   "cell_type": "code",
   "execution_count": 4,
   "id": "a5fd997c-c544-4744-8ad1-96634f9d6163",
   "metadata": {},
   "outputs": [],
   "source": [
    "def get_name(prefix: str | None, suffix: str | None, separator: str = '_') -> str | None:\n",
    "    return prefix and prefix + separator + suffix or suffix or None"
   ]
  },
  {
   "cell_type": "markdown",
   "id": "4e580a6f-a987-40ec-9864-2e296bdd9ba6",
   "metadata": {},
   "source": [
    "# Environment"
   ]
  },
  {
   "cell_type": "markdown",
   "id": "120abf50-431d-4c8c-bc71-e760aa7c08b4",
   "metadata": {},
   "source": [
    "Create the [environment](https://gymnasium.farama.org/environments/box2d/bipedal_walker/)."
   ]
  },
  {
   "cell_type": "code",
   "execution_count": 76,
   "id": "e87a00db-a118-43c2-bbc7-a9e2a8f504e0",
   "metadata": {},
   "outputs": [],
   "source": [
    "batch_size = 64"
   ]
  },
  {
   "cell_type": "code",
   "execution_count": 77,
   "id": "494d88e1-dad6-4cbe-ab9b-9e34805ac00d",
   "metadata": {},
   "outputs": [],
   "source": [
    "train_env = gym.make_vec(\"BipedalWalker-v3\", hardcore=False, render_mode=\"rgb_array\", num_envs=batch_size)\n",
    "valid_env = gym.make_vec(\"BipedalWalker-v3\", hardcore=False, render_mode=\"rgb_array\", num_envs=batch_size)"
   ]
  },
  {
   "cell_type": "code",
   "execution_count": 78,
   "id": "cc5f40d1-35c9-417e-8701-667eab25adb2",
   "metadata": {},
   "outputs": [
    {
     "name": "stdout",
     "output_type": "stream",
     "text": [
      "Size of State Space ->  24\n",
      "Size of Action Space ->  4\n",
      "Max Value of Action ->  1.0\n",
      "Min Value of Action ->  -1.0\n"
     ]
    }
   ],
   "source": [
    "num_states = train_env.single_observation_space.shape[0]\n",
    "print(\"Size of State Space ->  {}\".format(num_states))\n",
    "num_actions = train_env.single_action_space.shape[0]\n",
    "print(\"Size of Action Space ->  {}\".format(num_actions))\n",
    "\n",
    "upper_bound = train_env.single_action_space.high[0]\n",
    "lower_bound = train_env.single_action_space.low[0]\n",
    "\n",
    "print(\"Max Value of Action ->  {}\".format(upper_bound))\n",
    "print(\"Min Value of Action ->  {}\".format(lower_bound))"
   ]
  },
  {
   "cell_type": "markdown",
   "id": "6828a718-db96-42f6-890f-265163fdedb9",
   "metadata": {},
   "source": [
    "# Replay Buffer"
   ]
  },
  {
   "cell_type": "markdown",
   "id": "037a88e3-0524-4d4f-9bd5-eb035d80fece",
   "metadata": {},
   "source": [
    "Create a replay buffer to hold game history"
   ]
  },
  {
   "cell_type": "code",
   "execution_count": 79,
   "id": "4a761715-1ef6-4ffd-b710-1758f292888c",
   "metadata": {},
   "outputs": [],
   "source": [
    "class ReplayBuffer:\n",
    "\n",
    "    def __init__(self, max_size: int, observation_space: gym.spaces.Space, action_space: gym.spaces.Space, seed: int | None = 42):\n",
    "        \"\"\"Stores the replay history with a maximum of `max_size` entries, removing old entries as needed.\n",
    "\n",
    "        Parameters:\n",
    "            max_size: maximal number of entries to keep\n",
    "            observation_space: specification of the observation space\n",
    "            action_space: specification of the action space\n",
    "            seed: seed to initialize the internal random number generator for reproducibility\"\"\"\n",
    "\n",
    "        self.current_observations = np.zeros((max_size, *observation_space.shape), dtype=observation_space.dtype)\n",
    "        self.next_observations = np.zeros((max_size, *observation_space.shape), dtype=observation_space.dtype)\n",
    "        self.actions = np.zeros((max_size, *action_space.shape), dtype=action_space.dtype)\n",
    "        self.rewards = np.zeros((max_size,), dtype=np.float32)\n",
    "        self.dones = np.zeros((max_size,), dtype=np.float32)\n",
    "        \n",
    "        self.max_size = max_size\n",
    "        self.rng = np.random.default_rng(seed=seed)\n",
    "        self.buffer_pointer = 0\n",
    "        self.current_size = 0\n",
    "        \n",
    "    def add(self, current_observations: np.ndarray, actions: np.ndarray, rewards: np.ndarray, next_observations: np.ndarray, dones: np.ndarray) -> None:\n",
    "        \"\"\"Add a new entry to the buffer.\n",
    "\n",
    "        Parameters:\n",
    "            current_observations: environment state observed at the current step\n",
    "            actions: action taken by the model\n",
    "            rewards: reward received after taking the action\n",
    "            next_observations: environment state obversed after taking the action\n",
    "            dones: whether the episode has ended or not\"\"\"\n",
    "\n",
    "        batch_size = current_observations.shape[0]\n",
    "        idxs = (np.arange(batch_size) + self.buffer_pointer) % self.max_size\n",
    "\n",
    "        self.current_observations[idxs] = current_observations\n",
    "        self.actions[idxs] = actions\n",
    "        self.rewards[idxs] = rewards\n",
    "        self.next_observations[idxs] = next_observations\n",
    "        self.dones[idxs] = dones\n",
    "\n",
    "        self.buffer_pointer = (idxs[-1] + 1) % self.max_size\n",
    "        self.current_size = min(self.max_size, self.current_size + batch_size)\n",
    "    \n",
    "    def sample(self, n_samples: int, replace: bool = True) -> tuple[np.ndarray, np.ndarray, np.ndarray, np.ndarray, np.ndarray]:\n",
    "        \"\"\"Randomly samples `n_samples` from the buffer.\n",
    "\n",
    "        Parameters:\n",
    "            n_samples: number of samples to select\n",
    "            replace: sample with or without replacement\n",
    "\n",
    "        Returns:\n",
    "            current observations, actions, rewards, next observations, dones\"\"\"\n",
    "\n",
    "        return self[self.rng.choice(self.current_size, size=n_samples, replace=replace)]\n",
    "\n",
    "    def clear(self) -> None:\n",
    "        \"\"\"Clears the buffer\"\"\"\n",
    "\n",
    "        self.buffer_pointer = 0\n",
    "        self.current_size = 0\n",
    "\n",
    "    def __getitem__(self, index: int | np.ndarray) -> tuple[np.ndarray, np.ndarray, np.ndarray, np.ndarray, np.ndarray]:\n",
    "        \"\"\"Gets a sample at `index`\n",
    "\n",
    "        Parameters:\n",
    "            index: index of the sample to get\n",
    "\n",
    "        Returns:\n",
    "            current observations, actions, rewards, next observations, dones\"\"\"\n",
    "\n",
    "        return (\n",
    "            self.current_observations[index],\n",
    "            self.actions[index],\n",
    "            self.rewards[index],\n",
    "            self.next_observations[index],\n",
    "            self.dones[index]\n",
    "        )\n",
    "        \n",
    "    def __len__(self) -> int:\n",
    "        \"\"\"Returns the number of entries in the buffer\"\"\"\n",
    "\n",
    "        return self.current_size"
   ]
  },
  {
   "cell_type": "markdown",
   "id": "669485c5-5787-4ffa-82f2-58f6f0acc151",
   "metadata": {},
   "source": [
    "# Model"
   ]
  },
  {
   "cell_type": "markdown",
   "id": "bc62c869-195b-4323-bdb4-dd53879455c9",
   "metadata": {},
   "source": [
    "Implement your model"
   ]
  },
  {
   "cell_type": "code",
   "execution_count": 80,
   "id": "a572a086-e9ce-4194-8809-54a8e05477d3",
   "metadata": {},
   "outputs": [],
   "source": [
    "def get_actor(\n",
    "    observation_space: int,\n",
    "    action_space: int,    \n",
    "    features: int,\n",
    "    blocks: int, \n",
    "    activation: str | keras.layers.Activation | None = 'relu',\n",
    "    name: str | None = None,\n",
    "):\n",
    "    inputs = x = keras.layers.Input((observation_space,), name=get_name(name, 'input'), dtype=tf.int32)\n",
    "\n",
    "    for i in range(blocks):\n",
    "        x = keras.layers.Dense(features, name=get_name(name, f'dense_{i}'))(x)\n",
    "        x = keras.layers.BatchNormalization(name=get_name(name, f'batch-norm_{i}'))(x)\n",
    "        x = keras.layers.Activation(activation=activation, name=get_name(name, f'activation_{i}'))(x)\n",
    "        \n",
    "        features = features // 2\n",
    "        \n",
    "    \n",
    "    outputs = keras.layers.Dense(action_space, activation=\"tanh\", name=get_name(name, f'output'))(x)\n",
    "\n",
    "    model = keras.Model(inputs, outputs)\n",
    "\n",
    "    return model"
   ]
  },
  {
   "cell_type": "code",
   "execution_count": 81,
   "id": "bbbeb03a-b520-4c4f-a86a-fe16f0b48f39",
   "metadata": {},
   "outputs": [],
   "source": [
    "def get_critic(\n",
    "    observation_space: int,\n",
    "    action_space: int,    \n",
    "    features: int,\n",
    "    blocks: int, \n",
    "    activation: str | keras.layers.Activation | None = 'relu',\n",
    "    name: str | None = None,\n",
    "):\n",
    "    state_input = keras.layers.Input(shape=(observation_space,), name=get_name(name, 'state_input'))\n",
    "    state_out = keras.layers.Dense(32, activation=activation, name=get_name(name, 'state_dense'))(state_input)\n",
    "\n",
    "    action_input = keras.layers.Input(shape=(action_space,), name=get_name(name, 'action_input'))\n",
    "    action_out = keras.layers.Dense(32, activation=activation, name=get_name(name, 'action_dense'))(action_input)\n",
    "\n",
    "    x = keras.layers.Concatenate(name=get_name(name, 'concat'))([state_out, action_out])\n",
    "\n",
    "    for i in range(blocks):\n",
    "        x = keras.layers.Dense(features, name=get_name(name, f'dense_{i}'))(x)\n",
    "        x = keras.layers.BatchNormalization(name=get_name(name, f'batch-norm_{i}'))(x)\n",
    "        x = keras.layers.Activation(activation=activation, name=get_name(name, f'activation_{i}'))(x)\n",
    "        \n",
    "        features = features // 2\n",
    "\n",
    "    outputs = keras.layers.Dense(1, name=get_name(name, 'output'))(x)\n",
    "\n",
    "    model = keras.Model([state_input, action_input], outputs)\n",
    "\n",
    "    return model"
   ]
  },
  {
   "cell_type": "code",
   "execution_count": 82,
   "id": "6ea81201-d8f7-4533-aeaf-1d9ab808cca9",
   "metadata": {},
   "outputs": [],
   "source": [
    "class Sampler:\n",
    "    def __init__(self, sigma: float, seed: int | None = None):\n",
    "        \"\"\"Selects a random action with probability `epsilon` otherwise selects the most probably action given by the model.\n",
    "\n",
    "        Parameters:\n",
    "            epsilon: the probability to select a random action\n",
    "            seed: seed to initialize the internal random number generator for reproducibility\"\"\"\n",
    "        self.sigma = sigma\n",
    "        self.rng = np.random.default_rng(seed=seed)\n",
    "\n",
    "    def __call__(self, actions: np.ndarray) -> np.ndarray:\n",
    "        \"\"\"Select an action given the `probabilities\n",
    "\n",
    "        Parameters:\n",
    "            probabilities: probabilities for each action\n",
    "\n",
    "        Returns:\n",
    "            index of the selected action\"\"\"\n",
    "        return np.clip(actions + self.rng.normal(scale=self.sigma, size=actions.shape), -1, 1)"
   ]
  },
  {
   "cell_type": "markdown",
   "id": "2d2cc1a3-3e45-4aac-8936-d5d45cc256f1",
   "metadata": {},
   "source": [
    "# Play the game"
   ]
  },
  {
   "cell_type": "markdown",
   "id": "02aa11b5-0ca1-4bfb-91a0-33a4f8922ae9",
   "metadata": {},
   "source": [
    "Implement interacting with the environment and storing entries to the replay buffer"
   ]
  },
  {
   "cell_type": "code",
   "execution_count": 83,
   "id": "01c8de2b-58fb-4632-a07f-634de2e1e923",
   "metadata": {},
   "outputs": [],
   "source": [
    "def play_game(\n",
    "    model: keras.Model,\n",
    "    buffer: ReplayBuffer,\n",
    "    env: gym.Env,\n",
    "    steps: int,\n",
    "    sampler: Sampler,\n",
    "    observations: np.ndarray | None = None,\n",
    "    one_episode: bool = False,\n",
    "    no_noise: bool = False,\n",
    ") -> np.ndarray:\n",
    "    \"\"\"Plays the environment `env` using model `model` for a total of `steps` steps.\n",
    "\n",
    "    Arguments:\n",
    "        model: model to use\n",
    "        buffer: buffer to store results to\n",
    "        env: environment to use\n",
    "        steps: total number of steps to record\n",
    "        observations: observation to start from\n",
    "        one_episode: exist as soon as one of the environments finishes\n",
    "\n",
    "    Returns:\n",
    "        the last observations\n",
    "    \"\"\"\n",
    "\n",
    "    if observations is None:\n",
    "        observations, _ = env.reset()\n",
    "\n",
    "    for _ in range(steps // env.num_envs):\n",
    "        res = model(observations, training=False).numpy()\n",
    "        \n",
    "        actions = sampler(res)\n",
    "        \n",
    "        new_observations, rewards, terminateds, truncated, _ = env.step(actions)\n",
    "\n",
    "        equal_observations = np.all(np.isclose(observations, new_observations), axis=1)\n",
    "\n",
    "        dones = terminateds | truncated | equal_observations\n",
    "\n",
    "        rewards = np.where(equal_observations, -100, rewards)\n",
    "\n",
    "        buffer.add(\n",
    "            current_observations=observations,\n",
    "            actions=actions,\n",
    "            rewards=rewards,\n",
    "            next_observations=new_observations,\n",
    "            dones=dones,\n",
    "        )\n",
    "\n",
    "        if one_episode and np.any(dones):\n",
    "            observations = None\n",
    "            break\n",
    "        \n",
    "        observations = new_observations\n",
    "    \n",
    "    return observations"
   ]
  },
  {
   "cell_type": "markdown",
   "id": "a59610fe-2753-4b77-9f1c-4a92771a7a26",
   "metadata": {},
   "source": [
    "# QDataset"
   ]
  },
  {
   "cell_type": "code",
   "execution_count": 84,
   "id": "7db6f6a1-7d20-4525-a81f-f2b43a547f8f",
   "metadata": {},
   "outputs": [],
   "source": [
    "class QDataset(keras.utils.PyDataset):\n",
    "    def __init__(\n",
    "        self,\n",
    "        steps_per_epoch: int,\n",
    "        batch_size: int,\n",
    "        buffer: ReplayBuffer,\n",
    "    ):\n",
    "        super().__init__()\n",
    "        self.buffer = buffer\n",
    "        self.batch_size = batch_size\n",
    "        self.steps_per_epoch = steps_per_epoch\n",
    "\n",
    "        self._answer = np.zeros((batch_size, num_actions), dtype=np.float32)\n",
    "\n",
    "    def __len__(self):\n",
    "        return self.steps_per_epoch\n",
    "\n",
    "    def __getitem__(self, idx: int) -> np.ndarray:\n",
    "        return self.buffer.sample(self.batch_size), self._answer"
   ]
  },
  {
   "cell_type": "markdown",
   "id": "78458a1f-054a-463a-934f-ac3f669c0e27",
   "metadata": {},
   "source": [
    "# Training"
   ]
  },
  {
   "cell_type": "markdown",
   "id": "3fb0aaa7-6ae5-45dc-9c52-04c474ec3ecc",
   "metadata": {},
   "source": [
    "Create models, replay buffers, optimizer, epsilon decay etc. Implement training loop, show training progress and perform model evaluation once in a while"
   ]
  },
  {
   "cell_type": "code",
   "execution_count": 85,
   "id": "139138b8-f63c-4a2f-8793-4f96d25a353a",
   "metadata": {},
   "outputs": [],
   "source": [
    "def update_weights(model: keras.Model, target_model: keras.Model):\n",
    "    target_model.set_weights(\n",
    "        [\n",
    "            rho * target_w + (1 - rho) * w for w,\n",
    "            target_w in zip(\n",
    "                model.get_weights(),\n",
    "                target_model.get_weights()\n",
    "            )\n",
    "        ]\n",
    "    )"
   ]
  },
  {
   "cell_type": "code",
   "execution_count": 86,
   "id": "41cd9f10-828c-4a93-be0e-3c2bbf40536c",
   "metadata": {},
   "outputs": [],
   "source": [
    "buffer_size = 2 ** 19     # 32_768\n",
    "steps_per_play = 2 ** 17  # 2048\n",
    "steps_per_epoch = 2 ** 10 # 1024\n",
    "batch_size = 64\n",
    "\n",
    "end_sigma = 0.1\n",
    "epochs = 128\n",
    "decay_epochs = epochs // 2\n",
    "\n",
    "gamma = 0.99\n",
    "rho = 0.9"
   ]
  },
  {
   "cell_type": "code",
   "execution_count": 87,
   "id": "03e527a9-957c-4747-942c-2a3743849aac",
   "metadata": {},
   "outputs": [],
   "source": [
    "sigma = 1 / 3\n",
    "sampler = Sampler(sigma)"
   ]
  },
  {
   "cell_type": "code",
   "execution_count": 88,
   "id": "628e7a4d-b1ca-440c-9532-907c42e111b6",
   "metadata": {},
   "outputs": [],
   "source": [
    "sigma_decay = keras.optimizers.schedules.PolynomialDecay(sigma, decay_epochs, end_learning_rate=end_sigma)"
   ]
  },
  {
   "cell_type": "code",
   "execution_count": 89,
   "id": "1fa61cf5-0ec2-4152-9ef4-7f54db57d69f",
   "metadata": {},
   "outputs": [],
   "source": [
    "features = 512\n",
    "blocks = 5"
   ]
  },
  {
   "cell_type": "code",
   "execution_count": 90,
   "id": "77406d6b-73c8-4097-8901-2e4b9585d282",
   "metadata": {},
   "outputs": [],
   "source": [
    "actor_model = get_actor(\n",
    "    observation_space=valid_env.single_observation_space.shape[0],\n",
    "    action_space=valid_env.single_action_space.shape[0],\n",
    "    features=features,\n",
    "    blocks=blocks,\n",
    "    activation='leaky_relu',\n",
    "    name='actor',\n",
    ")\n",
    "\n",
    "critic_model = get_critic(\n",
    "    observation_space=valid_env.single_observation_space.shape[0],\n",
    "    action_space=valid_env.single_action_space.shape[0],\n",
    "    features=features,\n",
    "    blocks=blocks,\n",
    "    activation='leaky_relu',\n",
    "    name='critic',\n",
    ")\n",
    "\n",
    "actor_model_target = get_actor(\n",
    "    observation_space=valid_env.single_observation_space.shape[0],\n",
    "    action_space=valid_env.single_action_space.shape[0],\n",
    "    features=features,\n",
    "    blocks=blocks,\n",
    "    activation='leaky_relu',\n",
    "    name='actor',\n",
    ")\n",
    "\n",
    "critic_model_target = get_critic(\n",
    "    observation_space=valid_env.single_observation_space.shape[0],\n",
    "    action_space=valid_env.single_action_space.shape[0],\n",
    "    features=features,\n",
    "    blocks=blocks,\n",
    "    activation='leaky_relu',\n",
    "    name='critic',\n",
    ")\n",
    "\n",
    "actor_model_target.set_weights(actor_model.get_weights())\n",
    "critic_model_target.set_weights(critic_model.get_weights())"
   ]
  },
  {
   "cell_type": "code",
   "execution_count": 91,
   "id": "32db510e-75f5-4843-9811-dd5440685c79",
   "metadata": {},
   "outputs": [],
   "source": [
    "critic_lr = 1e-4\n",
    "actor_lr = 1e-5\n",
    "\n",
    "optimizer_critic = keras.optimizers.AdamW(critic_lr, clipnorm=1.0)\n",
    "optimizer_actor = keras.optimizers.AdamW(actor_lr, clipnorm=1.0)\n",
    "\n",
    "optimizer_critic.build(critic_model.trainable_weights)\n",
    "optimizer_actor.build(actor_model.trainable_weights)"
   ]
  },
  {
   "cell_type": "code",
   "execution_count": 92,
   "id": "f3888e43-947b-4b75-9eaa-963f2a262a79",
   "metadata": {},
   "outputs": [],
   "source": [
    "train_buffer = ReplayBuffer(\n",
    "    max_size=buffer_size,\n",
    "    observation_space=train_env.single_observation_space,\n",
    "    action_space=train_env.single_action_space\n",
    ")\n",
    "\n",
    "val_buffer = ReplayBuffer(\n",
    "    max_size=buffer_size,\n",
    "    observation_space=train_env.single_observation_space,\n",
    "    action_space=train_env.single_action_space\n",
    ")"
   ]
  },
  {
   "cell_type": "code",
   "execution_count": 93,
   "id": "4fe8d94b-d804-482b-a348-a699a0fa7a6c",
   "metadata": {},
   "outputs": [],
   "source": [
    "dataset = QDataset(\n",
    "    steps_per_epoch=steps_per_epoch,\n",
    "    batch_size=train_env.num_envs,\n",
    "    buffer=train_buffer,\n",
    ")"
   ]
  },
  {
   "cell_type": "code",
   "execution_count": 94,
   "id": "7659e162-9faa-4f1b-b337-fb8ebf0c8b56",
   "metadata": {},
   "outputs": [],
   "source": [
    "all_loss = []\n",
    "all_rewards = []"
   ]
  },
  {
   "cell_type": "code",
   "execution_count": null,
   "id": "def743e3-7c06-4130-8995-671833fe41d2",
   "metadata": {},
   "outputs": [
    {
     "data": {
      "application/vnd.jupyter.widget-view+json": {
       "model_id": "f973842158244e448895c65f5681d805",
       "version_major": 2,
       "version_minor": 0
      },
      "text/plain": [
       "  0%|          | 0/128 [00:00<?, ?it/s]"
      ]
     },
     "metadata": {},
     "output_type": "display_data"
    },
    {
     "data": {
      "application/vnd.jupyter.widget-view+json": {
       "model_id": "bd527fa82f1c407dbb1a520c62595a4f",
       "version_major": 2,
       "version_minor": 0
      },
      "text/plain": [
       "  0%|          | 0/1024 [00:00<?, ?it/s]"
      ]
     },
     "metadata": {},
     "output_type": "display_data"
    },
    {
     "data": {
      "application/vnd.jupyter.widget-view+json": {
       "model_id": "a81ec19cf48647eab90ead5c1d516073",
       "version_major": 2,
       "version_minor": 0
      },
      "text/plain": [
       "  0%|          | 0/1024 [00:00<?, ?it/s]"
      ]
     },
     "metadata": {},
     "output_type": "display_data"
    },
    {
     "data": {
      "application/vnd.jupyter.widget-view+json": {
       "model_id": "51eee95255ce43418021af40c541c191",
       "version_major": 2,
       "version_minor": 0
      },
      "text/plain": [
       "  0%|          | 0/1024 [00:00<?, ?it/s]"
      ]
     },
     "metadata": {},
     "output_type": "display_data"
    },
    {
     "data": {
      "application/vnd.jupyter.widget-view+json": {
       "model_id": "83a36e4ac2a54b5aadf9c0142fe9aee5",
       "version_major": 2,
       "version_minor": 0
      },
      "text/plain": [
       "  0%|          | 0/1024 [00:00<?, ?it/s]"
      ]
     },
     "metadata": {},
     "output_type": "display_data"
    },
    {
     "data": {
      "application/vnd.jupyter.widget-view+json": {
       "model_id": "fae5581d4f2b4d14a08a862680d8c8bc",
       "version_major": 2,
       "version_minor": 0
      },
      "text/plain": [
       "  0%|          | 0/1024 [00:00<?, ?it/s]"
      ]
     },
     "metadata": {},
     "output_type": "display_data"
    },
    {
     "data": {
      "application/vnd.jupyter.widget-view+json": {
       "model_id": "887a38da3dae4aad8e358be1d8265403",
       "version_major": 2,
       "version_minor": 0
      },
      "text/plain": [
       "  0%|          | 0/1024 [00:00<?, ?it/s]"
      ]
     },
     "metadata": {},
     "output_type": "display_data"
    },
    {
     "data": {
      "application/vnd.jupyter.widget-view+json": {
       "model_id": "4acf6647e37b43be9d4c8f130d50ec11",
       "version_major": 2,
       "version_minor": 0
      },
      "text/plain": [
       "  0%|          | 0/1024 [00:00<?, ?it/s]"
      ]
     },
     "metadata": {},
     "output_type": "display_data"
    },
    {
     "data": {
      "application/vnd.jupyter.widget-view+json": {
       "model_id": "3dde35c4f6664b6788629ddea2e0f966",
       "version_major": 2,
       "version_minor": 0
      },
      "text/plain": [
       "  0%|          | 0/1024 [00:00<?, ?it/s]"
      ]
     },
     "metadata": {},
     "output_type": "display_data"
    },
    {
     "data": {
      "application/vnd.jupyter.widget-view+json": {
       "model_id": "9f335d27cab54e07a102d39fd435cb51",
       "version_major": 2,
       "version_minor": 0
      },
      "text/plain": [
       "  0%|          | 0/1024 [00:00<?, ?it/s]"
      ]
     },
     "metadata": {},
     "output_type": "display_data"
    },
    {
     "data": {
      "application/vnd.jupyter.widget-view+json": {
       "model_id": "34d40b3ab9f84a59aa26deba6527f78a",
       "version_major": 2,
       "version_minor": 0
      },
      "text/plain": [
       "  0%|          | 0/1024 [00:00<?, ?it/s]"
      ]
     },
     "metadata": {},
     "output_type": "display_data"
    },
    {
     "data": {
      "application/vnd.jupyter.widget-view+json": {
       "model_id": "ae0bba06cf0c47c8ab4a01732abe1add",
       "version_major": 2,
       "version_minor": 0
      },
      "text/plain": [
       "  0%|          | 0/1024 [00:00<?, ?it/s]"
      ]
     },
     "metadata": {},
     "output_type": "display_data"
    },
    {
     "data": {
      "application/vnd.jupyter.widget-view+json": {
       "model_id": "5929a063e47d4fc2bdf065e411678aad",
       "version_major": 2,
       "version_minor": 0
      },
      "text/plain": [
       "  0%|          | 0/1024 [00:00<?, ?it/s]"
      ]
     },
     "metadata": {},
     "output_type": "display_data"
    },
    {
     "data": {
      "application/vnd.jupyter.widget-view+json": {
       "model_id": "42ba539cf1824fb58dddd40f389aedde",
       "version_major": 2,
       "version_minor": 0
      },
      "text/plain": [
       "  0%|          | 0/1024 [00:00<?, ?it/s]"
      ]
     },
     "metadata": {},
     "output_type": "display_data"
    },
    {
     "data": {
      "application/vnd.jupyter.widget-view+json": {
       "model_id": "ea1b7c7f108846cbacecc84f96bfe298",
       "version_major": 2,
       "version_minor": 0
      },
      "text/plain": [
       "  0%|          | 0/1024 [00:00<?, ?it/s]"
      ]
     },
     "metadata": {},
     "output_type": "display_data"
    },
    {
     "data": {
      "application/vnd.jupyter.widget-view+json": {
       "model_id": "90bdc249afbd4e17af73746073b67340",
       "version_major": 2,
       "version_minor": 0
      },
      "text/plain": [
       "  0%|          | 0/1024 [00:00<?, ?it/s]"
      ]
     },
     "metadata": {},
     "output_type": "display_data"
    },
    {
     "data": {
      "application/vnd.jupyter.widget-view+json": {
       "model_id": "9ca24f403a18467e83bdadc298b62893",
       "version_major": 2,
       "version_minor": 0
      },
      "text/plain": [
       "  0%|          | 0/1024 [00:00<?, ?it/s]"
      ]
     },
     "metadata": {},
     "output_type": "display_data"
    },
    {
     "data": {
      "application/vnd.jupyter.widget-view+json": {
       "model_id": "7cc69adb2a2e404681d3a004c6c4e809",
       "version_major": 2,
       "version_minor": 0
      },
      "text/plain": [
       "  0%|          | 0/1024 [00:00<?, ?it/s]"
      ]
     },
     "metadata": {},
     "output_type": "display_data"
    },
    {
     "data": {
      "application/vnd.jupyter.widget-view+json": {
       "model_id": "765c1a4b41d64b16bc43aaf9013ed133",
       "version_major": 2,
       "version_minor": 0
      },
      "text/plain": [
       "  0%|          | 0/1024 [00:00<?, ?it/s]"
      ]
     },
     "metadata": {},
     "output_type": "display_data"
    },
    {
     "data": {
      "application/vnd.jupyter.widget-view+json": {
       "model_id": "4c60ed3300f34cc5ba1bf8d8c799225f",
       "version_major": 2,
       "version_minor": 0
      },
      "text/plain": [
       "  0%|          | 0/1024 [00:00<?, ?it/s]"
      ]
     },
     "metadata": {},
     "output_type": "display_data"
    },
    {
     "data": {
      "application/vnd.jupyter.widget-view+json": {
       "model_id": "d6a55bc626814b6c9af13735aa487cac",
       "version_major": 2,
       "version_minor": 0
      },
      "text/plain": [
       "  0%|          | 0/1024 [00:00<?, ?it/s]"
      ]
     },
     "metadata": {},
     "output_type": "display_data"
    },
    {
     "data": {
      "application/vnd.jupyter.widget-view+json": {
       "model_id": "dc1fe51540784fffa915837b504e4408",
       "version_major": 2,
       "version_minor": 0
      },
      "text/plain": [
       "  0%|          | 0/1024 [00:00<?, ?it/s]"
      ]
     },
     "metadata": {},
     "output_type": "display_data"
    },
    {
     "data": {
      "application/vnd.jupyter.widget-view+json": {
       "model_id": "ff961e73fcec420caa1a8bb26e7ec5ea",
       "version_major": 2,
       "version_minor": 0
      },
      "text/plain": [
       "  0%|          | 0/1024 [00:00<?, ?it/s]"
      ]
     },
     "metadata": {},
     "output_type": "display_data"
    },
    {
     "data": {
      "application/vnd.jupyter.widget-view+json": {
       "model_id": "9696f7e0c7ab4a8eb078fd06a6420801",
       "version_major": 2,
       "version_minor": 0
      },
      "text/plain": [
       "  0%|          | 0/1024 [00:00<?, ?it/s]"
      ]
     },
     "metadata": {},
     "output_type": "display_data"
    },
    {
     "data": {
      "application/vnd.jupyter.widget-view+json": {
       "model_id": "5c97d25777494f4fb97401137960aa7a",
       "version_major": 2,
       "version_minor": 0
      },
      "text/plain": [
       "  0%|          | 0/1024 [00:00<?, ?it/s]"
      ]
     },
     "metadata": {},
     "output_type": "display_data"
    },
    {
     "data": {
      "application/vnd.jupyter.widget-view+json": {
       "model_id": "955f66b238cd45dc916ae572962994fb",
       "version_major": 2,
       "version_minor": 0
      },
      "text/plain": [
       "  0%|          | 0/1024 [00:00<?, ?it/s]"
      ]
     },
     "metadata": {},
     "output_type": "display_data"
    },
    {
     "data": {
      "application/vnd.jupyter.widget-view+json": {
       "model_id": "b85f2ece84fd4be48e578a9348d405c7",
       "version_major": 2,
       "version_minor": 0
      },
      "text/plain": [
       "  0%|          | 0/1024 [00:00<?, ?it/s]"
      ]
     },
     "metadata": {},
     "output_type": "display_data"
    },
    {
     "data": {
      "application/vnd.jupyter.widget-view+json": {
       "model_id": "ece2d3ca789946c2be7898876f938d62",
       "version_major": 2,
       "version_minor": 0
      },
      "text/plain": [
       "  0%|          | 0/1024 [00:00<?, ?it/s]"
      ]
     },
     "metadata": {},
     "output_type": "display_data"
    },
    {
     "data": {
      "application/vnd.jupyter.widget-view+json": {
       "model_id": "e694f8b9bcf84888ad662b69066e5fc8",
       "version_major": 2,
       "version_minor": 0
      },
      "text/plain": [
       "  0%|          | 0/1024 [00:00<?, ?it/s]"
      ]
     },
     "metadata": {},
     "output_type": "display_data"
    },
    {
     "data": {
      "application/vnd.jupyter.widget-view+json": {
       "model_id": "e60d252a587f453caca39b41ed1a3ba1",
       "version_major": 2,
       "version_minor": 0
      },
      "text/plain": [
       "  0%|          | 0/1024 [00:00<?, ?it/s]"
      ]
     },
     "metadata": {},
     "output_type": "display_data"
    },
    {
     "data": {
      "application/vnd.jupyter.widget-view+json": {
       "model_id": "5e500669f8414fb58f8a99fc07b2ba3a",
       "version_major": 2,
       "version_minor": 0
      },
      "text/plain": [
       "  0%|          | 0/1024 [00:00<?, ?it/s]"
      ]
     },
     "metadata": {},
     "output_type": "display_data"
    },
    {
     "data": {
      "application/vnd.jupyter.widget-view+json": {
       "model_id": "9450909e53844af98c695fbf9804682f",
       "version_major": 2,
       "version_minor": 0
      },
      "text/plain": [
       "  0%|          | 0/1024 [00:00<?, ?it/s]"
      ]
     },
     "metadata": {},
     "output_type": "display_data"
    },
    {
     "data": {
      "application/vnd.jupyter.widget-view+json": {
       "model_id": "9b31643ecbb84a8a8182ad4f47e7fd94",
       "version_major": 2,
       "version_minor": 0
      },
      "text/plain": [
       "  0%|          | 0/1024 [00:00<?, ?it/s]"
      ]
     },
     "metadata": {},
     "output_type": "display_data"
    },
    {
     "data": {
      "application/vnd.jupyter.widget-view+json": {
       "model_id": "5da8161720ef4b90848d4e8d05d8774d",
       "version_major": 2,
       "version_minor": 0
      },
      "text/plain": [
       "  0%|          | 0/1024 [00:00<?, ?it/s]"
      ]
     },
     "metadata": {},
     "output_type": "display_data"
    },
    {
     "data": {
      "application/vnd.jupyter.widget-view+json": {
       "model_id": "200e58be40144ea483875e0841a6d0ff",
       "version_major": 2,
       "version_minor": 0
      },
      "text/plain": [
       "  0%|          | 0/1024 [00:00<?, ?it/s]"
      ]
     },
     "metadata": {},
     "output_type": "display_data"
    },
    {
     "data": {
      "application/vnd.jupyter.widget-view+json": {
       "model_id": "13d8db8cb4d84f918690e8e2acc9002b",
       "version_major": 2,
       "version_minor": 0
      },
      "text/plain": [
       "  0%|          | 0/1024 [00:00<?, ?it/s]"
      ]
     },
     "metadata": {},
     "output_type": "display_data"
    },
    {
     "data": {
      "application/vnd.jupyter.widget-view+json": {
       "model_id": "2aa0cecd156a4729a7edc7a1341aaa2f",
       "version_major": 2,
       "version_minor": 0
      },
      "text/plain": [
       "  0%|          | 0/1024 [00:00<?, ?it/s]"
      ]
     },
     "metadata": {},
     "output_type": "display_data"
    },
    {
     "data": {
      "application/vnd.jupyter.widget-view+json": {
       "model_id": "25faa0a090644331bc892f12de3aeeb6",
       "version_major": 2,
       "version_minor": 0
      },
      "text/plain": [
       "  0%|          | 0/1024 [00:00<?, ?it/s]"
      ]
     },
     "metadata": {},
     "output_type": "display_data"
    },
    {
     "data": {
      "application/vnd.jupyter.widget-view+json": {
       "model_id": "ea7368846e114e12955ad82dab7a363c",
       "version_major": 2,
       "version_minor": 0
      },
      "text/plain": [
       "  0%|          | 0/1024 [00:00<?, ?it/s]"
      ]
     },
     "metadata": {},
     "output_type": "display_data"
    },
    {
     "data": {
      "application/vnd.jupyter.widget-view+json": {
       "model_id": "4404dc75ef3e4aab85da6d655b2f914f",
       "version_major": 2,
       "version_minor": 0
      },
      "text/plain": [
       "  0%|          | 0/1024 [00:00<?, ?it/s]"
      ]
     },
     "metadata": {},
     "output_type": "display_data"
    },
    {
     "data": {
      "application/vnd.jupyter.widget-view+json": {
       "model_id": "e35f0a6cb88f4822b59b0b7ca86710f7",
       "version_major": 2,
       "version_minor": 0
      },
      "text/plain": [
       "  0%|          | 0/1024 [00:00<?, ?it/s]"
      ]
     },
     "metadata": {},
     "output_type": "display_data"
    },
    {
     "data": {
      "application/vnd.jupyter.widget-view+json": {
       "model_id": "21ce7a6efdb9446fabfc1489e1e5c075",
       "version_major": 2,
       "version_minor": 0
      },
      "text/plain": [
       "  0%|          | 0/1024 [00:00<?, ?it/s]"
      ]
     },
     "metadata": {},
     "output_type": "display_data"
    },
    {
     "data": {
      "application/vnd.jupyter.widget-view+json": {
       "model_id": "a27835a4cfae43ada18a8d80e5d58275",
       "version_major": 2,
       "version_minor": 0
      },
      "text/plain": [
       "  0%|          | 0/1024 [00:00<?, ?it/s]"
      ]
     },
     "metadata": {},
     "output_type": "display_data"
    },
    {
     "data": {
      "application/vnd.jupyter.widget-view+json": {
       "model_id": "61253d41228f4f75b6d4f8ba286c3697",
       "version_major": 2,
       "version_minor": 0
      },
      "text/plain": [
       "  0%|          | 0/1024 [00:00<?, ?it/s]"
      ]
     },
     "metadata": {},
     "output_type": "display_data"
    },
    {
     "data": {
      "application/vnd.jupyter.widget-view+json": {
       "model_id": "29b5a49e587a42349dac41938eee8775",
       "version_major": 2,
       "version_minor": 0
      },
      "text/plain": [
       "  0%|          | 0/1024 [00:00<?, ?it/s]"
      ]
     },
     "metadata": {},
     "output_type": "display_data"
    },
    {
     "data": {
      "application/vnd.jupyter.widget-view+json": {
       "model_id": "bf34858f2723404ab925697c6e04f9e4",
       "version_major": 2,
       "version_minor": 0
      },
      "text/plain": [
       "  0%|          | 0/1024 [00:00<?, ?it/s]"
      ]
     },
     "metadata": {},
     "output_type": "display_data"
    },
    {
     "data": {
      "application/vnd.jupyter.widget-view+json": {
       "model_id": "70e0139dea77475c9aad693d841d4002",
       "version_major": 2,
       "version_minor": 0
      },
      "text/plain": [
       "  0%|          | 0/1024 [00:00<?, ?it/s]"
      ]
     },
     "metadata": {},
     "output_type": "display_data"
    },
    {
     "data": {
      "application/vnd.jupyter.widget-view+json": {
       "model_id": "9638ef26cefe4f22b51c7360bd4f3bea",
       "version_major": 2,
       "version_minor": 0
      },
      "text/plain": [
       "  0%|          | 0/1024 [00:00<?, ?it/s]"
      ]
     },
     "metadata": {},
     "output_type": "display_data"
    },
    {
     "data": {
      "application/vnd.jupyter.widget-view+json": {
       "model_id": "27bc5f33356a481b8df5e258f9a37c40",
       "version_major": 2,
       "version_minor": 0
      },
      "text/plain": [
       "  0%|          | 0/1024 [00:00<?, ?it/s]"
      ]
     },
     "metadata": {},
     "output_type": "display_data"
    },
    {
     "data": {
      "application/vnd.jupyter.widget-view+json": {
       "model_id": "073d7720c7bc4a5c9848504686d0591a",
       "version_major": 2,
       "version_minor": 0
      },
      "text/plain": [
       "  0%|          | 0/1024 [00:00<?, ?it/s]"
      ]
     },
     "metadata": {},
     "output_type": "display_data"
    },
    {
     "data": {
      "application/vnd.jupyter.widget-view+json": {
       "model_id": "ddcbb8fe9a2042b59063a8321c863f16",
       "version_major": 2,
       "version_minor": 0
      },
      "text/plain": [
       "  0%|          | 0/1024 [00:00<?, ?it/s]"
      ]
     },
     "metadata": {},
     "output_type": "display_data"
    },
    {
     "data": {
      "application/vnd.jupyter.widget-view+json": {
       "model_id": "cadb54b7e27e4ab2a8df72aeac45f776",
       "version_major": 2,
       "version_minor": 0
      },
      "text/plain": [
       "  0%|          | 0/1024 [00:00<?, ?it/s]"
      ]
     },
     "metadata": {},
     "output_type": "display_data"
    },
    {
     "data": {
      "application/vnd.jupyter.widget-view+json": {
       "model_id": "bfb6e50df6654d9d9aea4e27e8e8bf6c",
       "version_major": 2,
       "version_minor": 0
      },
      "text/plain": [
       "  0%|          | 0/1024 [00:00<?, ?it/s]"
      ]
     },
     "metadata": {},
     "output_type": "display_data"
    },
    {
     "data": {
      "application/vnd.jupyter.widget-view+json": {
       "model_id": "649f2de5cbdc4900ad565a5eb90c65a7",
       "version_major": 2,
       "version_minor": 0
      },
      "text/plain": [
       "  0%|          | 0/1024 [00:00<?, ?it/s]"
      ]
     },
     "metadata": {},
     "output_type": "display_data"
    },
    {
     "data": {
      "application/vnd.jupyter.widget-view+json": {
       "model_id": "0a0779752f8b4d838a6a61cabf6c076e",
       "version_major": 2,
       "version_minor": 0
      },
      "text/plain": [
       "  0%|          | 0/1024 [00:00<?, ?it/s]"
      ]
     },
     "metadata": {},
     "output_type": "display_data"
    },
    {
     "data": {
      "application/vnd.jupyter.widget-view+json": {
       "model_id": "7a0c6e39fe3144a4b333c27332dcdce3",
       "version_major": 2,
       "version_minor": 0
      },
      "text/plain": [
       "  0%|          | 0/1024 [00:00<?, ?it/s]"
      ]
     },
     "metadata": {},
     "output_type": "display_data"
    },
    {
     "data": {
      "application/vnd.jupyter.widget-view+json": {
       "model_id": "50c1bbbdfd214d2ebde55592b316590b",
       "version_major": 2,
       "version_minor": 0
      },
      "text/plain": [
       "  0%|          | 0/1024 [00:00<?, ?it/s]"
      ]
     },
     "metadata": {},
     "output_type": "display_data"
    },
    {
     "data": {
      "application/vnd.jupyter.widget-view+json": {
       "model_id": "766ae398c33c4a9ab73395e4ff609294",
       "version_major": 2,
       "version_minor": 0
      },
      "text/plain": [
       "  0%|          | 0/1024 [00:00<?, ?it/s]"
      ]
     },
     "metadata": {},
     "output_type": "display_data"
    },
    {
     "data": {
      "application/vnd.jupyter.widget-view+json": {
       "model_id": "332e3edb8c1c4a54a26eace3f24dfefa",
       "version_major": 2,
       "version_minor": 0
      },
      "text/plain": [
       "  0%|          | 0/1024 [00:00<?, ?it/s]"
      ]
     },
     "metadata": {},
     "output_type": "display_data"
    },
    {
     "data": {
      "application/vnd.jupyter.widget-view+json": {
       "model_id": "d1d13cdf81044ea39c94eeddc1322298",
       "version_major": 2,
       "version_minor": 0
      },
      "text/plain": [
       "  0%|          | 0/1024 [00:00<?, ?it/s]"
      ]
     },
     "metadata": {},
     "output_type": "display_data"
    },
    {
     "data": {
      "application/vnd.jupyter.widget-view+json": {
       "model_id": "739f684922414b44ae8e929fde6d369d",
       "version_major": 2,
       "version_minor": 0
      },
      "text/plain": [
       "  0%|          | 0/1024 [00:00<?, ?it/s]"
      ]
     },
     "metadata": {},
     "output_type": "display_data"
    },
    {
     "data": {
      "application/vnd.jupyter.widget-view+json": {
       "model_id": "f9edd7148461432698f0c6ef44411ea6",
       "version_major": 2,
       "version_minor": 0
      },
      "text/plain": [
       "  0%|          | 0/1024 [00:00<?, ?it/s]"
      ]
     },
     "metadata": {},
     "output_type": "display_data"
    },
    {
     "data": {
      "application/vnd.jupyter.widget-view+json": {
       "model_id": "0445a90c98694634a235f8457f82d939",
       "version_major": 2,
       "version_minor": 0
      },
      "text/plain": [
       "  0%|          | 0/1024 [00:00<?, ?it/s]"
      ]
     },
     "metadata": {},
     "output_type": "display_data"
    },
    {
     "data": {
      "application/vnd.jupyter.widget-view+json": {
       "model_id": "d87a29dd169d4ba8974a6b90dfd0c5f2",
       "version_major": 2,
       "version_minor": 0
      },
      "text/plain": [
       "  0%|          | 0/1024 [00:00<?, ?it/s]"
      ]
     },
     "metadata": {},
     "output_type": "display_data"
    },
    {
     "data": {
      "application/vnd.jupyter.widget-view+json": {
       "model_id": "3f4c9c9a1ca748fe82c007881a85b189",
       "version_major": 2,
       "version_minor": 0
      },
      "text/plain": [
       "  0%|          | 0/1024 [00:00<?, ?it/s]"
      ]
     },
     "metadata": {},
     "output_type": "display_data"
    },
    {
     "data": {
      "application/vnd.jupyter.widget-view+json": {
       "model_id": "4e4205189352481794a2843cd7788672",
       "version_major": 2,
       "version_minor": 0
      },
      "text/plain": [
       "  0%|          | 0/1024 [00:00<?, ?it/s]"
      ]
     },
     "metadata": {},
     "output_type": "display_data"
    },
    {
     "data": {
      "application/vnd.jupyter.widget-view+json": {
       "model_id": "423b0d034c2c4137a5495bd28848c91d",
       "version_major": 2,
       "version_minor": 0
      },
      "text/plain": [
       "  0%|          | 0/1024 [00:00<?, ?it/s]"
      ]
     },
     "metadata": {},
     "output_type": "display_data"
    },
    {
     "data": {
      "application/vnd.jupyter.widget-view+json": {
       "model_id": "bbf26da3ed6f4122b1c48f21ff4f0ff2",
       "version_major": 2,
       "version_minor": 0
      },
      "text/plain": [
       "  0%|          | 0/1024 [00:00<?, ?it/s]"
      ]
     },
     "metadata": {},
     "output_type": "display_data"
    },
    {
     "data": {
      "application/vnd.jupyter.widget-view+json": {
       "model_id": "f500abe6b20c4711ae91ca9425c2a033",
       "version_major": 2,
       "version_minor": 0
      },
      "text/plain": [
       "  0%|          | 0/1024 [00:00<?, ?it/s]"
      ]
     },
     "metadata": {},
     "output_type": "display_data"
    },
    {
     "data": {
      "application/vnd.jupyter.widget-view+json": {
       "model_id": "454eef2d804d40808e1f22ce209cbd34",
       "version_major": 2,
       "version_minor": 0
      },
      "text/plain": [
       "  0%|          | 0/1024 [00:00<?, ?it/s]"
      ]
     },
     "metadata": {},
     "output_type": "display_data"
    },
    {
     "data": {
      "application/vnd.jupyter.widget-view+json": {
       "model_id": "f57481bea9ba48a9af19da0a0252637d",
       "version_major": 2,
       "version_minor": 0
      },
      "text/plain": [
       "  0%|          | 0/1024 [00:00<?, ?it/s]"
      ]
     },
     "metadata": {},
     "output_type": "display_data"
    },
    {
     "data": {
      "application/vnd.jupyter.widget-view+json": {
       "model_id": "cca7c052be4c4436aff2e279310b528e",
       "version_major": 2,
       "version_minor": 0
      },
      "text/plain": [
       "  0%|          | 0/1024 [00:00<?, ?it/s]"
      ]
     },
     "metadata": {},
     "output_type": "display_data"
    },
    {
     "data": {
      "application/vnd.jupyter.widget-view+json": {
       "model_id": "a6d1ae1d3f434171a15d3f3e1abf4d2d",
       "version_major": 2,
       "version_minor": 0
      },
      "text/plain": [
       "  0%|          | 0/1024 [00:00<?, ?it/s]"
      ]
     },
     "metadata": {},
     "output_type": "display_data"
    },
    {
     "data": {
      "application/vnd.jupyter.widget-view+json": {
       "model_id": "1cfc178f16be4cbc9e6bd7fd4a5d9342",
       "version_major": 2,
       "version_minor": 0
      },
      "text/plain": [
       "  0%|          | 0/1024 [00:00<?, ?it/s]"
      ]
     },
     "metadata": {},
     "output_type": "display_data"
    },
    {
     "data": {
      "application/vnd.jupyter.widget-view+json": {
       "model_id": "6417cbd50d06406aa2b82b5e3e7f7686",
       "version_major": 2,
       "version_minor": 0
      },
      "text/plain": [
       "  0%|          | 0/1024 [00:00<?, ?it/s]"
      ]
     },
     "metadata": {},
     "output_type": "display_data"
    },
    {
     "data": {
      "application/vnd.jupyter.widget-view+json": {
       "model_id": "7ae7a5ab99844ee3afd8fde0bfd2e48e",
       "version_major": 2,
       "version_minor": 0
      },
      "text/plain": [
       "  0%|          | 0/1024 [00:00<?, ?it/s]"
      ]
     },
     "metadata": {},
     "output_type": "display_data"
    },
    {
     "data": {
      "application/vnd.jupyter.widget-view+json": {
       "model_id": "2df530d20c5e47d5811d7134dcdfe9a3",
       "version_major": 2,
       "version_minor": 0
      },
      "text/plain": [
       "  0%|          | 0/1024 [00:00<?, ?it/s]"
      ]
     },
     "metadata": {},
     "output_type": "display_data"
    },
    {
     "data": {
      "application/vnd.jupyter.widget-view+json": {
       "model_id": "f052251875be449293987c6c48f911a4",
       "version_major": 2,
       "version_minor": 0
      },
      "text/plain": [
       "  0%|          | 0/1024 [00:00<?, ?it/s]"
      ]
     },
     "metadata": {},
     "output_type": "display_data"
    },
    {
     "data": {
      "application/vnd.jupyter.widget-view+json": {
       "model_id": "7312428d0a024c5a940417a556974d97",
       "version_major": 2,
       "version_minor": 0
      },
      "text/plain": [
       "  0%|          | 0/1024 [00:00<?, ?it/s]"
      ]
     },
     "metadata": {},
     "output_type": "display_data"
    },
    {
     "data": {
      "application/vnd.jupyter.widget-view+json": {
       "model_id": "319e2734dc6f41f88c9463e533450a98",
       "version_major": 2,
       "version_minor": 0
      },
      "text/plain": [
       "  0%|          | 0/1024 [00:00<?, ?it/s]"
      ]
     },
     "metadata": {},
     "output_type": "display_data"
    },
    {
     "data": {
      "application/vnd.jupyter.widget-view+json": {
       "model_id": "8b2befb8e7df4f969f40d3e76ea007f1",
       "version_major": 2,
       "version_minor": 0
      },
      "text/plain": [
       "  0%|          | 0/1024 [00:00<?, ?it/s]"
      ]
     },
     "metadata": {},
     "output_type": "display_data"
    },
    {
     "data": {
      "application/vnd.jupyter.widget-view+json": {
       "model_id": "99978353725949e5873f47ab6778ee8f",
       "version_major": 2,
       "version_minor": 0
      },
      "text/plain": [
       "  0%|          | 0/1024 [00:00<?, ?it/s]"
      ]
     },
     "metadata": {},
     "output_type": "display_data"
    },
    {
     "data": {
      "application/vnd.jupyter.widget-view+json": {
       "model_id": "4394cdcf60bc416f99263bb0b2019605",
       "version_major": 2,
       "version_minor": 0
      },
      "text/plain": [
       "  0%|          | 0/1024 [00:00<?, ?it/s]"
      ]
     },
     "metadata": {},
     "output_type": "display_data"
    },
    {
     "data": {
      "application/vnd.jupyter.widget-view+json": {
       "model_id": "1ff325dca9da465d92446b05814564cb",
       "version_major": 2,
       "version_minor": 0
      },
      "text/plain": [
       "  0%|          | 0/1024 [00:00<?, ?it/s]"
      ]
     },
     "metadata": {},
     "output_type": "display_data"
    },
    {
     "data": {
      "application/vnd.jupyter.widget-view+json": {
       "model_id": "7333cb54d4e948b79c683d6acdda7414",
       "version_major": 2,
       "version_minor": 0
      },
      "text/plain": [
       "  0%|          | 0/1024 [00:00<?, ?it/s]"
      ]
     },
     "metadata": {},
     "output_type": "display_data"
    },
    {
     "data": {
      "application/vnd.jupyter.widget-view+json": {
       "model_id": "f67a05a9ed634161913d68d9a905e9b3",
       "version_major": 2,
       "version_minor": 0
      },
      "text/plain": [
       "  0%|          | 0/1024 [00:00<?, ?it/s]"
      ]
     },
     "metadata": {},
     "output_type": "display_data"
    }
   ],
   "source": [
    "pbar = tqdm.trange(epochs)\n",
    "last_observation = None\n",
    "\n",
    "for epoch in pbar:\n",
    "    sampler.sigma = sigma_decay(epoch).numpy()\n",
    "    \n",
    "    last_observation = play_game(\n",
    "        actor_model,\n",
    "        train_buffer,\n",
    "        train_env,\n",
    "        steps_per_play,\n",
    "        sampler, \n",
    "        last_observation\n",
    "    )\n",
    "\n",
    "    for _ in tqdm.trange(len(dataset), leave=False):\n",
    "        (current_observations, actions, rewards, next_observations, dones), _ = dataset[_]\n",
    "        \n",
    "        next_observations = tf.constant(next_observations)\n",
    "        current_observations = tf.constant(current_observations)\n",
    "        actions = tf.constant(actions)\n",
    "        \n",
    "        q_target = rewards + gamma * (1 - dones) * critic_model_target([next_observations, actor_model_target(next_observations, training=False)], training=False)\n",
    "\n",
    "        with tf.GradientTape() as tape:\n",
    "            q_current = critic_model([current_observations, actions], training=True)\n",
    "            actor_loss = keras.ops.mean(keras.ops.square(q_current - q_target))\n",
    "\n",
    "        gradients = tape.gradient(actor_loss, critic_model.trainable_weights)\n",
    "        optimizer_critic.apply(gradients)\n",
    "\n",
    "        with tf.GradientTape() as tape:\n",
    "            critic_loss = -keras.ops.mean(critic_model([current_observations, actor_model(current_observations, training=True)], training=False))\n",
    "            \n",
    "        gradients = tape.gradient(critic_loss, actor_model.trainable_weights)\n",
    "        optimizer_actor.apply(gradients)\n",
    "\n",
    "        all_loss.append((actor_loss, critic_loss))\n",
    "\n",
    "        update_weights(critic_model, critic_model_target)\n",
    "        update_weights(actor_model, actor_model_target)\n",
    "\n",
    "    val_buffer.clear()\n",
    "\n",
    "    play_game(\n",
    "        actor_model,\n",
    "        val_buffer,\n",
    "        valid_env,\n",
    "        int(1e10),\n",
    "        Sampler(0),\n",
    "        None,\n",
    "        one_episode=True\n",
    "    )\n",
    "    \n",
    "    score = val_buffer.rewards[:len(val_buffer)].sum() / valid_env.num_envs\n",
    "\n",
    "    all_rewards.append(score)\n",
    "\n",
    "    actor_model.save(f'./history/actor-model-{epoch}.keras')\n",
    "\n",
    "    pbar.set_description(f'current: {score}, max: {np.max(all_rewards)}, epoch: {np.argmax(all_rewards)}')"
   ]
  },
  {
   "cell_type": "code",
   "execution_count": 67,
   "id": "87a60c13-d1a4-4de6-bea3-e2c57eddee29",
   "metadata": {},
   "outputs": [],
   "source": [
    "def plot_split_tuples(data, title=\"Графики\", ylabel1=\"Y1\", ylabel2=\"Y2\", version: int = 1, is_pair: bool = True):\n",
    "    if is_pair:\n",
    "        y1_values = [point[0] for point in data]\n",
    "        y2_values = [point[1] for point in data]\n",
    "        x_values = list(range(len(data)))\n",
    "    \n",
    "        fig, (ax1, ax2) = plt.subplots(1, 2, figsize=(12, 5))\n",
    "    \n",
    "        ax1.plot(x_values, y1_values, marker='o', color='blue', label=ylabel1)\n",
    "        ax1.set_title(ylabel1)\n",
    "        ax1.set_xlabel(\"batches\")\n",
    "        ax1.set_ylabel(ylabel1)\n",
    "        ax1.legend()\n",
    "        ax1.grid(True)\n",
    "    \n",
    "        ax2.plot(x_values, y2_values, marker='o', color='red', label=ylabel2)\n",
    "        ax2.set_title(ylabel2)\n",
    "        ax2.set_xlabel(\"batches\")\n",
    "        ax2.set_ylabel(ylabel2)\n",
    "        ax2.legend()\n",
    "        ax2.grid(True)\n",
    "    \n",
    "        fig.suptitle(title)\n",
    "        plt.tight_layout()\n",
    "        plt.show()\n",
    "    \n",
    "        plt.savefig(f'loss-{version}.png')\n",
    "    else:\n",
    "        y_values = [point for point in data]\n",
    "        x_values = list(range(len(data)))\n",
    "    \n",
    "        fig, ax = plt.subplots(1, 1, figsize=(12, 5))\n",
    "    \n",
    "        ax.plot(x_values, y_values, marker='o', color='blue', label=ylabel1)\n",
    "        ax.set_title(ylabel1)\n",
    "        ax.set_xlabel(\"batches\")\n",
    "        ax.set_ylabel(ylabel1)\n",
    "        ax.legend()\n",
    "        ax.grid(True)\n",
    "    \n",
    "        fig.suptitle(title)\n",
    "        plt.tight_layout()\n",
    "        plt.show()\n",
    "    \n",
    "        plt.savefig(f'loss-{version}.png')"
   ]
  },
  {
   "cell_type": "code",
   "execution_count": 68,
   "id": "9692082d-b5c3-49bd-adee-3a9fb2e9e25a",
   "metadata": {},
   "outputs": [
    {
     "data": {
      "image/png": "[encoded data removed]",
      "text/plain": [
       "<Figure size 1200x500 with 2 Axes>"
      ]
     },
     "metadata": {},
     "output_type": "display_data"
    },
    {
     "data": {
      "text/plain": [
       "<Figure size 640x480 with 0 Axes>"
      ]
     },
     "metadata": {},
     "output_type": "display_data"
    }
   ],
   "source": [
    "plot_split_tuples(\n",
    "    split_loss,\n",
    "    title=\"Loss\",\n",
    "    ylabel1=\"Actor loss\",\n",
    "    ylabel2=\"Critic loss\",\n",
    "    version=2\n",
    ")"
   ]
  },
  {
   "cell_type": "code",
   "execution_count": 69,
   "id": "93fd23e4-2c15-4ab1-bf0e-f0161118a92c",
   "metadata": {},
   "outputs": [
    {
     "data": {
      "image/png": "[encoded data removed]",
      "text/plain": [
       "<Figure size 1200x500 with 1 Axes>"
      ]
     },
     "metadata": {},
     "output_type": "display_data"
    },
    {
     "data": {
      "text/plain": [
       "<Figure size 640x480 with 0 Axes>"
      ]
     },
     "metadata": {},
     "output_type": "display_data"
    }
   ],
   "source": [
    "plot_split_tuples(\n",
    "    all_rewards,\n",
    "    title=\"Rewards\",\n",
    "    ylabel1=\"Rewards\",\n",
    "    version=2,\n",
    "    is_pair=False\n",
    ")"
   ]
  },
  {
   "cell_type": "code",
   "execution_count": 64,
   "id": "2a8e7bf3-7e03-4547-a334-7840737662ae",
   "metadata": {},
   "outputs": [],
   "source": [
    "split_loss = []\n",
    "split_reward = []"
   ]
  },
  {
   "cell_type": "code",
   "execution_count": 65,
   "id": "08e4a942-8669-42f9-a551-cefe73db379a",
   "metadata": {},
   "outputs": [],
   "source": [
    "for idx in range(0, len(all_loss)):\n",
    "    if (idx + 1) % 1024 == 0:\n",
    "        split_loss.append(all_loss[idx])\n",
    "\n",
    "for idx in range(0, len(all_rewards)):\n",
    "    if (idx + 1) % 1024 == 0:\n",
    "        split_reward.append(all_rewards[idx])"
   ]
  },
  {
   "cell_type": "code",
   "execution_count": 66,
   "id": "46fa13d6-d725-4269-bf03-5ba7b00cd1e1",
   "metadata": {},
   "outputs": [
    {
     "data": {
      "text/plain": [
       "np.int64(333)"
      ]
     },
     "execution_count": 66,
     "metadata": {},
     "output_type": "execute_result"
    }
   ],
   "source": [
    "np.argmax(all_rewards)"
   ]
  },
  {
   "cell_type": "markdown",
   "id": "3bd5b44e-55cd-43bb-89dd-87c28cc10a9c",
   "metadata": {},
   "source": [
    "# Testing"
   ]
  },
  {
   "cell_type": "markdown",
   "id": "965e5731-8d24-4482-82ed-7226fb18fa5c",
   "metadata": {},
   "source": [
    "Test the model on the environment and get a cool video"
   ]
  },
  {
   "cell_type": "code",
   "execution_count": 305,
   "id": "72ec281c-d005-499a-b416-4d0e43437a0a",
   "metadata": {},
   "outputs": [],
   "source": [
    "saving_steps = 1000"
   ]
  },
  {
   "cell_type": "code",
   "execution_count": 306,
   "id": "4df86c64-5527-43fd-aaba-9fe9c3b875ef",
   "metadata": {},
   "outputs": [],
   "source": [
    "saving_env = gym.make_vec(\"BipedalWalker-v3\", hardcore=False, render_mode=\"rgb_array_list\", num_envs=1)"
   ]
  },
  {
   "cell_type": "code",
   "execution_count": 307,
   "id": "5a5d8584-9529-4144-bc52-1fe4fce40b08",
   "metadata": {},
   "outputs": [],
   "source": [
    "def save_gameplay(\n",
    "    model: tf.keras.Model,\n",
    "    max_steps: int = 1000,\n",
    "    env: gym.Env | None = None,\n",
    "):\n",
    "    save_buffer = ReplayBuffer(\n",
    "        max_size=buffer_size,\n",
    "        observation_space=train_env.single_observation_space,\n",
    "        action_space=train_env.single_action_space\n",
    "    )\n",
    "    \n",
    "    _ = play_game(\n",
    "        model=model,\n",
    "        env=env,\n",
    "        steps=max_steps,\n",
    "        buffer=save_buffer\n",
    "    )\n",
    "\n",
    "    render = env.render()\n",
    "\n",
    "    gym.utils.save_video.save_video(\n",
    "        frames=render[0],\n",
    "        video_folder=\"videos\",\n",
    "        fps=env.metadata[\"render_fps\"],\n",
    "    )\n",
    "\n",
    "    return render"
   ]
  },
  {
   "cell_type": "code",
   "execution_count": 308,
   "id": "2a3b6d14-c8b4-4caa-a904-5447f3d9aab5",
   "metadata": {},
   "outputs": [],
   "source": [
    "res = save_gameplay(actor_model, max_steps=saving_steps, env=saving_env)"
   ]
  }
 ],
 "metadata": {
  "kernelspec": {
   "display_name": "Python 3 (ipykernel)",
   "language": "python",
   "name": "python3"
  },
  "language_info": {
   "codemirror_mode": {
    "name": "ipython",
    "version": 3
   },
   "file_extension": ".py",
   "mimetype": "text/x-python",
   "name": "python",
   "nbconvert_exporter": "python",
   "pygments_lexer": "ipython3",
   "version": "3.11.11"
  }
 },
 "nbformat": 4,
 "nbformat_minor": 5
}
