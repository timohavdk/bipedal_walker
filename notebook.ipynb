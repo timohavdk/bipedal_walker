{
  "cells": [
    {
      "cell_type": "markdown",
      "id": "6edb1dbe-20ad-49d3-aabf-27a0438da7e0",
      "metadata": {
        "id": "6edb1dbe-20ad-49d3-aabf-27a0438da7e0"
      },
      "source": [
        "# Imports"
      ]
    },
    {
      "cell_type": "code",
      "execution_count": 51,
      "id": "3b1d6d12-e770-47ce-a9eb-fb93b7a2b755",
      "metadata": {
        "id": "3b1d6d12-e770-47ce-a9eb-fb93b7a2b755"
      },
      "outputs": [],
      "source": [
        "import keras\n",
        "import numpy as np\n",
        "import gymnasium as gym\n",
        "import tensorflow as tf\n",
        "import tqdm.notebook as tqdm\n",
        "import matplotlib.pyplot as plt\n",
        "import gymnasium.utils.save_video"
      ]
    },
    {
      "cell_type": "code",
      "execution_count": 2,
      "id": "011e03a4-a0ea-4ce2-9f00-e09b9b4c2e04",
      "metadata": {
        "id": "011e03a4-a0ea-4ce2-9f00-e09b9b4c2e04"
      },
      "outputs": [],
      "source": [
        "gpus = tf.config.experimental.list_physical_devices('GPU')\n",
        "if gpus:\n",
        "    try:\n",
        "        for gpu in gpus:\n",
        "              tf.config.experimental.set_memory_growth(gpu, True)\n",
        "    except RuntimeError as e:\n",
        "        print(e)"
      ]
    },
    {
      "cell_type": "code",
      "execution_count": 3,
      "id": "2c6b413b-242c-4b06-bb4f-7c22bcc3fd8d",
      "metadata": {
        "id": "2c6b413b-242c-4b06-bb4f-7c22bcc3fd8d"
      },
      "outputs": [],
      "source": [
        "rng = np.random.default_rng()"
      ]
    },
    {
      "cell_type": "code",
      "execution_count": 4,
      "id": "a5fd997c-c544-4744-8ad1-96634f9d6163",
      "metadata": {
        "id": "a5fd997c-c544-4744-8ad1-96634f9d6163"
      },
      "outputs": [],
      "source": [
        "def get_name(prefix: str | None, suffix: str | None, separator: str = '_') -> str | None:\n",
        "    return prefix and prefix + separator + suffix or suffix or None"
      ]
    },
    {
      "cell_type": "markdown",
      "id": "4e580a6f-a987-40ec-9864-2e296bdd9ba6",
      "metadata": {
        "id": "4e580a6f-a987-40ec-9864-2e296bdd9ba6"
      },
      "source": [
        "# Environment"
      ]
    },
    {
      "cell_type": "markdown",
      "id": "120abf50-431d-4c8c-bc71-e760aa7c08b4",
      "metadata": {
        "id": "120abf50-431d-4c8c-bc71-e760aa7c08b4"
      },
      "source": [
        "Create the [environment](https://gymnasium.farama.org/environments/box2d/bipedal_walker/)."
      ]
    },
    {
      "cell_type": "code",
      "source": [
        "!pip install \"gymnasium[box2d]\""
      ],
      "metadata": {
        "id": "HLXZQKqqveFk",
        "outputId": "2cd4fc1d-9e97-4139-fb3f-54a4bb8f2ad1",
        "colab": {
          "base_uri": "https://localhost:8080/"
        }
      },
      "id": "HLXZQKqqveFk",
      "execution_count": 8,
      "outputs": [
        {
          "output_type": "stream",
          "name": "stdout",
          "text": [
            "Requirement already satisfied: gymnasium[box2d] in /usr/local/lib/python3.11/dist-packages (1.1.1)\n",
            "Requirement already satisfied: numpy>=1.21.0 in /usr/local/lib/python3.11/dist-packages (from gymnasium[box2d]) (2.0.2)\n",
            "Requirement already satisfied: cloudpickle>=1.2.0 in /usr/local/lib/python3.11/dist-packages (from gymnasium[box2d]) (3.1.1)\n",
            "Requirement already satisfied: typing-extensions>=4.3.0 in /usr/local/lib/python3.11/dist-packages (from gymnasium[box2d]) (4.13.2)\n",
            "Requirement already satisfied: farama-notifications>=0.0.1 in /usr/local/lib/python3.11/dist-packages (from gymnasium[box2d]) (0.0.4)\n",
            "Collecting box2d-py==2.3.5 (from gymnasium[box2d])\n",
            "  Downloading box2d-py-2.3.5.tar.gz (374 kB)\n",
            "\u001b[2K     \u001b[90m━━━━━━━━━━━━━━━━━━━━━━━━━━━━━━━━━━━━━━━\u001b[0m \u001b[32m374.4/374.4 kB\u001b[0m \u001b[31m7.9 MB/s\u001b[0m eta \u001b[36m0:00:00\u001b[0m\n",
            "\u001b[?25h  Preparing metadata (setup.py) ... \u001b[?25l\u001b[?25hdone\n",
            "Requirement already satisfied: pygame>=2.1.3 in /usr/local/lib/python3.11/dist-packages (from gymnasium[box2d]) (2.6.1)\n",
            "Requirement already satisfied: swig==4.* in /usr/local/lib/python3.11/dist-packages (from gymnasium[box2d]) (4.3.0)\n",
            "Building wheels for collected packages: box2d-py\n",
            "  Building wheel for box2d-py (setup.py) ... \u001b[?25l\u001b[?25hdone\n",
            "  Created wheel for box2d-py: filename=box2d_py-2.3.5-cp311-cp311-linux_x86_64.whl size=2379446 sha256=822639e1995a7031504f7cd524037c824a67ce2a5662b843ca688b80f497f6d9\n",
            "  Stored in directory: /root/.cache/pip/wheels/ab/f1/0c/d56f4a2bdd12bae0a0693ec33f2f0daadb5eb9753c78fa5308\n",
            "Successfully built box2d-py\n",
            "Installing collected packages: box2d-py\n",
            "Successfully installed box2d-py-2.3.5\n"
          ]
        }
      ]
    },
    {
      "cell_type": "code",
      "execution_count": 5,
      "id": "e87a00db-a118-43c2-bbc7-a9e2a8f504e0",
      "metadata": {
        "id": "e87a00db-a118-43c2-bbc7-a9e2a8f504e0"
      },
      "outputs": [],
      "source": [
        "batch_size = 64"
      ]
    },
    {
      "cell_type": "code",
      "execution_count": 9,
      "id": "494d88e1-dad6-4cbe-ab9b-9e34805ac00d",
      "metadata": {
        "id": "494d88e1-dad6-4cbe-ab9b-9e34805ac00d"
      },
      "outputs": [],
      "source": [
        "train_env = gym.make_vec(\"BipedalWalker-v3\", hardcore=False, render_mode=\"rgb_array\", num_envs=batch_size)\n",
        "valid_env = gym.make_vec(\"BipedalWalker-v3\", hardcore=False, render_mode=\"rgb_array\", num_envs=batch_size)"
      ]
    },
    {
      "cell_type": "code",
      "execution_count": 10,
      "id": "cc5f40d1-35c9-417e-8701-667eab25adb2",
      "metadata": {
        "id": "cc5f40d1-35c9-417e-8701-667eab25adb2",
        "outputId": "a635f3f7-a100-49c9-8732-6d52f0058bc4",
        "colab": {
          "base_uri": "https://localhost:8080/"
        }
      },
      "outputs": [
        {
          "output_type": "stream",
          "name": "stdout",
          "text": [
            "Size of State Space ->  24\n",
            "Size of Action Space ->  4\n",
            "Max Value of Action ->  1.0\n",
            "Min Value of Action ->  -1.0\n"
          ]
        }
      ],
      "source": [
        "num_states = train_env.single_observation_space.shape[0]\n",
        "print(\"Size of State Space ->  {}\".format(num_states))\n",
        "num_actions = train_env.single_action_space.shape[0]\n",
        "print(\"Size of Action Space ->  {}\".format(num_actions))\n",
        "\n",
        "upper_bound = train_env.single_action_space.high[0]\n",
        "lower_bound = train_env.single_action_space.low[0]\n",
        "\n",
        "print(\"Max Value of Action ->  {}\".format(upper_bound))\n",
        "print(\"Min Value of Action ->  {}\".format(lower_bound))"
      ]
    },
    {
      "cell_type": "markdown",
      "id": "6828a718-db96-42f6-890f-265163fdedb9",
      "metadata": {
        "id": "6828a718-db96-42f6-890f-265163fdedb9"
      },
      "source": [
        "# Replay Buffer"
      ]
    },
    {
      "cell_type": "markdown",
      "id": "037a88e3-0524-4d4f-9bd5-eb035d80fece",
      "metadata": {
        "id": "037a88e3-0524-4d4f-9bd5-eb035d80fece"
      },
      "source": [
        "Create a replay buffer to hold game history"
      ]
    },
    {
      "cell_type": "code",
      "execution_count": 11,
      "id": "4a761715-1ef6-4ffd-b710-1758f292888c",
      "metadata": {
        "id": "4a761715-1ef6-4ffd-b710-1758f292888c"
      },
      "outputs": [],
      "source": [
        "class ReplayBuffer:\n",
        "\n",
        "    def __init__(self, max_size: int, observation_space: gym.spaces.Space, action_space: gym.spaces.Space, seed: int | None = 42):\n",
        "        \"\"\"Stores the replay history with a maximum of `max_size` entries, removing old entries as needed.\n",
        "\n",
        "        Parameters:\n",
        "            max_size: maximal number of entries to keep\n",
        "            observation_space: specification of the observation space\n",
        "            action_space: specification of the action space\n",
        "            seed: seed to initialize the internal random number generator for reproducibility\"\"\"\n",
        "\n",
        "        self.current_observations = np.zeros((max_size, *observation_space.shape), dtype=observation_space.dtype)\n",
        "        self.next_observations = np.zeros((max_size, *observation_space.shape), dtype=observation_space.dtype)\n",
        "        self.actions = np.zeros((max_size, *action_space.shape), dtype=action_space.dtype)\n",
        "        self.rewards = np.zeros((max_size,), dtype=np.float32)\n",
        "        self.dones = np.zeros((max_size,), dtype=np.float32)\n",
        "\n",
        "        self.max_size = max_size\n",
        "        self.rng = np.random.default_rng(seed=seed)\n",
        "        self.buffer_pointer = 0\n",
        "        self.current_size = 0\n",
        "\n",
        "    def add(self, current_observations: np.ndarray, actions: np.ndarray, rewards: np.ndarray, next_observations: np.ndarray, dones: np.ndarray) -> None:\n",
        "        \"\"\"Add a new entry to the buffer.\n",
        "\n",
        "        Parameters:\n",
        "            current_observations: environment state observed at the current step\n",
        "            actions: action taken by the model\n",
        "            rewards: reward received after taking the action\n",
        "            next_observations: environment state obversed after taking the action\n",
        "            dones: whether the episode has ended or not\"\"\"\n",
        "\n",
        "        batch_size = current_observations.shape[0]\n",
        "        idxs = (np.arange(batch_size) + self.buffer_pointer) % self.max_size\n",
        "\n",
        "        self.current_observations[idxs] = current_observations\n",
        "        self.actions[idxs] = actions\n",
        "        self.rewards[idxs] = rewards\n",
        "        self.next_observations[idxs] = next_observations\n",
        "        self.dones[idxs] = dones\n",
        "\n",
        "        self.buffer_pointer = (idxs[-1] + 1) % self.max_size\n",
        "        self.current_size = min(self.max_size, self.current_size + batch_size)\n",
        "\n",
        "    def sample(self, n_samples: int, replace: bool = True) -> tuple[np.ndarray, np.ndarray, np.ndarray, np.ndarray, np.ndarray]:\n",
        "        \"\"\"Randomly samples `n_samples` from the buffer.\n",
        "\n",
        "        Parameters:\n",
        "            n_samples: number of samples to select\n",
        "            replace: sample with or without replacement\n",
        "\n",
        "        Returns:\n",
        "            current observations, actions, rewards, next observations, dones\"\"\"\n",
        "\n",
        "        return self[self.rng.choice(self.current_size, size=n_samples, replace=replace)]\n",
        "\n",
        "    def clear(self) -> None:\n",
        "        \"\"\"Clears the buffer\"\"\"\n",
        "\n",
        "        self.buffer_pointer = 0\n",
        "        self.current_size = 0\n",
        "\n",
        "    def __getitem__(self, index: int | np.ndarray) -> tuple[np.ndarray, np.ndarray, np.ndarray, np.ndarray, np.ndarray]:\n",
        "        \"\"\"Gets a sample at `index`\n",
        "\n",
        "        Parameters:\n",
        "            index: index of the sample to get\n",
        "\n",
        "        Returns:\n",
        "            current observations, actions, rewards, next observations, dones\"\"\"\n",
        "\n",
        "        return (\n",
        "            self.current_observations[index],\n",
        "            self.actions[index],\n",
        "            self.rewards[index],\n",
        "            self.next_observations[index],\n",
        "            self.dones[index]\n",
        "        )\n",
        "\n",
        "    def __len__(self) -> int:\n",
        "        \"\"\"Returns the number of entries in the buffer\"\"\"\n",
        "\n",
        "        return self.current_size"
      ]
    },
    {
      "cell_type": "markdown",
      "id": "669485c5-5787-4ffa-82f2-58f6f0acc151",
      "metadata": {
        "id": "669485c5-5787-4ffa-82f2-58f6f0acc151"
      },
      "source": [
        "# Model"
      ]
    },
    {
      "cell_type": "markdown",
      "id": "bc62c869-195b-4323-bdb4-dd53879455c9",
      "metadata": {
        "id": "bc62c869-195b-4323-bdb4-dd53879455c9"
      },
      "source": [
        "Implement your model"
      ]
    },
    {
      "cell_type": "code",
      "execution_count": 12,
      "id": "a572a086-e9ce-4194-8809-54a8e05477d3",
      "metadata": {
        "id": "a572a086-e9ce-4194-8809-54a8e05477d3"
      },
      "outputs": [],
      "source": [
        "def get_actor(\n",
        "    observation_space: int,\n",
        "    action_space: int,\n",
        "    features: int,\n",
        "    blocks: int,\n",
        "    activation: str | keras.layers.Activation | None = 'relu',\n",
        "    name: str | None = None,\n",
        "):\n",
        "    inputs = x = keras.layers.Input((observation_space,), name=get_name(name, 'input'), dtype=tf.int32)\n",
        "\n",
        "    for i in range(blocks):\n",
        "        x = keras.layers.Dense(features, name=get_name(name, f'dense_{i}'))(x)\n",
        "        x = keras.layers.BatchNormalization(name=get_name(name, f'batch-norm_{i}'))(x)\n",
        "        x = keras.layers.Activation(activation=activation, name=get_name(name, f'activation_{i}'))(x)\n",
        "\n",
        "        features = features // 2\n",
        "\n",
        "\n",
        "    outputs = keras.layers.Dense(action_space, activation=\"tanh\", name=get_name(name, f'output'))(x)\n",
        "\n",
        "    model = keras.Model(inputs, outputs)\n",
        "\n",
        "    return model"
      ]
    },
    {
      "cell_type": "code",
      "execution_count": 13,
      "id": "bbbeb03a-b520-4c4f-a86a-fe16f0b48f39",
      "metadata": {
        "id": "bbbeb03a-b520-4c4f-a86a-fe16f0b48f39"
      },
      "outputs": [],
      "source": [
        "def get_critic(\n",
        "    observation_space: int,\n",
        "    action_space: int,\n",
        "    features: int,\n",
        "    blocks: int,\n",
        "    activation: str | keras.layers.Activation | None = 'relu',\n",
        "    name: str | None = None,\n",
        "):\n",
        "    state_input = keras.layers.Input(shape=(observation_space,), name=get_name(name, 'state_input'))\n",
        "    state_out = keras.layers.Dense(32, activation=activation, name=get_name(name, 'state_dense'))(state_input)\n",
        "\n",
        "    action_input = keras.layers.Input(shape=(action_space,), name=get_name(name, 'action_input'))\n",
        "    action_out = keras.layers.Dense(32, activation=activation, name=get_name(name, 'action_dense'))(action_input)\n",
        "\n",
        "    x = keras.layers.Concatenate(name=get_name(name, 'concat'))([state_out, action_out])\n",
        "\n",
        "    for i in range(blocks):\n",
        "        x = keras.layers.Dense(features, name=get_name(name, f'dense_{i}'))(x)\n",
        "        x = keras.layers.BatchNormalization(name=get_name(name, f'batch-norm_{i}'))(x)\n",
        "        x = keras.layers.Activation(activation=activation, name=get_name(name, f'activation_{i}'))(x)\n",
        "\n",
        "        features = features // 2\n",
        "\n",
        "    outputs = keras.layers.Dense(1, name=get_name(name, 'output'))(x)\n",
        "\n",
        "    model = keras.Model([state_input, action_input], outputs)\n",
        "\n",
        "    return model"
      ]
    },
    {
      "cell_type": "code",
      "execution_count": 14,
      "id": "6ea81201-d8f7-4533-aeaf-1d9ab808cca9",
      "metadata": {
        "id": "6ea81201-d8f7-4533-aeaf-1d9ab808cca9"
      },
      "outputs": [],
      "source": [
        "class Sampler:\n",
        "    def __init__(self, sigma: float, seed: int | None = None):\n",
        "        \"\"\"Selects a random action with probability `epsilon` otherwise selects the most probably action given by the model.\n",
        "\n",
        "        Parameters:\n",
        "            epsilon: the probability to select a random action\n",
        "            seed: seed to initialize the internal random number generator for reproducibility\"\"\"\n",
        "        self.sigma = sigma\n",
        "        self.rng = np.random.default_rng(seed=seed)\n",
        "\n",
        "    def __call__(self, actions: np.ndarray) -> np.ndarray:\n",
        "        \"\"\"Select an action given the `probabilities\n",
        "\n",
        "        Parameters:\n",
        "            probabilities: probabilities for each action\n",
        "\n",
        "        Returns:\n",
        "            index of the selected action\"\"\"\n",
        "        return np.clip(actions + self.rng.normal(scale=self.sigma, size=actions.shape), -1, 1)"
      ]
    },
    {
      "cell_type": "markdown",
      "id": "2d2cc1a3-3e45-4aac-8936-d5d45cc256f1",
      "metadata": {
        "id": "2d2cc1a3-3e45-4aac-8936-d5d45cc256f1"
      },
      "source": [
        "# Play the game"
      ]
    },
    {
      "cell_type": "markdown",
      "id": "02aa11b5-0ca1-4bfb-91a0-33a4f8922ae9",
      "metadata": {
        "id": "02aa11b5-0ca1-4bfb-91a0-33a4f8922ae9"
      },
      "source": [
        "Implement interacting with the environment and storing entries to the replay buffer"
      ]
    },
    {
      "cell_type": "code",
      "execution_count": 22,
      "id": "01c8de2b-58fb-4632-a07f-634de2e1e923",
      "metadata": {
        "id": "01c8de2b-58fb-4632-a07f-634de2e1e923"
      },
      "outputs": [],
      "source": [
        "def play_game(\n",
        "    model: keras.Model,\n",
        "    buffer: ReplayBuffer,\n",
        "    env: gym.Env,\n",
        "    steps: int,\n",
        "    sampler: Sampler,\n",
        "    observations: np.ndarray | None = None,\n",
        "    one_episode: bool = False,\n",
        ") -> np.ndarray:\n",
        "    \"\"\"Plays the environment `env` using model `model` for a total of `steps` steps.\n",
        "\n",
        "    Arguments:\n",
        "        model: model to use\n",
        "        buffer: buffer to store results to\n",
        "        env: environment to use\n",
        "        steps: total number of steps to record\n",
        "        observations: observation to start from\n",
        "        one_episode: exist as soon as one of the environments finishes\n",
        "\n",
        "    Returns:\n",
        "        the last observations\n",
        "    \"\"\"\n",
        "\n",
        "    if observations is None:\n",
        "        observations, _ = env.reset()\n",
        "\n",
        "    for _ in range(steps // env.num_envs):\n",
        "        res = model(observations, training=False).numpy()\n",
        "\n",
        "        actions = sampler(res)\n",
        "\n",
        "        new_observations, rewards, terminateds, truncated, _ = env.step(actions)\n",
        "\n",
        "        equal_observations = np.all(np.isclose(observations, new_observations), axis=1)\n",
        "\n",
        "        dones = terminateds | truncated | equal_observations\n",
        "\n",
        "        rewards = np.where(equal_observations, -100, rewards)\n",
        "\n",
        "        buffer.add(\n",
        "            current_observations=observations,\n",
        "            actions=actions,\n",
        "            rewards=rewards,\n",
        "            next_observations=new_observations,\n",
        "            dones=dones,\n",
        "        )\n",
        "\n",
        "        if one_episode and np.any(dones):\n",
        "            observations = None\n",
        "            break\n",
        "\n",
        "        observations = new_observations\n",
        "\n",
        "    return observations"
      ]
    },
    {
      "cell_type": "markdown",
      "id": "a59610fe-2753-4b77-9f1c-4a92771a7a26",
      "metadata": {
        "id": "a59610fe-2753-4b77-9f1c-4a92771a7a26"
      },
      "source": [
        "# QDataset"
      ]
    },
    {
      "cell_type": "code",
      "execution_count": 16,
      "id": "7db6f6a1-7d20-4525-a81f-f2b43a547f8f",
      "metadata": {
        "id": "7db6f6a1-7d20-4525-a81f-f2b43a547f8f"
      },
      "outputs": [],
      "source": [
        "class QDataset(keras.utils.PyDataset):\n",
        "    def __init__(\n",
        "        self,\n",
        "        steps_per_epoch: int,\n",
        "        batch_size: int,\n",
        "        buffer: ReplayBuffer,\n",
        "    ):\n",
        "        super().__init__()\n",
        "        self.buffer = buffer\n",
        "        self.batch_size = batch_size\n",
        "        self.steps_per_epoch = steps_per_epoch\n",
        "\n",
        "        self._answer = np.zeros((batch_size, num_actions), dtype=np.float32)\n",
        "\n",
        "    def __len__(self):\n",
        "        return self.steps_per_epoch\n",
        "\n",
        "    def __getitem__(self, idx: int) -> np.ndarray:\n",
        "        return self.buffer.sample(self.batch_size), self._answer"
      ]
    },
    {
      "cell_type": "markdown",
      "id": "78458a1f-054a-463a-934f-ac3f669c0e27",
      "metadata": {
        "id": "78458a1f-054a-463a-934f-ac3f669c0e27"
      },
      "source": [
        "# Training"
      ]
    },
    {
      "cell_type": "markdown",
      "id": "3fb0aaa7-6ae5-45dc-9c52-04c474ec3ecc",
      "metadata": {
        "id": "3fb0aaa7-6ae5-45dc-9c52-04c474ec3ecc"
      },
      "source": [
        "Create models, replay buffers, optimizer, epsilon decay etc. Implement training loop, show training progress and perform model evaluation once in a while"
      ]
    },
    {
      "cell_type": "code",
      "execution_count": 17,
      "id": "139138b8-f63c-4a2f-8793-4f96d25a353a",
      "metadata": {
        "id": "139138b8-f63c-4a2f-8793-4f96d25a353a"
      },
      "outputs": [],
      "source": [
        "def update_weights(model: keras.Model, target_model: keras.Model):\n",
        "    target_model.set_weights(\n",
        "        [\n",
        "            rho * target_w + (1 - rho) * w for w,\n",
        "            target_w in zip(\n",
        "                model.get_weights(),\n",
        "                target_model.get_weights()\n",
        "            )\n",
        "        ]\n",
        "    )"
      ]
    },
    {
      "cell_type": "code",
      "source": [
        "1e10"
      ],
      "metadata": {
        "id": "yQFtxE5o9qga",
        "outputId": "a529652e-d56d-41c1-f0da-8c9f5f32515b",
        "colab": {
          "base_uri": "https://localhost:8080/"
        }
      },
      "id": "yQFtxE5o9qga",
      "execution_count": 50,
      "outputs": [
        {
          "output_type": "execute_result",
          "data": {
            "text/plain": [
              "10000000000.0"
            ]
          },
          "metadata": {},
          "execution_count": 50
        }
      ]
    },
    {
      "cell_type": "code",
      "execution_count": 18,
      "id": "41cd9f10-828c-4a93-be0e-3c2bbf40536c",
      "metadata": {
        "id": "41cd9f10-828c-4a93-be0e-3c2bbf40536c"
      },
      "outputs": [],
      "source": [
        "buffer_size = 2 ** 19     # 32_768\n",
        "steps_per_play = 2 ** 17  # 2048\n",
        "steps_per_epoch = 2 ** 10 # 1024\n",
        "batch_size = 64\n",
        "\n",
        "end_sigma = 0.1\n",
        "epochs = 128\n",
        "decay_epochs = epochs // 2\n",
        "\n",
        "gamma = 0.99\n",
        "rho = 0.9"
      ]
    },
    {
      "cell_type": "code",
      "execution_count": 19,
      "id": "03e527a9-957c-4747-942c-2a3743849aac",
      "metadata": {
        "id": "03e527a9-957c-4747-942c-2a3743849aac"
      },
      "outputs": [],
      "source": [
        "sigma = 1 / 3\n",
        "sampler = Sampler(sigma)"
      ]
    },
    {
      "cell_type": "code",
      "execution_count": 20,
      "id": "628e7a4d-b1ca-440c-9532-907c42e111b6",
      "metadata": {
        "id": "628e7a4d-b1ca-440c-9532-907c42e111b6"
      },
      "outputs": [],
      "source": [
        "sigma_decay = keras.optimizers.schedules.PolynomialDecay(sigma, decay_epochs, end_learning_rate=end_sigma)"
      ]
    },
    {
      "cell_type": "code",
      "execution_count": 21,
      "id": "1fa61cf5-0ec2-4152-9ef4-7f54db57d69f",
      "metadata": {
        "id": "1fa61cf5-0ec2-4152-9ef4-7f54db57d69f"
      },
      "outputs": [],
      "source": [
        "features = 512\n",
        "blocks = 5"
      ]
    },
    {
      "cell_type": "code",
      "execution_count": null,
      "id": "77406d6b-73c8-4097-8901-2e4b9585d282",
      "metadata": {
        "id": "77406d6b-73c8-4097-8901-2e4b9585d282"
      },
      "outputs": [],
      "source": [
        "actor_model = get_actor(\n",
        "    observation_space=valid_env.single_observation_space.shape[0],\n",
        "    action_space=valid_env.single_action_space.shape[0],\n",
        "    features=features,\n",
        "    blocks=blocks,\n",
        "    activation='leaky_relu',\n",
        "    name='actor',\n",
        ")\n",
        "\n",
        "critic_model = get_critic(\n",
        "    observation_space=valid_env.single_observation_space.shape[0],\n",
        "    action_space=valid_env.single_action_space.shape[0],\n",
        "    features=features,\n",
        "    blocks=blocks,\n",
        "    activation='leaky_relu',\n",
        "    name='critic',\n",
        ")\n",
        "\n",
        "actor_model_target = get_actor(\n",
        "    observation_space=valid_env.single_observation_space.shape[0],\n",
        "    action_space=valid_env.single_action_space.shape[0],\n",
        "    features=features,\n",
        "    blocks=blocks,\n",
        "    activation='leaky_relu',\n",
        "    name='actor',\n",
        ")\n",
        "\n",
        "critic_model_target = get_critic(\n",
        "    observation_space=valid_env.single_observation_space.shape[0],\n",
        "    action_space=valid_env.single_action_space.shape[0],\n",
        "    features=features,\n",
        "    blocks=blocks,\n",
        "    activation='leaky_relu',\n",
        "    name='critic',\n",
        ")\n",
        "\n",
        "actor_model_target.set_weights(actor_model.get_weights())\n",
        "critic_model_target.set_weights(critic_model.get_weights())"
      ]
    },
    {
      "cell_type": "code",
      "execution_count": null,
      "id": "32db510e-75f5-4843-9811-dd5440685c79",
      "metadata": {
        "id": "32db510e-75f5-4843-9811-dd5440685c79"
      },
      "outputs": [],
      "source": [
        "critic_lr = 1e-4\n",
        "actor_lr = 1e-5\n",
        "\n",
        "optimizer_critic = keras.optimizers.AdamW(critic_lr, clipnorm=1.0)\n",
        "optimizer_actor = keras.optimizers.AdamW(actor_lr, clipnorm=1.0)\n",
        "\n",
        "optimizer_critic.build(critic_model.trainable_weights)\n",
        "optimizer_actor.build(actor_model.trainable_weights)"
      ]
    },
    {
      "cell_type": "code",
      "execution_count": null,
      "id": "f3888e43-947b-4b75-9eaa-963f2a262a79",
      "metadata": {
        "id": "f3888e43-947b-4b75-9eaa-963f2a262a79"
      },
      "outputs": [],
      "source": [
        "train_buffer = ReplayBuffer(\n",
        "    max_size=buffer_size,\n",
        "    observation_space=train_env.single_observation_space,\n",
        "    action_space=train_env.single_action_space\n",
        ")\n",
        "\n",
        "val_buffer = ReplayBuffer(\n",
        "    max_size=buffer_size,\n",
        "    observation_space=train_env.single_observation_space,\n",
        "    action_space=train_env.single_action_space\n",
        ")"
      ]
    },
    {
      "cell_type": "code",
      "execution_count": null,
      "id": "4fe8d94b-d804-482b-a348-a699a0fa7a6c",
      "metadata": {
        "id": "4fe8d94b-d804-482b-a348-a699a0fa7a6c"
      },
      "outputs": [],
      "source": [
        "dataset = QDataset(\n",
        "    steps_per_epoch=steps_per_epoch,\n",
        "    batch_size=train_env.num_envs,\n",
        "    buffer=train_buffer,\n",
        ")"
      ]
    },
    {
      "cell_type": "code",
      "execution_count": null,
      "id": "7659e162-9faa-4f1b-b337-fb8ebf0c8b56",
      "metadata": {
        "id": "7659e162-9faa-4f1b-b337-fb8ebf0c8b56"
      },
      "outputs": [],
      "source": [
        "all_loss = []\n",
        "all_rewards = []"
      ]
    },
    {
      "cell_type": "code",
      "execution_count": null,
      "id": "def743e3-7c06-4130-8995-671833fe41d2",
      "metadata": {
        "id": "def743e3-7c06-4130-8995-671833fe41d2",
        "outputId": "4583178d-90ee-4e2f-c79d-9d76576a7b15",
        "colab": {
          "referenced_widgets": [
            "f973842158244e448895c65f5681d805",
            "bd527fa82f1c407dbb1a520c62595a4f",
            "a81ec19cf48647eab90ead5c1d516073",
            "51eee95255ce43418021af40c541c191",
            "83a36e4ac2a54b5aadf9c0142fe9aee5",
            "fae5581d4f2b4d14a08a862680d8c8bc",
            "887a38da3dae4aad8e358be1d8265403",
            "4acf6647e37b43be9d4c8f130d50ec11",
            "3dde35c4f6664b6788629ddea2e0f966",
            "9f335d27cab54e07a102d39fd435cb51",
            "34d40b3ab9f84a59aa26deba6527f78a",
            "ae0bba06cf0c47c8ab4a01732abe1add",
            "5929a063e47d4fc2bdf065e411678aad",
            "42ba539cf1824fb58dddd40f389aedde",
            "ea1b7c7f108846cbacecc84f96bfe298",
            "90bdc249afbd4e17af73746073b67340",
            "9ca24f403a18467e83bdadc298b62893",
            "7cc69adb2a2e404681d3a004c6c4e809",
            "765c1a4b41d64b16bc43aaf9013ed133",
            "4c60ed3300f34cc5ba1bf8d8c799225f",
            "d6a55bc626814b6c9af13735aa487cac",
            "dc1fe51540784fffa915837b504e4408",
            "ff961e73fcec420caa1a8bb26e7ec5ea",
            "9696f7e0c7ab4a8eb078fd06a6420801",
            "5c97d25777494f4fb97401137960aa7a",
            "955f66b238cd45dc916ae572962994fb",
            "b85f2ece84fd4be48e578a9348d405c7",
            "ece2d3ca789946c2be7898876f938d62",
            "e694f8b9bcf84888ad662b69066e5fc8",
            "e60d252a587f453caca39b41ed1a3ba1",
            "5e500669f8414fb58f8a99fc07b2ba3a",
            "9450909e53844af98c695fbf9804682f",
            "9b31643ecbb84a8a8182ad4f47e7fd94",
            "5da8161720ef4b90848d4e8d05d8774d",
            "200e58be40144ea483875e0841a6d0ff",
            "13d8db8cb4d84f918690e8e2acc9002b",
            "2aa0cecd156a4729a7edc7a1341aaa2f",
            "25faa0a090644331bc892f12de3aeeb6",
            "ea7368846e114e12955ad82dab7a363c",
            "4404dc75ef3e4aab85da6d655b2f914f",
            "e35f0a6cb88f4822b59b0b7ca86710f7",
            "21ce7a6efdb9446fabfc1489e1e5c075",
            "a27835a4cfae43ada18a8d80e5d58275",
            "61253d41228f4f75b6d4f8ba286c3697",
            "29b5a49e587a42349dac41938eee8775",
            "bf34858f2723404ab925697c6e04f9e4",
            "70e0139dea77475c9aad693d841d4002",
            "9638ef26cefe4f22b51c7360bd4f3bea",
            "27bc5f33356a481b8df5e258f9a37c40",
            "073d7720c7bc4a5c9848504686d0591a",
            "ddcbb8fe9a2042b59063a8321c863f16",
            "cadb54b7e27e4ab2a8df72aeac45f776",
            "bfb6e50df6654d9d9aea4e27e8e8bf6c",
            "649f2de5cbdc4900ad565a5eb90c65a7",
            "0a0779752f8b4d838a6a61cabf6c076e",
            "7a0c6e39fe3144a4b333c27332dcdce3",
            "50c1bbbdfd214d2ebde55592b316590b",
            "766ae398c33c4a9ab73395e4ff609294",
            "332e3edb8c1c4a54a26eace3f24dfefa",
            "d1d13cdf81044ea39c94eeddc1322298",
            "739f684922414b44ae8e929fde6d369d",
            "f9edd7148461432698f0c6ef44411ea6",
            "0445a90c98694634a235f8457f82d939",
            "d87a29dd169d4ba8974a6b90dfd0c5f2",
            "3f4c9c9a1ca748fe82c007881a85b189",
            "4e4205189352481794a2843cd7788672",
            "423b0d034c2c4137a5495bd28848c91d",
            "bbf26da3ed6f4122b1c48f21ff4f0ff2",
            "f500abe6b20c4711ae91ca9425c2a033",
            "454eef2d804d40808e1f22ce209cbd34",
            "f57481bea9ba48a9af19da0a0252637d",
            "cca7c052be4c4436aff2e279310b528e",
            "a6d1ae1d3f434171a15d3f3e1abf4d2d",
            "1cfc178f16be4cbc9e6bd7fd4a5d9342",
            "6417cbd50d06406aa2b82b5e3e7f7686",
            "7ae7a5ab99844ee3afd8fde0bfd2e48e",
            "2df530d20c5e47d5811d7134dcdfe9a3",
            "f052251875be449293987c6c48f911a4",
            "7312428d0a024c5a940417a556974d97",
            "319e2734dc6f41f88c9463e533450a98",
            "8b2befb8e7df4f969f40d3e76ea007f1",
            "99978353725949e5873f47ab6778ee8f",
            "4394cdcf60bc416f99263bb0b2019605",
            "1ff325dca9da465d92446b05814564cb",
            "7333cb54d4e948b79c683d6acdda7414",
            "f67a05a9ed634161913d68d9a905e9b3",
            "274420eda1eb41a39cbd528dd26ee58b"
          ]
        }
      },
      "outputs": [
        {
          "data": {
            "application/vnd.jupyter.widget-view+json": {
              "model_id": "f973842158244e448895c65f5681d805",
              "version_major": 2,
              "version_minor": 0
            },
            "text/plain": [
              "  0%|          | 0/128 [00:00<?, ?it/s]"
            ]
          },
          "metadata": {},
          "output_type": "display_data"
        },
        {
          "data": {
            "application/vnd.jupyter.widget-view+json": {
              "model_id": "bd527fa82f1c407dbb1a520c62595a4f",
              "version_major": 2,
              "version_minor": 0
            },
            "text/plain": [
              "  0%|          | 0/1024 [00:00<?, ?it/s]"
            ]
          },
          "metadata": {},
          "output_type": "display_data"
        },
        {
          "data": {
            "application/vnd.jupyter.widget-view+json": {
              "model_id": "a81ec19cf48647eab90ead5c1d516073",
              "version_major": 2,
              "version_minor": 0
            },
            "text/plain": [
              "  0%|          | 0/1024 [00:00<?, ?it/s]"
            ]
          },
          "metadata": {},
          "output_type": "display_data"
        },
        {
          "data": {
            "application/vnd.jupyter.widget-view+json": {
              "model_id": "51eee95255ce43418021af40c541c191",
              "version_major": 2,
              "version_minor": 0
            },
            "text/plain": [
              "  0%|          | 0/1024 [00:00<?, ?it/s]"
            ]
          },
          "metadata": {},
          "output_type": "display_data"
        },
        {
          "data": {
            "application/vnd.jupyter.widget-view+json": {
              "model_id": "83a36e4ac2a54b5aadf9c0142fe9aee5",
              "version_major": 2,
              "version_minor": 0
            },
            "text/plain": [
              "  0%|          | 0/1024 [00:00<?, ?it/s]"
            ]
          },
          "metadata": {},
          "output_type": "display_data"
        },
        {
          "data": {
            "application/vnd.jupyter.widget-view+json": {
              "model_id": "fae5581d4f2b4d14a08a862680d8c8bc",
              "version_major": 2,
              "version_minor": 0
            },
            "text/plain": [
              "  0%|          | 0/1024 [00:00<?, ?it/s]"
            ]
          },
          "metadata": {},
          "output_type": "display_data"
        },
        {
          "data": {
            "application/vnd.jupyter.widget-view+json": {
              "model_id": "887a38da3dae4aad8e358be1d8265403",
              "version_major": 2,
              "version_minor": 0
            },
            "text/plain": [
              "  0%|          | 0/1024 [00:00<?, ?it/s]"
            ]
          },
          "metadata": {},
          "output_type": "display_data"
        },
        {
          "data": {
            "application/vnd.jupyter.widget-view+json": {
              "model_id": "4acf6647e37b43be9d4c8f130d50ec11",
              "version_major": 2,
              "version_minor": 0
            },
            "text/plain": [
              "  0%|          | 0/1024 [00:00<?, ?it/s]"
            ]
          },
          "metadata": {},
          "output_type": "display_data"
        },
        {
          "data": {
            "application/vnd.jupyter.widget-view+json": {
              "model_id": "3dde35c4f6664b6788629ddea2e0f966",
              "version_major": 2,
              "version_minor": 0
            },
            "text/plain": [
              "  0%|          | 0/1024 [00:00<?, ?it/s]"
            ]
          },
          "metadata": {},
          "output_type": "display_data"
        },
        {
          "data": {
            "application/vnd.jupyter.widget-view+json": {
              "model_id": "9f335d27cab54e07a102d39fd435cb51",
              "version_major": 2,
              "version_minor": 0
            },
            "text/plain": [
              "  0%|          | 0/1024 [00:00<?, ?it/s]"
            ]
          },
          "metadata": {},
          "output_type": "display_data"
        },
        {
          "data": {
            "application/vnd.jupyter.widget-view+json": {
              "model_id": "34d40b3ab9f84a59aa26deba6527f78a",
              "version_major": 2,
              "version_minor": 0
            },
            "text/plain": [
              "  0%|          | 0/1024 [00:00<?, ?it/s]"
            ]
          },
          "metadata": {},
          "output_type": "display_data"
        },
        {
          "data": {
            "application/vnd.jupyter.widget-view+json": {
              "model_id": "ae0bba06cf0c47c8ab4a01732abe1add",
              "version_major": 2,
              "version_minor": 0
            },
            "text/plain": [
              "  0%|          | 0/1024 [00:00<?, ?it/s]"
            ]
          },
          "metadata": {},
          "output_type": "display_data"
        },
        {
          "data": {
            "application/vnd.jupyter.widget-view+json": {
              "model_id": "5929a063e47d4fc2bdf065e411678aad",
              "version_major": 2,
              "version_minor": 0
            },
            "text/plain": [
              "  0%|          | 0/1024 [00:00<?, ?it/s]"
            ]
          },
          "metadata": {},
          "output_type": "display_data"
        },
        {
          "data": {
            "application/vnd.jupyter.widget-view+json": {
              "model_id": "42ba539cf1824fb58dddd40f389aedde",
              "version_major": 2,
              "version_minor": 0
            },
            "text/plain": [
              "  0%|          | 0/1024 [00:00<?, ?it/s]"
            ]
          },
          "metadata": {},
          "output_type": "display_data"
        },
        {
          "data": {
            "application/vnd.jupyter.widget-view+json": {
              "model_id": "ea1b7c7f108846cbacecc84f96bfe298",
              "version_major": 2,
              "version_minor": 0
            },
            "text/plain": [
              "  0%|          | 0/1024 [00:00<?, ?it/s]"
            ]
          },
          "metadata": {},
          "output_type": "display_data"
        },
        {
          "data": {
            "application/vnd.jupyter.widget-view+json": {
              "model_id": "90bdc249afbd4e17af73746073b67340",
              "version_major": 2,
              "version_minor": 0
            },
            "text/plain": [
              "  0%|          | 0/1024 [00:00<?, ?it/s]"
            ]
          },
          "metadata": {},
          "output_type": "display_data"
        },
        {
          "data": {
            "application/vnd.jupyter.widget-view+json": {
              "model_id": "9ca24f403a18467e83bdadc298b62893",
              "version_major": 2,
              "version_minor": 0
            },
            "text/plain": [
              "  0%|          | 0/1024 [00:00<?, ?it/s]"
            ]
          },
          "metadata": {},
          "output_type": "display_data"
        },
        {
          "data": {
            "application/vnd.jupyter.widget-view+json": {
              "model_id": "7cc69adb2a2e404681d3a004c6c4e809",
              "version_major": 2,
              "version_minor": 0
            },
            "text/plain": [
              "  0%|          | 0/1024 [00:00<?, ?it/s]"
            ]
          },
          "metadata": {},
          "output_type": "display_data"
        },
        {
          "data": {
            "application/vnd.jupyter.widget-view+json": {
              "model_id": "765c1a4b41d64b16bc43aaf9013ed133",
              "version_major": 2,
              "version_minor": 0
            },
            "text/plain": [
              "  0%|          | 0/1024 [00:00<?, ?it/s]"
            ]
          },
          "metadata": {},
          "output_type": "display_data"
        },
        {
          "data": {
            "application/vnd.jupyter.widget-view+json": {
              "model_id": "4c60ed3300f34cc5ba1bf8d8c799225f",
              "version_major": 2,
              "version_minor": 0
            },
            "text/plain": [
              "  0%|          | 0/1024 [00:00<?, ?it/s]"
            ]
          },
          "metadata": {},
          "output_type": "display_data"
        },
        {
          "data": {
            "application/vnd.jupyter.widget-view+json": {
              "model_id": "d6a55bc626814b6c9af13735aa487cac",
              "version_major": 2,
              "version_minor": 0
            },
            "text/plain": [
              "  0%|          | 0/1024 [00:00<?, ?it/s]"
            ]
          },
          "metadata": {},
          "output_type": "display_data"
        },
        {
          "data": {
            "application/vnd.jupyter.widget-view+json": {
              "model_id": "dc1fe51540784fffa915837b504e4408",
              "version_major": 2,
              "version_minor": 0
            },
            "text/plain": [
              "  0%|          | 0/1024 [00:00<?, ?it/s]"
            ]
          },
          "metadata": {},
          "output_type": "display_data"
        },
        {
          "data": {
            "application/vnd.jupyter.widget-view+json": {
              "model_id": "ff961e73fcec420caa1a8bb26e7ec5ea",
              "version_major": 2,
              "version_minor": 0
            },
            "text/plain": [
              "  0%|          | 0/1024 [00:00<?, ?it/s]"
            ]
          },
          "metadata": {},
          "output_type": "display_data"
        },
        {
          "data": {
            "application/vnd.jupyter.widget-view+json": {
              "model_id": "9696f7e0c7ab4a8eb078fd06a6420801",
              "version_major": 2,
              "version_minor": 0
            },
            "text/plain": [
              "  0%|          | 0/1024 [00:00<?, ?it/s]"
            ]
          },
          "metadata": {},
          "output_type": "display_data"
        },
        {
          "data": {
            "application/vnd.jupyter.widget-view+json": {
              "model_id": "5c97d25777494f4fb97401137960aa7a",
              "version_major": 2,
              "version_minor": 0
            },
            "text/plain": [
              "  0%|          | 0/1024 [00:00<?, ?it/s]"
            ]
          },
          "metadata": {},
          "output_type": "display_data"
        },
        {
          "data": {
            "application/vnd.jupyter.widget-view+json": {
              "model_id": "955f66b238cd45dc916ae572962994fb",
              "version_major": 2,
              "version_minor": 0
            },
            "text/plain": [
              "  0%|          | 0/1024 [00:00<?, ?it/s]"
            ]
          },
          "metadata": {},
          "output_type": "display_data"
        },
        {
          "data": {
            "application/vnd.jupyter.widget-view+json": {
              "model_id": "b85f2ece84fd4be48e578a9348d405c7",
              "version_major": 2,
              "version_minor": 0
            },
            "text/plain": [
              "  0%|          | 0/1024 [00:00<?, ?it/s]"
            ]
          },
          "metadata": {},
          "output_type": "display_data"
        },
        {
          "data": {
            "application/vnd.jupyter.widget-view+json": {
              "model_id": "ece2d3ca789946c2be7898876f938d62",
              "version_major": 2,
              "version_minor": 0
            },
            "text/plain": [
              "  0%|          | 0/1024 [00:00<?, ?it/s]"
            ]
          },
          "metadata": {},
          "output_type": "display_data"
        },
        {
          "data": {
            "application/vnd.jupyter.widget-view+json": {
              "model_id": "e694f8b9bcf84888ad662b69066e5fc8",
              "version_major": 2,
              "version_minor": 0
            },
            "text/plain": [
              "  0%|          | 0/1024 [00:00<?, ?it/s]"
            ]
          },
          "metadata": {},
          "output_type": "display_data"
        },
        {
          "data": {
            "application/vnd.jupyter.widget-view+json": {
              "model_id": "e60d252a587f453caca39b41ed1a3ba1",
              "version_major": 2,
              "version_minor": 0
            },
            "text/plain": [
              "  0%|          | 0/1024 [00:00<?, ?it/s]"
            ]
          },
          "metadata": {},
          "output_type": "display_data"
        },
        {
          "data": {
            "application/vnd.jupyter.widget-view+json": {
              "model_id": "5e500669f8414fb58f8a99fc07b2ba3a",
              "version_major": 2,
              "version_minor": 0
            },
            "text/plain": [
              "  0%|          | 0/1024 [00:00<?, ?it/s]"
            ]
          },
          "metadata": {},
          "output_type": "display_data"
        },
        {
          "data": {
            "application/vnd.jupyter.widget-view+json": {
              "model_id": "9450909e53844af98c695fbf9804682f",
              "version_major": 2,
              "version_minor": 0
            },
            "text/plain": [
              "  0%|          | 0/1024 [00:00<?, ?it/s]"
            ]
          },
          "metadata": {},
          "output_type": "display_data"
        },
        {
          "data": {
            "application/vnd.jupyter.widget-view+json": {
              "model_id": "9b31643ecbb84a8a8182ad4f47e7fd94",
              "version_major": 2,
              "version_minor": 0
            },
            "text/plain": [
              "  0%|          | 0/1024 [00:00<?, ?it/s]"
            ]
          },
          "metadata": {},
          "output_type": "display_data"
        },
        {
          "data": {
            "application/vnd.jupyter.widget-view+json": {
              "model_id": "5da8161720ef4b90848d4e8d05d8774d",
              "version_major": 2,
              "version_minor": 0
            },
            "text/plain": [
              "  0%|          | 0/1024 [00:00<?, ?it/s]"
            ]
          },
          "metadata": {},
          "output_type": "display_data"
        },
        {
          "data": {
            "application/vnd.jupyter.widget-view+json": {
              "model_id": "200e58be40144ea483875e0841a6d0ff",
              "version_major": 2,
              "version_minor": 0
            },
            "text/plain": [
              "  0%|          | 0/1024 [00:00<?, ?it/s]"
            ]
          },
          "metadata": {},
          "output_type": "display_data"
        },
        {
          "data": {
            "application/vnd.jupyter.widget-view+json": {
              "model_id": "13d8db8cb4d84f918690e8e2acc9002b",
              "version_major": 2,
              "version_minor": 0
            },
            "text/plain": [
              "  0%|          | 0/1024 [00:00<?, ?it/s]"
            ]
          },
          "metadata": {},
          "output_type": "display_data"
        },
        {
          "data": {
            "application/vnd.jupyter.widget-view+json": {
              "model_id": "2aa0cecd156a4729a7edc7a1341aaa2f",
              "version_major": 2,
              "version_minor": 0
            },
            "text/plain": [
              "  0%|          | 0/1024 [00:00<?, ?it/s]"
            ]
          },
          "metadata": {},
          "output_type": "display_data"
        },
        {
          "data": {
            "application/vnd.jupyter.widget-view+json": {
              "model_id": "25faa0a090644331bc892f12de3aeeb6",
              "version_major": 2,
              "version_minor": 0
            },
            "text/plain": [
              "  0%|          | 0/1024 [00:00<?, ?it/s]"
            ]
          },
          "metadata": {},
          "output_type": "display_data"
        },
        {
          "data": {
            "application/vnd.jupyter.widget-view+json": {
              "model_id": "ea7368846e114e12955ad82dab7a363c",
              "version_major": 2,
              "version_minor": 0
            },
            "text/plain": [
              "  0%|          | 0/1024 [00:00<?, ?it/s]"
            ]
          },
          "metadata": {},
          "output_type": "display_data"
        },
        {
          "data": {
            "application/vnd.jupyter.widget-view+json": {
              "model_id": "4404dc75ef3e4aab85da6d655b2f914f",
              "version_major": 2,
              "version_minor": 0
            },
            "text/plain": [
              "  0%|          | 0/1024 [00:00<?, ?it/s]"
            ]
          },
          "metadata": {},
          "output_type": "display_data"
        },
        {
          "data": {
            "application/vnd.jupyter.widget-view+json": {
              "model_id": "e35f0a6cb88f4822b59b0b7ca86710f7",
              "version_major": 2,
              "version_minor": 0
            },
            "text/plain": [
              "  0%|          | 0/1024 [00:00<?, ?it/s]"
            ]
          },
          "metadata": {},
          "output_type": "display_data"
        },
        {
          "data": {
            "application/vnd.jupyter.widget-view+json": {
              "model_id": "21ce7a6efdb9446fabfc1489e1e5c075",
              "version_major": 2,
              "version_minor": 0
            },
            "text/plain": [
              "  0%|          | 0/1024 [00:00<?, ?it/s]"
            ]
          },
          "metadata": {},
          "output_type": "display_data"
        },
        {
          "data": {
            "application/vnd.jupyter.widget-view+json": {
              "model_id": "a27835a4cfae43ada18a8d80e5d58275",
              "version_major": 2,
              "version_minor": 0
            },
            "text/plain": [
              "  0%|          | 0/1024 [00:00<?, ?it/s]"
            ]
          },
          "metadata": {},
          "output_type": "display_data"
        },
        {
          "data": {
            "application/vnd.jupyter.widget-view+json": {
              "model_id": "61253d41228f4f75b6d4f8ba286c3697",
              "version_major": 2,
              "version_minor": 0
            },
            "text/plain": [
              "  0%|          | 0/1024 [00:00<?, ?it/s]"
            ]
          },
          "metadata": {},
          "output_type": "display_data"
        },
        {
          "data": {
            "application/vnd.jupyter.widget-view+json": {
              "model_id": "29b5a49e587a42349dac41938eee8775",
              "version_major": 2,
              "version_minor": 0
            },
            "text/plain": [
              "  0%|          | 0/1024 [00:00<?, ?it/s]"
            ]
          },
          "metadata": {},
          "output_type": "display_data"
        },
        {
          "data": {
            "application/vnd.jupyter.widget-view+json": {
              "model_id": "bf34858f2723404ab925697c6e04f9e4",
              "version_major": 2,
              "version_minor": 0
            },
            "text/plain": [
              "  0%|          | 0/1024 [00:00<?, ?it/s]"
            ]
          },
          "metadata": {},
          "output_type": "display_data"
        },
        {
          "data": {
            "application/vnd.jupyter.widget-view+json": {
              "model_id": "70e0139dea77475c9aad693d841d4002",
              "version_major": 2,
              "version_minor": 0
            },
            "text/plain": [
              "  0%|          | 0/1024 [00:00<?, ?it/s]"
            ]
          },
          "metadata": {},
          "output_type": "display_data"
        },
        {
          "data": {
            "application/vnd.jupyter.widget-view+json": {
              "model_id": "9638ef26cefe4f22b51c7360bd4f3bea",
              "version_major": 2,
              "version_minor": 0
            },
            "text/plain": [
              "  0%|          | 0/1024 [00:00<?, ?it/s]"
            ]
          },
          "metadata": {},
          "output_type": "display_data"
        },
        {
          "data": {
            "application/vnd.jupyter.widget-view+json": {
              "model_id": "27bc5f33356a481b8df5e258f9a37c40",
              "version_major": 2,
              "version_minor": 0
            },
            "text/plain": [
              "  0%|          | 0/1024 [00:00<?, ?it/s]"
            ]
          },
          "metadata": {},
          "output_type": "display_data"
        },
        {
          "data": {
            "application/vnd.jupyter.widget-view+json": {
              "model_id": "073d7720c7bc4a5c9848504686d0591a",
              "version_major": 2,
              "version_minor": 0
            },
            "text/plain": [
              "  0%|          | 0/1024 [00:00<?, ?it/s]"
            ]
          },
          "metadata": {},
          "output_type": "display_data"
        },
        {
          "data": {
            "application/vnd.jupyter.widget-view+json": {
              "model_id": "ddcbb8fe9a2042b59063a8321c863f16",
              "version_major": 2,
              "version_minor": 0
            },
            "text/plain": [
              "  0%|          | 0/1024 [00:00<?, ?it/s]"
            ]
          },
          "metadata": {},
          "output_type": "display_data"
        },
        {
          "data": {
            "application/vnd.jupyter.widget-view+json": {
              "model_id": "cadb54b7e27e4ab2a8df72aeac45f776",
              "version_major": 2,
              "version_minor": 0
            },
            "text/plain": [
              "  0%|          | 0/1024 [00:00<?, ?it/s]"
            ]
          },
          "metadata": {},
          "output_type": "display_data"
        },
        {
          "data": {
            "application/vnd.jupyter.widget-view+json": {
              "model_id": "bfb6e50df6654d9d9aea4e27e8e8bf6c",
              "version_major": 2,
              "version_minor": 0
            },
            "text/plain": [
              "  0%|          | 0/1024 [00:00<?, ?it/s]"
            ]
          },
          "metadata": {},
          "output_type": "display_data"
        },
        {
          "data": {
            "application/vnd.jupyter.widget-view+json": {
              "model_id": "649f2de5cbdc4900ad565a5eb90c65a7",
              "version_major": 2,
              "version_minor": 0
            },
            "text/plain": [
              "  0%|          | 0/1024 [00:00<?, ?it/s]"
            ]
          },
          "metadata": {},
          "output_type": "display_data"
        },
        {
          "data": {
            "application/vnd.jupyter.widget-view+json": {
              "model_id": "0a0779752f8b4d838a6a61cabf6c076e",
              "version_major": 2,
              "version_minor": 0
            },
            "text/plain": [
              "  0%|          | 0/1024 [00:00<?, ?it/s]"
            ]
          },
          "metadata": {},
          "output_type": "display_data"
        },
        {
          "data": {
            "application/vnd.jupyter.widget-view+json": {
              "model_id": "7a0c6e39fe3144a4b333c27332dcdce3",
              "version_major": 2,
              "version_minor": 0
            },
            "text/plain": [
              "  0%|          | 0/1024 [00:00<?, ?it/s]"
            ]
          },
          "metadata": {},
          "output_type": "display_data"
        },
        {
          "data": {
            "application/vnd.jupyter.widget-view+json": {
              "model_id": "50c1bbbdfd214d2ebde55592b316590b",
              "version_major": 2,
              "version_minor": 0
            },
            "text/plain": [
              "  0%|          | 0/1024 [00:00<?, ?it/s]"
            ]
          },
          "metadata": {},
          "output_type": "display_data"
        },
        {
          "data": {
            "application/vnd.jupyter.widget-view+json": {
              "model_id": "766ae398c33c4a9ab73395e4ff609294",
              "version_major": 2,
              "version_minor": 0
            },
            "text/plain": [
              "  0%|          | 0/1024 [00:00<?, ?it/s]"
            ]
          },
          "metadata": {},
          "output_type": "display_data"
        },
        {
          "data": {
            "application/vnd.jupyter.widget-view+json": {
              "model_id": "332e3edb8c1c4a54a26eace3f24dfefa",
              "version_major": 2,
              "version_minor": 0
            },
            "text/plain": [
              "  0%|          | 0/1024 [00:00<?, ?it/s]"
            ]
          },
          "metadata": {},
          "output_type": "display_data"
        },
        {
          "data": {
            "application/vnd.jupyter.widget-view+json": {
              "model_id": "d1d13cdf81044ea39c94eeddc1322298",
              "version_major": 2,
              "version_minor": 0
            },
            "text/plain": [
              "  0%|          | 0/1024 [00:00<?, ?it/s]"
            ]
          },
          "metadata": {},
          "output_type": "display_data"
        },
        {
          "data": {
            "application/vnd.jupyter.widget-view+json": {
              "model_id": "739f684922414b44ae8e929fde6d369d",
              "version_major": 2,
              "version_minor": 0
            },
            "text/plain": [
              "  0%|          | 0/1024 [00:00<?, ?it/s]"
            ]
          },
          "metadata": {},
          "output_type": "display_data"
        },
        {
          "data": {
            "application/vnd.jupyter.widget-view+json": {
              "model_id": "f9edd7148461432698f0c6ef44411ea6",
              "version_major": 2,
              "version_minor": 0
            },
            "text/plain": [
              "  0%|          | 0/1024 [00:00<?, ?it/s]"
            ]
          },
          "metadata": {},
          "output_type": "display_data"
        },
        {
          "data": {
            "application/vnd.jupyter.widget-view+json": {
              "model_id": "0445a90c98694634a235f8457f82d939",
              "version_major": 2,
              "version_minor": 0
            },
            "text/plain": [
              "  0%|          | 0/1024 [00:00<?, ?it/s]"
            ]
          },
          "metadata": {},
          "output_type": "display_data"
        },
        {
          "data": {
            "application/vnd.jupyter.widget-view+json": {
              "model_id": "d87a29dd169d4ba8974a6b90dfd0c5f2",
              "version_major": 2,
              "version_minor": 0
            },
            "text/plain": [
              "  0%|          | 0/1024 [00:00<?, ?it/s]"
            ]
          },
          "metadata": {},
          "output_type": "display_data"
        },
        {
          "data": {
            "application/vnd.jupyter.widget-view+json": {
              "model_id": "3f4c9c9a1ca748fe82c007881a85b189",
              "version_major": 2,
              "version_minor": 0
            },
            "text/plain": [
              "  0%|          | 0/1024 [00:00<?, ?it/s]"
            ]
          },
          "metadata": {},
          "output_type": "display_data"
        },
        {
          "data": {
            "application/vnd.jupyter.widget-view+json": {
              "model_id": "4e4205189352481794a2843cd7788672",
              "version_major": 2,
              "version_minor": 0
            },
            "text/plain": [
              "  0%|          | 0/1024 [00:00<?, ?it/s]"
            ]
          },
          "metadata": {},
          "output_type": "display_data"
        },
        {
          "data": {
            "application/vnd.jupyter.widget-view+json": {
              "model_id": "423b0d034c2c4137a5495bd28848c91d",
              "version_major": 2,
              "version_minor": 0
            },
            "text/plain": [
              "  0%|          | 0/1024 [00:00<?, ?it/s]"
            ]
          },
          "metadata": {},
          "output_type": "display_data"
        },
        {
          "data": {
            "application/vnd.jupyter.widget-view+json": {
              "model_id": "bbf26da3ed6f4122b1c48f21ff4f0ff2",
              "version_major": 2,
              "version_minor": 0
            },
            "text/plain": [
              "  0%|          | 0/1024 [00:00<?, ?it/s]"
            ]
          },
          "metadata": {},
          "output_type": "display_data"
        },
        {
          "data": {
            "application/vnd.jupyter.widget-view+json": {
              "model_id": "f500abe6b20c4711ae91ca9425c2a033",
              "version_major": 2,
              "version_minor": 0
            },
            "text/plain": [
              "  0%|          | 0/1024 [00:00<?, ?it/s]"
            ]
          },
          "metadata": {},
          "output_type": "display_data"
        },
        {
          "data": {
            "application/vnd.jupyter.widget-view+json": {
              "model_id": "454eef2d804d40808e1f22ce209cbd34",
              "version_major": 2,
              "version_minor": 0
            },
            "text/plain": [
              "  0%|          | 0/1024 [00:00<?, ?it/s]"
            ]
          },
          "metadata": {},
          "output_type": "display_data"
        },
        {
          "data": {
            "application/vnd.jupyter.widget-view+json": {
              "model_id": "f57481bea9ba48a9af19da0a0252637d",
              "version_major": 2,
              "version_minor": 0
            },
            "text/plain": [
              "  0%|          | 0/1024 [00:00<?, ?it/s]"
            ]
          },
          "metadata": {},
          "output_type": "display_data"
        },
        {
          "data": {
            "application/vnd.jupyter.widget-view+json": {
              "model_id": "cca7c052be4c4436aff2e279310b528e",
              "version_major": 2,
              "version_minor": 0
            },
            "text/plain": [
              "  0%|          | 0/1024 [00:00<?, ?it/s]"
            ]
          },
          "metadata": {},
          "output_type": "display_data"
        },
        {
          "data": {
            "application/vnd.jupyter.widget-view+json": {
              "model_id": "a6d1ae1d3f434171a15d3f3e1abf4d2d",
              "version_major": 2,
              "version_minor": 0
            },
            "text/plain": [
              "  0%|          | 0/1024 [00:00<?, ?it/s]"
            ]
          },
          "metadata": {},
          "output_type": "display_data"
        },
        {
          "data": {
            "application/vnd.jupyter.widget-view+json": {
              "model_id": "1cfc178f16be4cbc9e6bd7fd4a5d9342",
              "version_major": 2,
              "version_minor": 0
            },
            "text/plain": [
              "  0%|          | 0/1024 [00:00<?, ?it/s]"
            ]
          },
          "metadata": {},
          "output_type": "display_data"
        },
        {
          "data": {
            "application/vnd.jupyter.widget-view+json": {
              "model_id": "6417cbd50d06406aa2b82b5e3e7f7686",
              "version_major": 2,
              "version_minor": 0
            },
            "text/plain": [
              "  0%|          | 0/1024 [00:00<?, ?it/s]"
            ]
          },
          "metadata": {},
          "output_type": "display_data"
        },
        {
          "data": {
            "application/vnd.jupyter.widget-view+json": {
              "model_id": "7ae7a5ab99844ee3afd8fde0bfd2e48e",
              "version_major": 2,
              "version_minor": 0
            },
            "text/plain": [
              "  0%|          | 0/1024 [00:00<?, ?it/s]"
            ]
          },
          "metadata": {},
          "output_type": "display_data"
        },
        {
          "data": {
            "application/vnd.jupyter.widget-view+json": {
              "model_id": "2df530d20c5e47d5811d7134dcdfe9a3",
              "version_major": 2,
              "version_minor": 0
            },
            "text/plain": [
              "  0%|          | 0/1024 [00:00<?, ?it/s]"
            ]
          },
          "metadata": {},
          "output_type": "display_data"
        },
        {
          "data": {
            "application/vnd.jupyter.widget-view+json": {
              "model_id": "f052251875be449293987c6c48f911a4",
              "version_major": 2,
              "version_minor": 0
            },
            "text/plain": [
              "  0%|          | 0/1024 [00:00<?, ?it/s]"
            ]
          },
          "metadata": {},
          "output_type": "display_data"
        },
        {
          "data": {
            "application/vnd.jupyter.widget-view+json": {
              "model_id": "7312428d0a024c5a940417a556974d97",
              "version_major": 2,
              "version_minor": 0
            },
            "text/plain": [
              "  0%|          | 0/1024 [00:00<?, ?it/s]"
            ]
          },
          "metadata": {},
          "output_type": "display_data"
        },
        {
          "data": {
            "application/vnd.jupyter.widget-view+json": {
              "model_id": "319e2734dc6f41f88c9463e533450a98",
              "version_major": 2,
              "version_minor": 0
            },
            "text/plain": [
              "  0%|          | 0/1024 [00:00<?, ?it/s]"
            ]
          },
          "metadata": {},
          "output_type": "display_data"
        },
        {
          "data": {
            "application/vnd.jupyter.widget-view+json": {
              "model_id": "8b2befb8e7df4f969f40d3e76ea007f1",
              "version_major": 2,
              "version_minor": 0
            },
            "text/plain": [
              "  0%|          | 0/1024 [00:00<?, ?it/s]"
            ]
          },
          "metadata": {},
          "output_type": "display_data"
        },
        {
          "data": {
            "application/vnd.jupyter.widget-view+json": {
              "model_id": "99978353725949e5873f47ab6778ee8f",
              "version_major": 2,
              "version_minor": 0
            },
            "text/plain": [
              "  0%|          | 0/1024 [00:00<?, ?it/s]"
            ]
          },
          "metadata": {},
          "output_type": "display_data"
        },
        {
          "data": {
            "application/vnd.jupyter.widget-view+json": {
              "model_id": "4394cdcf60bc416f99263bb0b2019605",
              "version_major": 2,
              "version_minor": 0
            },
            "text/plain": [
              "  0%|          | 0/1024 [00:00<?, ?it/s]"
            ]
          },
          "metadata": {},
          "output_type": "display_data"
        },
        {
          "data": {
            "application/vnd.jupyter.widget-view+json": {
              "model_id": "1ff325dca9da465d92446b05814564cb",
              "version_major": 2,
              "version_minor": 0
            },
            "text/plain": [
              "  0%|          | 0/1024 [00:00<?, ?it/s]"
            ]
          },
          "metadata": {},
          "output_type": "display_data"
        },
        {
          "data": {
            "application/vnd.jupyter.widget-view+json": {
              "model_id": "7333cb54d4e948b79c683d6acdda7414",
              "version_major": 2,
              "version_minor": 0
            },
            "text/plain": [
              "  0%|          | 0/1024 [00:00<?, ?it/s]"
            ]
          },
          "metadata": {},
          "output_type": "display_data"
        },
        {
          "data": {
            "application/vnd.jupyter.widget-view+json": {
              "model_id": "f67a05a9ed634161913d68d9a905e9b3",
              "version_major": 2,
              "version_minor": 0
            },
            "text/plain": [
              "  0%|          | 0/1024 [00:00<?, ?it/s]"
            ]
          },
          "metadata": {},
          "output_type": "display_data"
        },
        {
          "data": {
            "application/vnd.jupyter.widget-view+json": {
              "model_id": "274420eda1eb41a39cbd528dd26ee58b",
              "version_major": 2,
              "version_minor": 0
            },
            "text/plain": [
              "  0%|          | 0/1024 [00:00<?, ?it/s]"
            ]
          },
          "metadata": {},
          "output_type": "display_data"
        },
        {
          "ename": "KeyboardInterrupt",
          "evalue": "",
          "output_type": "error",
          "traceback": [
            "\u001b[31m---------------------------------------------------------------------------\u001b[39m",
            "\u001b[31mKeyboardInterrupt\u001b[39m                         Traceback (most recent call last)",
            "\u001b[36mCell\u001b[39m\u001b[36m \u001b[39m\u001b[32mIn[96]\u001b[39m\u001b[32m, line 40\u001b[39m\n\u001b[32m     36\u001b[39m     optimizer_actor.apply(gradients)\n\u001b[32m     38\u001b[39m     all_loss.append((actor_loss, critic_loss))\n\u001b[32m---> \u001b[39m\u001b[32m40\u001b[39m     \u001b[43mupdate_weights\u001b[49m\u001b[43m(\u001b[49m\u001b[43mcritic_model\u001b[49m\u001b[43m,\u001b[49m\u001b[43m \u001b[49m\u001b[43mcritic_model_target\u001b[49m\u001b[43m)\u001b[49m\n\u001b[32m     41\u001b[39m     update_weights(actor_model, actor_model_target)\n\u001b[32m     43\u001b[39m val_buffer.clear()\n",
            "\u001b[36mCell\u001b[39m\u001b[36m \u001b[39m\u001b[32mIn[85]\u001b[39m\u001b[32m, line 2\u001b[39m, in \u001b[36mupdate_weights\u001b[39m\u001b[34m(model, target_model)\u001b[39m\n\u001b[32m      1\u001b[39m \u001b[38;5;28;01mdef\u001b[39;00m\u001b[38;5;250m \u001b[39m\u001b[34mupdate_weights\u001b[39m(model: keras.Model, target_model: keras.Model):\n\u001b[32m----> \u001b[39m\u001b[32m2\u001b[39m     \u001b[43mtarget_model\u001b[49m\u001b[43m.\u001b[49m\u001b[43mset_weights\u001b[49m\u001b[43m(\u001b[49m\n\u001b[32m      3\u001b[39m \u001b[43m        \u001b[49m\u001b[43m[\u001b[49m\n\u001b[32m      4\u001b[39m \u001b[43m            \u001b[49m\u001b[43mrho\u001b[49m\u001b[43m \u001b[49m\u001b[43m*\u001b[49m\u001b[43m \u001b[49m\u001b[43mtarget_w\u001b[49m\u001b[43m \u001b[49m\u001b[43m+\u001b[49m\u001b[43m \u001b[49m\u001b[43m(\u001b[49m\u001b[32;43m1\u001b[39;49m\u001b[43m \u001b[49m\u001b[43m-\u001b[49m\u001b[43m \u001b[49m\u001b[43mrho\u001b[49m\u001b[43m)\u001b[49m\u001b[43m \u001b[49m\u001b[43m*\u001b[49m\u001b[43m \u001b[49m\u001b[43mw\u001b[49m\u001b[43m \u001b[49m\u001b[38;5;28;43;01mfor\u001b[39;49;00m\u001b[43m \u001b[49m\u001b[43mw\u001b[49m\u001b[43m,\u001b[49m\n\u001b[32m      5\u001b[39m \u001b[43m            \u001b[49m\u001b[43mtarget_w\u001b[49m\u001b[43m \u001b[49m\u001b[38;5;129;43;01min\u001b[39;49;00m\u001b[43m \u001b[49m\u001b[38;5;28;43mzip\u001b[39;49m\u001b[43m(\u001b[49m\n\u001b[32m      6\u001b[39m \u001b[43m                \u001b[49m\u001b[43mmodel\u001b[49m\u001b[43m.\u001b[49m\u001b[43mget_weights\u001b[49m\u001b[43m(\u001b[49m\u001b[43m)\u001b[49m\u001b[43m,\u001b[49m\n\u001b[32m      7\u001b[39m \u001b[43m                \u001b[49m\u001b[43mtarget_model\u001b[49m\u001b[43m.\u001b[49m\u001b[43mget_weights\u001b[49m\u001b[43m(\u001b[49m\u001b[43m)\u001b[49m\n\u001b[32m      8\u001b[39m \u001b[43m            \u001b[49m\u001b[43m)\u001b[49m\n\u001b[32m      9\u001b[39m \u001b[43m        \u001b[49m\u001b[43m]\u001b[49m\n\u001b[32m     10\u001b[39m \u001b[43m    \u001b[49m\u001b[43m)\u001b[49m\n",
            "\u001b[36mFile \u001b[39m\u001b[32m~/miniconda3/envs/gym/lib/python3.11/site-packages/keras/src/layers/layer.py:713\u001b[39m, in \u001b[36mLayer.set_weights\u001b[39m\u001b[34m(self, weights)\u001b[39m\n\u001b[32m    707\u001b[39m \u001b[38;5;28;01mif\u001b[39;00m variable.shape != value.shape:\n\u001b[32m    708\u001b[39m     \u001b[38;5;28;01mraise\u001b[39;00m \u001b[38;5;167;01mValueError\u001b[39;00m(\n\u001b[32m    709\u001b[39m         \u001b[33mf\u001b[39m\u001b[33m\"\u001b[39m\u001b[33mLayer \u001b[39m\u001b[38;5;132;01m{\u001b[39;00m\u001b[38;5;28mself\u001b[39m.name\u001b[38;5;132;01m}\u001b[39;00m\u001b[33m weight shape \u001b[39m\u001b[38;5;132;01m{\u001b[39;00mvariable.shape\u001b[38;5;132;01m}\u001b[39;00m\u001b[33m \u001b[39m\u001b[33m\"\u001b[39m\n\u001b[32m    710\u001b[39m         \u001b[33m\"\u001b[39m\u001b[33mis not compatible with provided weight \u001b[39m\u001b[33m\"\u001b[39m\n\u001b[32m    711\u001b[39m         \u001b[33mf\u001b[39m\u001b[33m\"\u001b[39m\u001b[33mshape \u001b[39m\u001b[38;5;132;01m{\u001b[39;00mvalue.shape\u001b[38;5;132;01m}\u001b[39;00m\u001b[33m.\u001b[39m\u001b[33m\"\u001b[39m\n\u001b[32m    712\u001b[39m     )\n\u001b[32m--> \u001b[39m\u001b[32m713\u001b[39m \u001b[43mvariable\u001b[49m\u001b[43m.\u001b[49m\u001b[43massign\u001b[49m\u001b[43m(\u001b[49m\u001b[43mvalue\u001b[49m\u001b[43m)\u001b[49m\n",
            "\u001b[36mFile \u001b[39m\u001b[32m~/miniconda3/envs/gym/lib/python3.11/site-packages/keras/src/backend/common/variables.py:249\u001b[39m, in \u001b[36mVariable.assign\u001b[39m\u001b[34m(self, value)\u001b[39m\n\u001b[32m    248\u001b[39m \u001b[38;5;28;01mdef\u001b[39;00m\u001b[38;5;250m \u001b[39m\u001b[34massign\u001b[39m(\u001b[38;5;28mself\u001b[39m, value):\n\u001b[32m--> \u001b[39m\u001b[32m249\u001b[39m     value = \u001b[38;5;28;43mself\u001b[39;49m\u001b[43m.\u001b[49m\u001b[43m_convert_to_tensor\u001b[49m\u001b[43m(\u001b[49m\u001b[43mvalue\u001b[49m\u001b[43m,\u001b[49m\u001b[43m \u001b[49m\u001b[43mdtype\u001b[49m\u001b[43m=\u001b[49m\u001b[38;5;28;43mself\u001b[39;49m\u001b[43m.\u001b[49m\u001b[43mdtype\u001b[49m\u001b[43m)\u001b[49m\n\u001b[32m    250\u001b[39m     \u001b[38;5;28;01mif\u001b[39;00m \u001b[38;5;129;01mnot\u001b[39;00m shape_equal(value.shape, \u001b[38;5;28mself\u001b[39m.shape):\n\u001b[32m    251\u001b[39m         \u001b[38;5;28;01mraise\u001b[39;00m \u001b[38;5;167;01mValueError\u001b[39;00m(\n\u001b[32m    252\u001b[39m             \u001b[33m\"\u001b[39m\u001b[33mThe shape of the target variable and \u001b[39m\u001b[33m\"\u001b[39m\n\u001b[32m    253\u001b[39m             \u001b[33m\"\u001b[39m\u001b[33mthe shape of the target value in \u001b[39m\u001b[33m\"\u001b[39m\n\u001b[32m   (...)\u001b[39m\u001b[32m    257\u001b[39m             \u001b[33mf\u001b[39m\u001b[33m\"\u001b[39m\u001b[33mTarget variable: \u001b[39m\u001b[38;5;132;01m{\u001b[39;00m\u001b[38;5;28mself\u001b[39m\u001b[38;5;132;01m}\u001b[39;00m\u001b[33m\"\u001b[39m\n\u001b[32m    258\u001b[39m         )\n",
            "\u001b[36mFile \u001b[39m\u001b[32m~/miniconda3/envs/gym/lib/python3.11/site-packages/keras/src/backend/tensorflow/core.py:69\u001b[39m, in \u001b[36mVariable._convert_to_tensor\u001b[39m\u001b[34m(self, value, dtype)\u001b[39m\n\u001b[32m     68\u001b[39m \u001b[38;5;28;01mdef\u001b[39;00m\u001b[38;5;250m \u001b[39m\u001b[34m_convert_to_tensor\u001b[39m(\u001b[38;5;28mself\u001b[39m, value, dtype=\u001b[38;5;28;01mNone\u001b[39;00m):\n\u001b[32m---> \u001b[39m\u001b[32m69\u001b[39m     \u001b[38;5;28;01mreturn\u001b[39;00m \u001b[43mconvert_to_tensor\u001b[49m\u001b[43m(\u001b[49m\u001b[43mvalue\u001b[49m\u001b[43m,\u001b[49m\u001b[43m \u001b[49m\u001b[43mdtype\u001b[49m\u001b[43m=\u001b[49m\u001b[43mdtype\u001b[49m\u001b[43m)\u001b[49m\n",
            "\u001b[36mFile \u001b[39m\u001b[32m~/miniconda3/envs/gym/lib/python3.11/site-packages/keras/src/backend/tensorflow/core.py:140\u001b[39m, in \u001b[36mconvert_to_tensor\u001b[39m\u001b[34m(x, dtype, sparse, ragged)\u001b[39m\n\u001b[32m    138\u001b[39m         x = tf.convert_to_tensor(x)\n\u001b[32m    139\u001b[39m         \u001b[38;5;28;01mreturn\u001b[39;00m tf.cast(x, dtype)\n\u001b[32m--> \u001b[39m\u001b[32m140\u001b[39m     \u001b[38;5;28;01mreturn\u001b[39;00m \u001b[43mtf\u001b[49m\u001b[43m.\u001b[49m\u001b[43mconvert_to_tensor\u001b[49m\u001b[43m(\u001b[49m\u001b[43mx\u001b[49m\u001b[43m,\u001b[49m\u001b[43m \u001b[49m\u001b[43mdtype\u001b[49m\u001b[43m=\u001b[49m\u001b[43mdtype\u001b[49m\u001b[43m)\u001b[49m\n\u001b[32m    141\u001b[39m \u001b[38;5;28;01melif\u001b[39;00m dtype \u001b[38;5;129;01mis\u001b[39;00m \u001b[38;5;129;01mnot\u001b[39;00m \u001b[38;5;28;01mNone\u001b[39;00m \u001b[38;5;129;01mand\u001b[39;00m \u001b[38;5;129;01mnot\u001b[39;00m x.dtype == dtype:\n\u001b[32m    142\u001b[39m     \u001b[38;5;28;01mif\u001b[39;00m \u001b[38;5;28misinstance\u001b[39m(x, tf.SparseTensor):\n",
            "\u001b[36mFile \u001b[39m\u001b[32m~/miniconda3/envs/gym/lib/python3.11/site-packages/tensorflow/python/util/traceback_utils.py:150\u001b[39m, in \u001b[36mfilter_traceback.<locals>.error_handler\u001b[39m\u001b[34m(*args, **kwargs)\u001b[39m\n\u001b[32m    148\u001b[39m filtered_tb = \u001b[38;5;28;01mNone\u001b[39;00m\n\u001b[32m    149\u001b[39m \u001b[38;5;28;01mtry\u001b[39;00m:\n\u001b[32m--> \u001b[39m\u001b[32m150\u001b[39m   \u001b[38;5;28;01mreturn\u001b[39;00m \u001b[43mfn\u001b[49m\u001b[43m(\u001b[49m\u001b[43m*\u001b[49m\u001b[43margs\u001b[49m\u001b[43m,\u001b[49m\u001b[43m \u001b[49m\u001b[43m*\u001b[49m\u001b[43m*\u001b[49m\u001b[43mkwargs\u001b[49m\u001b[43m)\u001b[49m\n\u001b[32m    151\u001b[39m \u001b[38;5;28;01mexcept\u001b[39;00m \u001b[38;5;167;01mException\u001b[39;00m \u001b[38;5;28;01mas\u001b[39;00m e:\n\u001b[32m    152\u001b[39m   filtered_tb = _process_traceback_frames(e.__traceback__)\n",
            "\u001b[36mFile \u001b[39m\u001b[32m~/miniconda3/envs/gym/lib/python3.11/site-packages/tensorflow/python/util/dispatch.py:1260\u001b[39m, in \u001b[36madd_dispatch_support.<locals>.decorator.<locals>.op_dispatch_handler\u001b[39m\u001b[34m(*args, **kwargs)\u001b[39m\n\u001b[32m   1258\u001b[39m \u001b[38;5;66;03m# Fallback dispatch system (dispatch v1):\u001b[39;00m\n\u001b[32m   1259\u001b[39m \u001b[38;5;28;01mtry\u001b[39;00m:\n\u001b[32m-> \u001b[39m\u001b[32m1260\u001b[39m   \u001b[38;5;28;01mreturn\u001b[39;00m \u001b[43mdispatch_target\u001b[49m\u001b[43m(\u001b[49m\u001b[43m*\u001b[49m\u001b[43margs\u001b[49m\u001b[43m,\u001b[49m\u001b[43m \u001b[49m\u001b[43m*\u001b[49m\u001b[43m*\u001b[49m\u001b[43mkwargs\u001b[49m\u001b[43m)\u001b[49m\n\u001b[32m   1261\u001b[39m \u001b[38;5;28;01mexcept\u001b[39;00m (\u001b[38;5;167;01mTypeError\u001b[39;00m, \u001b[38;5;167;01mValueError\u001b[39;00m):\n\u001b[32m   1262\u001b[39m   \u001b[38;5;66;03m# Note: convert_to_eager_tensor currently raises a ValueError, not a\u001b[39;00m\n\u001b[32m   1263\u001b[39m   \u001b[38;5;66;03m# TypeError, when given unexpected types.  So we need to catch both.\u001b[39;00m\n\u001b[32m   1264\u001b[39m   result = dispatch(op_dispatch_handler, args, kwargs)\n",
            "\u001b[36mFile \u001b[39m\u001b[32m~/miniconda3/envs/gym/lib/python3.11/site-packages/tensorflow/python/framework/tensor_conversion.py:161\u001b[39m, in \u001b[36mconvert_to_tensor_v2_with_dispatch\u001b[39m\u001b[34m(value, dtype, dtype_hint, name)\u001b[39m\n\u001b[32m     96\u001b[39m \u001b[38;5;129m@tf_export\u001b[39m.tf_export(\u001b[33m\"\u001b[39m\u001b[33mconvert_to_tensor\u001b[39m\u001b[33m\"\u001b[39m, v1=[])\n\u001b[32m     97\u001b[39m \u001b[38;5;129m@dispatch\u001b[39m.add_dispatch_support\n\u001b[32m     98\u001b[39m \u001b[38;5;28;01mdef\u001b[39;00m\u001b[38;5;250m \u001b[39m\u001b[34mconvert_to_tensor_v2_with_dispatch\u001b[39m(\n\u001b[32m     99\u001b[39m     value, dtype=\u001b[38;5;28;01mNone\u001b[39;00m, dtype_hint=\u001b[38;5;28;01mNone\u001b[39;00m, name=\u001b[38;5;28;01mNone\u001b[39;00m\n\u001b[32m    100\u001b[39m ) -> tensor_lib.Tensor:\n\u001b[32m    101\u001b[39m \u001b[38;5;250m  \u001b[39m\u001b[33;03m\"\"\"Converts the given `value` to a `Tensor`.\u001b[39;00m\n\u001b[32m    102\u001b[39m \n\u001b[32m    103\u001b[39m \u001b[33;03m  This function converts Python objects of various types to `Tensor`\u001b[39;00m\n\u001b[32m   (...)\u001b[39m\u001b[32m    159\u001b[39m \u001b[33;03m    ValueError: If the `value` is a tensor not of given `dtype` in graph mode.\u001b[39;00m\n\u001b[32m    160\u001b[39m \u001b[33;03m  \"\"\"\u001b[39;00m\n\u001b[32m--> \u001b[39m\u001b[32m161\u001b[39m   \u001b[38;5;28;01mreturn\u001b[39;00m \u001b[43mconvert_to_tensor_v2\u001b[49m\u001b[43m(\u001b[49m\n\u001b[32m    162\u001b[39m \u001b[43m      \u001b[49m\u001b[43mvalue\u001b[49m\u001b[43m,\u001b[49m\u001b[43m \u001b[49m\u001b[43mdtype\u001b[49m\u001b[43m=\u001b[49m\u001b[43mdtype\u001b[49m\u001b[43m,\u001b[49m\u001b[43m \u001b[49m\u001b[43mdtype_hint\u001b[49m\u001b[43m=\u001b[49m\u001b[43mdtype_hint\u001b[49m\u001b[43m,\u001b[49m\u001b[43m \u001b[49m\u001b[43mname\u001b[49m\u001b[43m=\u001b[49m\u001b[43mname\u001b[49m\n\u001b[32m    163\u001b[39m \u001b[43m  \u001b[49m\u001b[43m)\u001b[49m\n",
            "\u001b[36mFile \u001b[39m\u001b[32m~/miniconda3/envs/gym/lib/python3.11/site-packages/tensorflow/python/framework/tensor_conversion.py:171\u001b[39m, in \u001b[36mconvert_to_tensor_v2\u001b[39m\u001b[34m(value, dtype, dtype_hint, name)\u001b[39m\n\u001b[32m    169\u001b[39m \u001b[38;5;250m\u001b[39m\u001b[33;03m\"\"\"Converts the given `value` to a `Tensor`.\"\"\"\u001b[39;00m\n\u001b[32m    170\u001b[39m \u001b[38;5;66;03m# preferred_dtype = preferred_dtype or dtype_hint\u001b[39;00m\n\u001b[32m--> \u001b[39m\u001b[32m171\u001b[39m \u001b[38;5;28;01mreturn\u001b[39;00m \u001b[43mtensor_conversion_registry\u001b[49m\u001b[43m.\u001b[49m\u001b[43mconvert\u001b[49m\u001b[43m(\u001b[49m\n\u001b[32m    172\u001b[39m \u001b[43m    \u001b[49m\u001b[43mvalue\u001b[49m\u001b[43m,\u001b[49m\u001b[43m \u001b[49m\u001b[43mdtype\u001b[49m\u001b[43m,\u001b[49m\u001b[43m \u001b[49m\u001b[43mname\u001b[49m\u001b[43m,\u001b[49m\u001b[43m \u001b[49m\u001b[43mpreferred_dtype\u001b[49m\u001b[43m=\u001b[49m\u001b[43mdtype_hint\u001b[49m\n\u001b[32m    173\u001b[39m \u001b[43m\u001b[49m\u001b[43m)\u001b[49m\n",
            "\u001b[36mFile \u001b[39m\u001b[32m~/miniconda3/envs/gym/lib/python3.11/site-packages/tensorflow/python/framework/tensor_conversion_registry.py:234\u001b[39m, in \u001b[36mconvert\u001b[39m\u001b[34m(value, dtype, name, as_ref, preferred_dtype, accepted_result_types)\u001b[39m\n\u001b[32m    225\u001b[39m       \u001b[38;5;28;01mraise\u001b[39;00m \u001b[38;5;167;01mRuntimeError\u001b[39;00m(\n\u001b[32m    226\u001b[39m           _add_error_prefix(\n\u001b[32m    227\u001b[39m               \u001b[33mf\u001b[39m\u001b[33m\"\u001b[39m\u001b[33mConversion function \u001b[39m\u001b[38;5;132;01m{\u001b[39;00mconversion_func\u001b[38;5;132;01m!r}\u001b[39;00m\u001b[33m for type \u001b[39m\u001b[33m\"\u001b[39m\n\u001b[32m   (...)\u001b[39m\u001b[32m    230\u001b[39m               \u001b[33mf\u001b[39m\u001b[33m\"\u001b[39m\u001b[33mactual = \u001b[39m\u001b[38;5;132;01m{\u001b[39;00mret.dtype.base_dtype.name\u001b[38;5;132;01m}\u001b[39;00m\u001b[33m\"\u001b[39m,\n\u001b[32m    231\u001b[39m               name=name))\n\u001b[32m    233\u001b[39m \u001b[38;5;28;01mif\u001b[39;00m ret \u001b[38;5;129;01mis\u001b[39;00m \u001b[38;5;28;01mNone\u001b[39;00m:\n\u001b[32m--> \u001b[39m\u001b[32m234\u001b[39m   ret = \u001b[43mconversion_func\u001b[49m\u001b[43m(\u001b[49m\u001b[43mvalue\u001b[49m\u001b[43m,\u001b[49m\u001b[43m \u001b[49m\u001b[43mdtype\u001b[49m\u001b[43m=\u001b[49m\u001b[43mdtype\u001b[49m\u001b[43m,\u001b[49m\u001b[43m \u001b[49m\u001b[43mname\u001b[49m\u001b[43m=\u001b[49m\u001b[43mname\u001b[49m\u001b[43m,\u001b[49m\u001b[43m \u001b[49m\u001b[43mas_ref\u001b[49m\u001b[43m=\u001b[49m\u001b[43mas_ref\u001b[49m\u001b[43m)\u001b[49m\n\u001b[32m    236\u001b[39m \u001b[38;5;28;01mif\u001b[39;00m ret \u001b[38;5;129;01mis\u001b[39;00m \u001b[38;5;28mNotImplemented\u001b[39m:\n\u001b[32m    237\u001b[39m   \u001b[38;5;28;01mcontinue\u001b[39;00m\n",
            "\u001b[36mFile \u001b[39m\u001b[32m~/miniconda3/envs/gym/lib/python3.11/site-packages/tensorflow/python/framework/constant_tensor_conversion.py:29\u001b[39m, in \u001b[36m_constant_tensor_conversion_function\u001b[39m\u001b[34m(v, dtype, name, as_ref)\u001b[39m\n\u001b[32m     26\u001b[39m \u001b[38;5;28;01mfrom\u001b[39;00m\u001b[38;5;250m \u001b[39m\u001b[34;01mtensorflow\u001b[39;00m\u001b[34;01m.\u001b[39;00m\u001b[34;01mpython\u001b[39;00m\u001b[34;01m.\u001b[39;00m\u001b[34;01mframework\u001b[39;00m\u001b[38;5;250m \u001b[39m\u001b[38;5;28;01mimport\u001b[39;00m constant_op  \u001b[38;5;66;03m# pylint: disable=g-import-not-at-top\u001b[39;00m\n\u001b[32m     28\u001b[39m _ = as_ref\n\u001b[32m---> \u001b[39m\u001b[32m29\u001b[39m \u001b[38;5;28;01mreturn\u001b[39;00m \u001b[43mconstant_op\u001b[49m\u001b[43m.\u001b[49m\u001b[43mconstant\u001b[49m\u001b[43m(\u001b[49m\u001b[43mv\u001b[49m\u001b[43m,\u001b[49m\u001b[43m \u001b[49m\u001b[43mdtype\u001b[49m\u001b[43m=\u001b[49m\u001b[43mdtype\u001b[49m\u001b[43m,\u001b[49m\u001b[43m \u001b[49m\u001b[43mname\u001b[49m\u001b[43m=\u001b[49m\u001b[43mname\u001b[49m\u001b[43m)\u001b[49m\n",
            "\u001b[36mFile \u001b[39m\u001b[32m~/miniconda3/envs/gym/lib/python3.11/site-packages/tensorflow/python/ops/weak_tensor_ops.py:142\u001b[39m, in \u001b[36mweak_tensor_binary_op_wrapper.<locals>.wrapper\u001b[39m\u001b[34m(*args, **kwargs)\u001b[39m\n\u001b[32m    140\u001b[39m \u001b[38;5;28;01mdef\u001b[39;00m\u001b[38;5;250m \u001b[39m\u001b[34mwrapper\u001b[39m(*args, **kwargs):\n\u001b[32m    141\u001b[39m   \u001b[38;5;28;01mif\u001b[39;00m \u001b[38;5;129;01mnot\u001b[39;00m ops.is_auto_dtype_conversion_enabled():\n\u001b[32m--> \u001b[39m\u001b[32m142\u001b[39m     \u001b[38;5;28;01mreturn\u001b[39;00m \u001b[43mop\u001b[49m\u001b[43m(\u001b[49m\u001b[43m*\u001b[49m\u001b[43margs\u001b[49m\u001b[43m,\u001b[49m\u001b[43m \u001b[49m\u001b[43m*\u001b[49m\u001b[43m*\u001b[49m\u001b[43mkwargs\u001b[49m\u001b[43m)\u001b[49m\n\u001b[32m    143\u001b[39m   bound_arguments = signature.bind(*args, **kwargs)\n\u001b[32m    144\u001b[39m   bound_arguments.apply_defaults()\n",
            "\u001b[36mFile \u001b[39m\u001b[32m~/miniconda3/envs/gym/lib/python3.11/site-packages/tensorflow/python/framework/constant_op.py:276\u001b[39m, in \u001b[36mconstant\u001b[39m\u001b[34m(value, dtype, shape, name)\u001b[39m\n\u001b[32m    177\u001b[39m \u001b[38;5;129m@tf_export\u001b[39m(\u001b[33m\"\u001b[39m\u001b[33mconstant\u001b[39m\u001b[33m\"\u001b[39m, v1=[])\n\u001b[32m    178\u001b[39m \u001b[38;5;28;01mdef\u001b[39;00m\u001b[38;5;250m \u001b[39m\u001b[34mconstant\u001b[39m(\n\u001b[32m    179\u001b[39m     value, dtype=\u001b[38;5;28;01mNone\u001b[39;00m, shape=\u001b[38;5;28;01mNone\u001b[39;00m, name=\u001b[33m\"\u001b[39m\u001b[33mConst\u001b[39m\u001b[33m\"\u001b[39m\n\u001b[32m    180\u001b[39m ) -> Union[ops.Operation, ops._EagerTensorBase]:\n\u001b[32m    181\u001b[39m \u001b[38;5;250m  \u001b[39m\u001b[33;03m\"\"\"Creates a constant tensor from a tensor-like object.\u001b[39;00m\n\u001b[32m    182\u001b[39m \n\u001b[32m    183\u001b[39m \u001b[33;03m  Note: All eager `tf.Tensor` values are immutable (in contrast to\u001b[39;00m\n\u001b[32m   (...)\u001b[39m\u001b[32m    274\u001b[39m \u001b[33;03m    ValueError: if called on a symbolic tensor.\u001b[39;00m\n\u001b[32m    275\u001b[39m \u001b[33;03m  \"\"\"\u001b[39;00m\n\u001b[32m--> \u001b[39m\u001b[32m276\u001b[39m   \u001b[38;5;28;01mreturn\u001b[39;00m \u001b[43m_constant_impl\u001b[49m\u001b[43m(\u001b[49m\u001b[43mvalue\u001b[49m\u001b[43m,\u001b[49m\u001b[43m \u001b[49m\u001b[43mdtype\u001b[49m\u001b[43m,\u001b[49m\u001b[43m \u001b[49m\u001b[43mshape\u001b[49m\u001b[43m,\u001b[49m\u001b[43m \u001b[49m\u001b[43mname\u001b[49m\u001b[43m,\u001b[49m\u001b[43m \u001b[49m\u001b[43mverify_shape\u001b[49m\u001b[43m=\u001b[49m\u001b[38;5;28;43;01mFalse\u001b[39;49;00m\u001b[43m,\u001b[49m\n\u001b[32m    277\u001b[39m \u001b[43m                        \u001b[49m\u001b[43mallow_broadcast\u001b[49m\u001b[43m=\u001b[49m\u001b[38;5;28;43;01mTrue\u001b[39;49;00m\u001b[43m)\u001b[49m\n",
            "\u001b[36mFile \u001b[39m\u001b[32m~/miniconda3/envs/gym/lib/python3.11/site-packages/tensorflow/python/framework/constant_op.py:289\u001b[39m, in \u001b[36m_constant_impl\u001b[39m\u001b[34m(value, dtype, shape, name, verify_shape, allow_broadcast)\u001b[39m\n\u001b[32m    287\u001b[39m     \u001b[38;5;28;01mwith\u001b[39;00m trace.Trace(\u001b[33m\"\u001b[39m\u001b[33mtf.constant\u001b[39m\u001b[33m\"\u001b[39m):\n\u001b[32m    288\u001b[39m       \u001b[38;5;28;01mreturn\u001b[39;00m _constant_eager_impl(ctx, value, dtype, shape, verify_shape)\n\u001b[32m--> \u001b[39m\u001b[32m289\u001b[39m   \u001b[38;5;28;01mreturn\u001b[39;00m \u001b[43m_constant_eager_impl\u001b[49m\u001b[43m(\u001b[49m\u001b[43mctx\u001b[49m\u001b[43m,\u001b[49m\u001b[43m \u001b[49m\u001b[43mvalue\u001b[49m\u001b[43m,\u001b[49m\u001b[43m \u001b[49m\u001b[43mdtype\u001b[49m\u001b[43m,\u001b[49m\u001b[43m \u001b[49m\u001b[43mshape\u001b[49m\u001b[43m,\u001b[49m\u001b[43m \u001b[49m\u001b[43mverify_shape\u001b[49m\u001b[43m)\u001b[49m\n\u001b[32m    291\u001b[39m const_tensor = ops._create_graph_constant(  \u001b[38;5;66;03m# pylint: disable=protected-access\u001b[39;00m\n\u001b[32m    292\u001b[39m     value, dtype, shape, name, verify_shape, allow_broadcast\n\u001b[32m    293\u001b[39m )\n\u001b[32m    294\u001b[39m \u001b[38;5;28;01mreturn\u001b[39;00m const_tensor\n",
            "\u001b[36mFile \u001b[39m\u001b[32m~/miniconda3/envs/gym/lib/python3.11/site-packages/tensorflow/python/framework/constant_op.py:301\u001b[39m, in \u001b[36m_constant_eager_impl\u001b[39m\u001b[34m(ctx, value, dtype, shape, verify_shape)\u001b[39m\n\u001b[32m    297\u001b[39m \u001b[38;5;28;01mdef\u001b[39;00m\u001b[38;5;250m \u001b[39m\u001b[34m_constant_eager_impl\u001b[39m(\n\u001b[32m    298\u001b[39m     ctx, value, dtype, shape, verify_shape\n\u001b[32m    299\u001b[39m ) -> ops._EagerTensorBase:\n\u001b[32m    300\u001b[39m \u001b[38;5;250m  \u001b[39m\u001b[33;03m\"\"\"Creates a constant on the current device.\"\"\"\u001b[39;00m\n\u001b[32m--> \u001b[39m\u001b[32m301\u001b[39m   t = \u001b[43mconvert_to_eager_tensor\u001b[49m\u001b[43m(\u001b[49m\u001b[43mvalue\u001b[49m\u001b[43m,\u001b[49m\u001b[43m \u001b[49m\u001b[43mctx\u001b[49m\u001b[43m,\u001b[49m\u001b[43m \u001b[49m\u001b[43mdtype\u001b[49m\u001b[43m)\u001b[49m\n\u001b[32m    302\u001b[39m   \u001b[38;5;28;01mif\u001b[39;00m shape \u001b[38;5;129;01mis\u001b[39;00m \u001b[38;5;28;01mNone\u001b[39;00m:\n\u001b[32m    303\u001b[39m     \u001b[38;5;28;01mreturn\u001b[39;00m t\n",
            "\u001b[36mFile \u001b[39m\u001b[32m~/miniconda3/envs/gym/lib/python3.11/site-packages/tensorflow/python/framework/constant_op.py:108\u001b[39m, in \u001b[36mconvert_to_eager_tensor\u001b[39m\u001b[34m(value, ctx, dtype)\u001b[39m\n\u001b[32m    106\u001b[39m     dtype = dtypes.as_dtype(dtype).as_datatype_enum\n\u001b[32m    107\u001b[39m ctx.ensure_initialized()\n\u001b[32m--> \u001b[39m\u001b[32m108\u001b[39m \u001b[38;5;28;01mreturn\u001b[39;00m \u001b[43mops\u001b[49m\u001b[43m.\u001b[49m\u001b[43mEagerTensor\u001b[49m\u001b[43m(\u001b[49m\u001b[43mvalue\u001b[49m\u001b[43m,\u001b[49m\u001b[43m \u001b[49m\u001b[43mctx\u001b[49m\u001b[43m.\u001b[49m\u001b[43mdevice_name\u001b[49m\u001b[43m,\u001b[49m\u001b[43m \u001b[49m\u001b[43mdtype\u001b[49m\u001b[43m)\u001b[49m\n",
            "\u001b[31mKeyboardInterrupt\u001b[39m: "
          ]
        }
      ],
      "source": [
        "pbar = tqdm.trange(epochs)\n",
        "last_observation = None\n",
        "\n",
        "for epoch in pbar:\n",
        "    sampler.sigma = sigma_decay(epoch).numpy()\n",
        "\n",
        "    last_observation = play_game(\n",
        "        actor_model,\n",
        "        train_buffer,\n",
        "        train_env,\n",
        "        steps_per_play,\n",
        "        sampler,\n",
        "        last_observation\n",
        "    )\n",
        "\n",
        "    for _ in tqdm.trange(len(dataset), leave=False):\n",
        "        (current_observations, actions, rewards, next_observations, dones), _ = dataset[_]\n",
        "\n",
        "        next_observations = tf.constant(next_observations)\n",
        "        current_observations = tf.constant(current_observations)\n",
        "        actions = tf.constant(actions)\n",
        "\n",
        "        q_target = rewards + gamma * (1 - dones) * critic_model_target([next_observations, actor_model_target(next_observations, training=False)], training=False)\n",
        "\n",
        "        with tf.GradientTape() as tape:\n",
        "            q_current = critic_model([current_observations, actions], training=True)\n",
        "            actor_loss = keras.ops.mean(keras.ops.square(q_current - q_target))\n",
        "\n",
        "        gradients = tape.gradient(actor_loss, critic_model.trainable_weights)\n",
        "        optimizer_critic.apply(gradients)\n",
        "\n",
        "        with tf.GradientTape() as tape:\n",
        "            critic_loss = -keras.ops.mean(critic_model([current_observations, actor_model(current_observations, training=True)], training=False))\n",
        "\n",
        "        gradients = tape.gradient(critic_loss, actor_model.trainable_weights)\n",
        "        optimizer_actor.apply(gradients)\n",
        "\n",
        "        all_loss.append((actor_loss, critic_loss))\n",
        "\n",
        "        update_weights(critic_model, critic_model_target)\n",
        "        update_weights(actor_model, actor_model_target)\n",
        "\n",
        "    val_buffer.clear()\n",
        "\n",
        "    play_game(\n",
        "        actor_model,\n",
        "        val_buffer,\n",
        "        valid_env,\n",
        "        int(1e10),\n",
        "        Sampler(0),\n",
        "        None,\n",
        "        one_episode=True\n",
        "    )\n",
        "\n",
        "    score = val_buffer.rewards[:len(val_buffer)].sum() / valid_env.num_envs\n",
        "\n",
        "    all_rewards.append(score)\n",
        "\n",
        "    actor_model.save(f'./history/actor-model-{epoch}.keras')\n",
        "\n",
        "    pbar.set_description(f'current: {score}, max: {np.max(all_rewards)}, epoch: {np.argmax(all_rewards)}')"
      ]
    },
    {
      "cell_type": "code",
      "execution_count": null,
      "id": "87a60c13-d1a4-4de6-bea3-e2c57eddee29",
      "metadata": {
        "id": "87a60c13-d1a4-4de6-bea3-e2c57eddee29"
      },
      "outputs": [],
      "source": [
        "def plot_split_tuples(data, title=\"Графики\", ylabel1=\"Y1\", ylabel2=\"Y2\", version: int = 1, is_pair: bool = True, x_label: str = 'Epochs'):\n",
        "    if is_pair:\n",
        "        y1_values = [point[0] for point in data]\n",
        "        y2_values = [point[1] for point in data]\n",
        "        x_values = list(range(len(data)))\n",
        "\n",
        "        fig, (ax1, ax2) = plt.subplots(1, 2, figsize=(12, 5))\n",
        "\n",
        "        ax1.plot(x_values, y1_values, marker='o', color='blue', label=ylabel1)\n",
        "        ax1.set_title(ylabel1)\n",
        "        ax1.set_xlabel(x_label)\n",
        "        ax1.set_ylabel(ylabel1)\n",
        "        ax1.legend()\n",
        "        ax1.grid(True)\n",
        "\n",
        "        ax2.plot(x_values, y2_values, marker='o', color='red', label=ylabel2)\n",
        "        ax2.set_title(ylabel2)\n",
        "        ax2.set_xlabel(x_label)\n",
        "        ax2.set_ylabel(ylabel2)\n",
        "        ax2.legend()\n",
        "        ax2.grid(True)\n",
        "\n",
        "        fig.suptitle(title)\n",
        "        plt.tight_layout()\n",
        "    else:\n",
        "        y_values = [point for point in data]\n",
        "        x_values = list(range(len(data)))\n",
        "\n",
        "        fig, ax = plt.subplots(1, 1, figsize=(12, 5))\n",
        "\n",
        "        ax.plot(x_values, y_values, marker='o', color='blue', label=ylabel1)\n",
        "        ax.set_title(ylabel1)\n",
        "        ax.set_xlabel(x_label)\n",
        "        ax.set_ylabel(ylabel1)\n",
        "        ax.legend()\n",
        "        ax.grid(True)\n",
        "\n",
        "        fig.suptitle(title)\n",
        "        plt.tight_layout()\n",
        "\n",
        "    plt.savefig(f'{title}-{version}.png')\n",
        "    plt.show()"
      ]
    },
    {
      "cell_type": "code",
      "execution_count": null,
      "id": "9692082d-b5c3-49bd-adee-3a9fb2e9e25a",
      "metadata": {
        "id": "9692082d-b5c3-49bd-adee-3a9fb2e9e25a",
        "outputId": "127f169e-8f30-47a9-9fae-52d7d7e68d42"
      },
      "outputs": [
        {
          "data": {
            "image/png": "[encoded data removed]",
            "text/plain": [
              "<Figure size 1200x500 with 2 Axes>"
            ]
          },
          "metadata": {},
          "output_type": "display_data"
        }
      ],
      "source": [
        "plot_split_tuples(\n",
        "    split_loss,\n",
        "    title=\"Loss\",\n",
        "    ylabel1=\"Actor loss\",\n",
        "    ylabel2=\"Critic loss\",\n",
        "    version=2\n",
        ")"
      ]
    },
    {
      "cell_type": "code",
      "execution_count": null,
      "id": "93fd23e4-2c15-4ab1-bf0e-f0161118a92c",
      "metadata": {
        "id": "93fd23e4-2c15-4ab1-bf0e-f0161118a92c",
        "outputId": "40845717-61af-40ec-a20a-78b214504f26"
      },
      "outputs": [
        {
          "data": {
            "image/png": "[encoded data removed]",
            "text/plain": [
              "<Figure size 1200x500 with 1 Axes>"
            ]
          },
          "metadata": {},
          "output_type": "display_data"
        }
      ],
      "source": [
        "plot_split_tuples(\n",
        "    all_rewards,\n",
        "    title=\"Rewards\",\n",
        "    ylabel1=\"Rewards\",\n",
        "    version=2,\n",
        "    is_pair=False\n",
        ")"
      ]
    },
    {
      "cell_type": "code",
      "execution_count": null,
      "id": "2a8e7bf3-7e03-4547-a334-7840737662ae",
      "metadata": {
        "id": "2a8e7bf3-7e03-4547-a334-7840737662ae"
      },
      "outputs": [],
      "source": [
        "split_loss = []\n",
        "split_reward = []"
      ]
    },
    {
      "cell_type": "code",
      "execution_count": null,
      "id": "08e4a942-8669-42f9-a551-cefe73db379a",
      "metadata": {
        "id": "08e4a942-8669-42f9-a551-cefe73db379a"
      },
      "outputs": [],
      "source": [
        "for idx in range(0, len(all_loss)):\n",
        "    if (idx + 1) % 1024 == 0:\n",
        "        split_loss.append(all_loss[idx])\n",
        "\n",
        "for idx in range(0, len(all_rewards)):\n",
        "    if (idx + 1) % 1024 == 0:\n",
        "        split_reward.append(all_rewards[idx])"
      ]
    },
    {
      "cell_type": "code",
      "execution_count": 46,
      "id": "46fa13d6-d725-4269-bf03-5ba7b00cd1e1",
      "metadata": {
        "collapsed": true,
        "id": "46fa13d6-d725-4269-bf03-5ba7b00cd1e1",
        "outputId": "ccaee6f6-bd71-49a0-db56-93dbfe3f5dfe",
        "colab": {
          "base_uri": "https://localhost:8080/",
          "height": 141
        }
      },
      "outputs": [
        {
          "output_type": "error",
          "ename": "NameError",
          "evalue": "name 'all_rewards' is not defined",
          "traceback": [
            "\u001b[0;31m---------------------------------------------------------------------------\u001b[0m",
            "\u001b[0;31mNameError\u001b[0m                                 Traceback (most recent call last)",
            "\u001b[0;32m<ipython-input-46-fa592422192b>\u001b[0m in \u001b[0;36m<cell line: 0>\u001b[0;34m()\u001b[0m\n\u001b[0;32m----> 1\u001b[0;31m \u001b[0mnp\u001b[0m\u001b[0;34m.\u001b[0m\u001b[0margmax\u001b[0m\u001b[0;34m(\u001b[0m\u001b[0mall_rewards\u001b[0m\u001b[0;34m)\u001b[0m\u001b[0;34m\u001b[0m\u001b[0;34m\u001b[0m\u001b[0m\n\u001b[0m",
            "\u001b[0;31mNameError\u001b[0m: name 'all_rewards' is not defined"
          ]
        }
      ],
      "source": [
        "np.argmax(all_rewards)"
      ]
    },
    {
      "cell_type": "markdown",
      "id": "3bd5b44e-55cd-43bb-89dd-87c28cc10a9c",
      "metadata": {
        "id": "3bd5b44e-55cd-43bb-89dd-87c28cc10a9c"
      },
      "source": [
        "# Testing"
      ]
    },
    {
      "cell_type": "markdown",
      "id": "965e5731-8d24-4482-82ed-7226fb18fa5c",
      "metadata": {
        "id": "965e5731-8d24-4482-82ed-7226fb18fa5c"
      },
      "source": [
        "Test the model on the environment and get a cool video"
      ]
    },
    {
      "cell_type": "code",
      "source": [
        "actor_model = keras.saving.load_model('./actor-model-v1.keras')"
      ],
      "metadata": {
        "id": "ZEe6Eu2ww_cw"
      },
      "id": "ZEe6Eu2ww_cw",
      "execution_count": 41,
      "outputs": []
    },
    {
      "cell_type": "code",
      "execution_count": 42,
      "id": "72ec281c-d005-499a-b416-4d0e43437a0a",
      "metadata": {
        "id": "72ec281c-d005-499a-b416-4d0e43437a0a"
      },
      "outputs": [],
      "source": [
        "saving_steps = 1000"
      ]
    },
    {
      "cell_type": "code",
      "execution_count": 43,
      "id": "4df86c64-5527-43fd-aaba-9fe9c3b875ef",
      "metadata": {
        "id": "4df86c64-5527-43fd-aaba-9fe9c3b875ef"
      },
      "outputs": [],
      "source": [
        "saving_env = gym.make_vec(\"BipedalWalker-v3\", hardcore=False, render_mode=\"rgb_array_list\", num_envs=1)"
      ]
    },
    {
      "cell_type": "code",
      "execution_count": 44,
      "id": "5a5d8584-9529-4144-bc52-1fe4fce40b08",
      "metadata": {
        "id": "5a5d8584-9529-4144-bc52-1fe4fce40b08"
      },
      "outputs": [],
      "source": [
        "def save_gameplay(\n",
        "    model: tf.keras.Model,\n",
        "    max_steps: int = 1000,\n",
        "    env: gym.Env | None = None,\n",
        "):\n",
        "    save_buffer = ReplayBuffer(\n",
        "        max_size=buffer_size,\n",
        "        observation_space=train_env.single_observation_space,\n",
        "        action_space=train_env.single_action_space\n",
        "    )\n",
        "\n",
        "    _ = play_game(\n",
        "        model=model,\n",
        "        env=env,\n",
        "        steps=max_steps,\n",
        "        buffer=save_buffer,\n",
        "        one_episode=True,\n",
        "        observations=None,\n",
        "        sampler=Sampler(0)\n",
        "    )\n",
        "\n",
        "    render = env.render()\n",
        "\n",
        "    gym.utils.save_video.save_video(\n",
        "        frames=render[0],\n",
        "        video_folder=\"videos\",\n",
        "        fps=env.metadata[\"render_fps\"],\n",
        "    )\n",
        "\n",
        "    return render"
      ]
    },
    {
      "cell_type": "code",
      "execution_count": 45,
      "id": "2a3b6d14-c8b4-4caa-a904-5447f3d9aab5",
      "metadata": {
        "id": "2a3b6d14-c8b4-4caa-a904-5447f3d9aab5"
      },
      "outputs": [],
      "source": [
        "res = save_gameplay(actor_model, max_steps=saving_steps, env=saving_env)"
      ]
    },
    {
      "cell_type": "code",
      "source": [],
      "metadata": {
        "id": "yfY6VJp9yk7S"
      },
      "id": "yfY6VJp9yk7S",
      "execution_count": null,
      "outputs": []
    }
  ],
  "metadata": {
    "kernelspec": {
      "display_name": "Python 3 (ipykernel)",
      "language": "python",
      "name": "python3"
    },
    "language_info": {
      "codemirror_mode": {
        "name": "ipython",
        "version": 3
      },
      "file_extension": ".py",
      "mimetype": "text/x-python",
      "name": "python",
      "nbconvert_exporter": "python",
      "pygments_lexer": "ipython3",
      "version": "3.11.11"
    },
    "colab": {
      "provenance": []
    }
  },
  "nbformat": 4,
  "nbformat_minor": 5
}